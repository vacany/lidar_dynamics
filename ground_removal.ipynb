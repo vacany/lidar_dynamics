{
 "cells": [
  {
   "cell_type": "code",
   "execution_count": 1,
   "id": "9bbcc0c9",
   "metadata": {},
   "outputs": [],
   "source": [
    "import numpy as np\n",
    "import matplotlib.pyplot as plt\n",
    "#%matplotlib inline \n",
    "import math\n",
    "import copy\n",
    "import os\n",
    "from mayavi import mlab"
   ]
  },
  {
   "cell_type": "code",
   "execution_count": 83,
   "id": "533e0355",
   "metadata": {},
   "outputs": [],
   "source": [
    "from semantic_kitti_api_laserscan import *\n",
    "import yaml\n",
    "\n",
    "CFG = yaml.safe_load(open(\"semantic-kitti-api/config/semantic-kitti.yaml\", 'r'))\n",
    "path = \"semantic_kitti_data\"\n",
    "color_dict = CFG[\"color_map\"]\n",
    "nclasses = len(color_dict)\n",
    "scan = SemLaserScan(nclasses, color_dict, project=True)\n",
    "poses = np.loadtxt(\"semantic_kitti_data/sequences/01/poses.txt\")\n",
    "poses = poses.reshape(-1,3,4)\n",
    "\n",
    "def transform_mat(_pts, pose):\n",
    "    # multiply matrix of 3d points by transformation matrix, which will result in original 3d points\n",
    "    # being synchronized across multiple sequences, meaning a rigid object will stay in place even though\n",
    "    # the LIDAR is moving\n",
    "    calibration_tr = np.array([4.276802385584e-04, -9.999672484946e-01, -8.084491683471e-03, -1.198459927713e-02, \n",
    "                               -7.210626507497e-03, 8.081198471645e-03, -9.999413164504e-01, -5.403984729748e-02, \n",
    "                               9.999738645903e-01, 4.859485810390e-04, -7.206933692422e-03, -2.921968648686e-01,\n",
    "                               0, 0, 0, 1])\n",
    "    tr = calibration_tr.reshape(4,4)\n",
    "    tr_inv = np.linalg.inv(tr)\n",
    "    pose = np.matmul(tr_inv, np.matmul(pose, tr))\n",
    "    n, _ = _pts.shape\n",
    "    x = np.hstack((_pts, np.ones((n, 1))))\n",
    "    x = np.matmul(pose, x.transpose()).transpose()\n",
    "    return x[:, 0:3]\n",
    "\n",
    "\n",
    "def get_frame_ground_only(number):\n",
    "    file_name = \"0\" * int(6 - (len(str(number)))) + str(number)\n",
    "    scan = np.fromfile(\"semantic_kitti_data/sequences/01/velodyne/\" + file_name + \".bin\", dtype=np.float32)\n",
    "    labels = np.fromfile(\"semantic_kitti_data/sequences/01/labels/\" + file_name + \".label\", dtype=np.uint32)\n",
    "    scan = scan.reshape((-1, 4))\n",
    "    intensities = scan[:,3]\n",
    "    pts = scan[:,0:3]\n",
    "    \n",
    "    pose = poses[number]\n",
    "    pose = np.vstack((pose, [0,0,0,1]))\n",
    "    pts = transform_mat(pts, pose).reshape(-1,3)\n",
    "    \n",
    "    mask = np.array(labels == 40) | np.array(labels == 72) | np.array(labels == 44)\\\n",
    "        | np.array(labels == 48) | np.array(labels == 49)\n",
    "    pts_without_ground = pts[mask]\n",
    "    intensities = intensities[mask]\n",
    "    return pts_without_ground, intensities\n",
    "\n",
    "def get_frame(number):\n",
    "    file_name = \"0\" * int(6 - (len(str(number)))) + str(number)\n",
    "    scan = np.fromfile(\"semantic_kitti_data/sequences/01/velodyne/\" + file_name + \".bin\", dtype=np.float32)\n",
    "    labels = np.fromfile(\"semantic_kitti_data/sequences/01/labels/\" + file_name + \".label\", dtype=np.uint32)\n",
    "    scan = scan.reshape((-1, 4))\n",
    "    intensities = scan[:,3]\n",
    "    pts = scan[:,0:3]\n",
    "    \n",
    "    pose = poses[number]\n",
    "    pose = np.vstack((pose, [0,0,0,1]))\n",
    "    pts = transform_mat(pts, pose).reshape(-1,3)\n",
    "    \n",
    "    mask = np.array(labels != 40) & np.array(labels != 72) & np.array(labels != 44)\\\n",
    "        & np.array(labels != 48) & np.array(labels != 49)\n",
    "    pts_without_ground = pts[mask]\n",
    "    intensities = intensities[mask]\n",
    "    return pts_without_ground, intensities\n",
    "\n",
    "def get_frame_with_ground(number):\n",
    "    file_name = \"0\" * int(6 - (len(str(number)))) + str(number)\n",
    "    scan = np.fromfile(\"semantic_kitti_data/sequences/01/velodyne/\" + file_name + \".bin\", dtype=np.float32)\n",
    "    labels = np.fromfile(\"semantic_kitti_data/sequences/01/labels/\" + file_name + \".label\", dtype=np.uint32)\n",
    "    scan = scan.reshape((-1, 4))\n",
    "    intensities = scan[:,3]\n",
    "    pts = scan[:,0:3]\n",
    "    \n",
    "    pose = poses[number]\n",
    "    pose = np.vstack((pose, [0,0,0,1]))\n",
    "    pts = transform_mat(pts, pose).reshape(-1,3)\n",
    "    \n",
    "    mask = np.array(labels != 40) & np.array(labels != 72) & np.array(labels != 44)\\\n",
    "        & np.array(labels != 48) & np.array(labels != 49)\n",
    "    pts_without_ground = pts\n",
    "    intensities = intensities\n",
    "    return pts_without_ground, intensities"
   ]
  },
  {
   "cell_type": "code",
   "execution_count": 85,
   "id": "27bc06d3",
   "metadata": {},
   "outputs": [],
   "source": [
    "ground_pts, ground_intens = get_frame_ground_only(10)\n",
    "#mlab.points3d(pts1[:,0], pts1[:,1], pts1[:,2], mode='cube', scale_mode = 'none', scale_factor=0.05, color=(1,0,0))\n",
    "mlab.points3d(pts1[:,0], pts1[:,1], pts1[:,2], intens, mode='point')\n",
    "\n",
    "mlab.show()"
   ]
  },
  {
   "cell_type": "code",
   "execution_count": 86,
   "id": "e0340758",
   "metadata": {},
   "outputs": [],
   "source": [
    "pts1, intens = get_frame_with_ground(10)\n",
    "#mlab.points3d(pts1[:,0], pts1[:,1], pts1[:,2], mode='cube', scale_mode = 'none', scale_factor=0.05, color=(1,0,0))\n",
    "mlab.points3d(pts1[:,0], pts1[:,1], pts1[:,2], intens, mode='point')\n",
    "\n",
    "mlab.show()"
   ]
  },
  {
   "cell_type": "code",
   "execution_count": 87,
   "id": "1a73110e",
   "metadata": {},
   "outputs": [],
   "source": [
    "pts_without_ground, intens_without_ground = get_frame(10)\n"
   ]
  },
  {
   "cell_type": "code",
   "execution_count": 75,
   "id": "ee75819b",
   "metadata": {},
   "outputs": [],
   "source": [
    "# https://medium.com/@ajithraj_gangadharan/3d-ransac-algorithm-for-lidar-pcd-segmentation-315d2a51351\n",
    "import random\n",
    "def ransac(points, max_iterations, distance_ratio_threshold, min_inliers_to_pass):\n",
    "    inliers_result = []\n",
    "    outliers_result = []\n",
    "\n",
    "    for _ in range(max_iterations):\n",
    "        # Add 3 random indexes\n",
    "        random.seed()\n",
    "        inliers = []\n",
    "        outliers = []\n",
    "        n, _ = points.shape\n",
    "        while len(inliers) < 3:\n",
    "            random_index = random.randint(0, n)\n",
    "            inliers.append(random_index)\n",
    "\n",
    "        x1, y1, z1 = points[inliers[0]]\n",
    "        x2, y2, z2 = points[inliers[1]]\n",
    "        x3, y3, z3 = points[inliers[2]]\n",
    "        # Plane Equation --> ax + by + cz + d = 0\n",
    "        # Value of Constants for inlier plane\n",
    "        a = (y2 - y1) * (z3 - z1) - (z2 - z1) * (y3 - y1)\n",
    "        b = (z2 - z1) * (x3 - x1) - (x2 - x1) * (z3 - z1)\n",
    "        c = (x2 - x1) * (y3 - y1) - (y2 - y1) * (x3 - x1)\n",
    "        d = -(a * x1 + b * y1 + c * z1)\n",
    "        plane_lenght = max(0.1, math.sqrt(a * a + b * b + c * c))\n",
    "\n",
    "        for idx, point in enumerate(points):\n",
    "            if idx in inliers:\n",
    "                # point already used\n",
    "                continue\n",
    "            x, y, z = point\n",
    "\n",
    "            # Calculate the distance of the point to the inlier plane\n",
    "            distance = math.fabs(a * x + b * y + c * z + d) / plane_lenght\n",
    "            # Add the point as inlier, if within the threshold distancec ratio\n",
    "            if distance <= distance_ratio_threshold:\n",
    "                inliers.append(idx)\n",
    "            else:\n",
    "                outliers.append(idx)\n",
    "\n",
    "        # Update the set for retaining the maximum number of inlier points\n",
    "        if len(inliers) > len(inliers_result):\n",
    "            inliers_result = inliers\n",
    "            outliers_result = outliers\n",
    "\n",
    "        if len(inliers) >= min_inliers_to_pass:\n",
    "            break\n",
    "    # Segregate inliers and outliers from the point cloud\n",
    "    #inlier_points = points[inliers_result]\n",
    "    #outlier_points = points[outliers_result]\n",
    "\n",
    "    return inliers_result, outliers_result"
   ]
  },
  {
   "cell_type": "code",
   "execution_count": 76,
   "id": "1cf7571f",
   "metadata": {},
   "outputs": [],
   "source": [
    "# https://stackoverflow.com/questions/38754668/plane-fitting-in-a-3d-point-cloud\n",
    "def PCA(data, correlation=False, sort=True):\n",
    "    \"\"\" Applies Principal Component Analysis to the data\n",
    "\n",
    "Parameters\n",
    "----------        \n",
    "data: array\n",
    "    The array containing the data. The array must have NxM dimensions, where each\n",
    "    of the N rows represents a different individual record and each of the M columns\n",
    "    represents a different variable recorded for that individual record.\n",
    "        array([\n",
    "        [V11, ... , V1m],\n",
    "        ...,\n",
    "        [Vn1, ... , Vnm]])\n",
    "\n",
    "correlation(Optional) : bool\n",
    "        Set the type of matrix to be computed (see Notes):\n",
    "            If True compute the correlation matrix.\n",
    "            If False(Default) compute the covariance matrix. \n",
    "            \n",
    "sort(Optional) : bool\n",
    "        Set the order that the eigenvalues/vectors will have\n",
    "            If True(Default) they will be sorted (from higher value to less).\n",
    "            If False they won't.   \n",
    "Returns\n",
    "-------\n",
    "eigenvalues: (1,M) array\n",
    "    The eigenvalues of the corresponding matrix.\n",
    "    \n",
    "eigenvector: (M,M) array\n",
    "    The eigenvectors of the corresponding matrix.\n",
    "\n",
    "Notes\n",
    "-----\n",
    "The correlation matrix is a better choice when there are different magnitudes\n",
    "representing the M variables. Use covariance matrix in other cases.\n",
    "\n",
    "    \"\"\"\n",
    "\n",
    "    mean = np.mean(data, axis=0)\n",
    "\n",
    "    data_adjust = data - mean\n",
    "\n",
    "    #: the data is transposed due to np.cov/corrcoef syntax\n",
    "    if correlation:\n",
    "\n",
    "        matrix = np.corrcoef(data_adjust.T)\n",
    "\n",
    "    else:\n",
    "        matrix = np.cov(data_adjust.T)\n",
    "\n",
    "    eigenvalues, eigenvectors = np.linalg.eig(matrix)\n",
    "\n",
    "    if sort:\n",
    "        #: sort eigenvalues and eigenvectors\n",
    "        sort = eigenvalues.argsort()[::-1]\n",
    "        eigenvalues = eigenvalues[sort]\n",
    "        eigenvectors = eigenvectors[:, sort]\n",
    "\n",
    "    return eigenvalues, eigenvectors\n",
    "\n",
    "\n",
    "def best_fitting_plane(points, equation=False):\n",
    "    \"\"\" Computes the best fitting plane of the given points\n",
    "\n",
    "Parameters\n",
    "----------        \n",
    "points: array\n",
    "    The x,y,z coordinates corresponding to the points from which we want\n",
    "    to define the best fitting plane. Expected format:\n",
    "        array([\n",
    "        [x1,y1,z1],\n",
    "        ...,\n",
    "        [xn,yn,zn]])\n",
    "        \n",
    "equation(Optional) : bool\n",
    "        Set the oputput plane format:\n",
    "            If True return the a,b,c,d coefficients of the plane.\n",
    "            If False(Default) return 1 Point and 1 Normal vector.    \n",
    "Returns\n",
    "-------\n",
    "a, b, c, d : float\n",
    "    The coefficients solving the plane equation.\n",
    "\n",
    "or\n",
    "\n",
    "point, normal: array\n",
    "    The plane defined by 1 Point and 1 Normal vector. With format:\n",
    "    array([Px,Py,Pz]), array([Nx,Ny,Nz])\n",
    "    \n",
    "    \"\"\"\n",
    "\n",
    "    w, v = PCA(points)\n",
    "\n",
    "    #: the normal of the plane is the last eigenvector\n",
    "    normal = v[:, 2]\n",
    "\n",
    "    #: get a point from the plane\n",
    "    point = np.mean(points, axis=0)\n",
    "\n",
    "    if equation:\n",
    "        a, b, c = normal\n",
    "        d = -(np.dot(normal, point))\n",
    "        return a, b, c, d\n",
    "\n",
    "    else:\n",
    "        return point, normal\n"
   ]
  },
  {
   "cell_type": "code",
   "execution_count": 71,
   "id": "46da68a4",
   "metadata": {},
   "outputs": [
    {
     "name": "stdout",
     "output_type": "stream",
     "text": [
      "filtered 35.96% of ground\n"
     ]
    }
   ],
   "source": [
    "a, b, c, d = best_fitting_plane(pts1, True)\n",
    "\n",
    "inliers = []\n",
    "outliers = []\n",
    "\n",
    "plane_lenght = max(0.1, math.sqrt(a * a + b * b + c * c))\n",
    "distance_ratio_threshold = 0.2\n",
    "for idx, point in enumerate(pts1):\n",
    "    x, y, z = point\n",
    "    distance = math.fabs(a * x + b * y + c * z + d) / plane_lenght\n",
    "    if distance <= distance_ratio_threshold:\n",
    "        inliers.append(idx)\n",
    "    else:\n",
    "        outliers.append(idx)\n",
    "\n",
    "inliers = pts1[inliers]\n",
    "outliers_intens = intens[outliers]\n",
    "outliers = pts1[outliers]\n",
    "\n",
    "print(f\"filtered {(inliers.shape[0]/number_of_ground_points) * 100 :.2f}% of ground\")\n",
    "mlab.points3d(outliers[:, 0], outliers[:, 1], outliers[:, 2], outliers_intens, mode='point')\n",
    "mlab.show()\n"
   ]
  },
  {
   "cell_type": "code",
   "execution_count": null,
   "id": "3b77c714",
   "metadata": {},
   "outputs": [],
   "source": []
  },
  {
   "cell_type": "code",
   "execution_count": 77,
   "id": "eeea0742",
   "metadata": {},
   "outputs": [],
   "source": [
    "inliers_res, outliers_res = ransac(pts1, 20, 0.2, len(pts1)/5)\n",
    "inliers = pts1[inliers_res]\n",
    "outliers = pts1[outliers_res]\n",
    "outliers_intens = intens[outliers_res]"
   ]
  },
  {
   "cell_type": "code",
   "execution_count": 82,
   "id": "d3d40dd2",
   "metadata": {},
   "outputs": [
    {
     "name": "stdout",
     "output_type": "stream",
     "text": [
      "filtered 78.88% of ground\n"
     ]
    }
   ],
   "source": [
    "print(f\"filtered {(inliers.shape[0]/number_of_ground_points) * 100 :.2f}% of ground\")\n",
    "mlab.points3d(outliers[:, 0], outliers[:, 1], outliers[:, 2], outliers_intens, mode='point')\n",
    "mlab.points3d(inliers[:, 0], inliers[:, 1], inliers[:, 2], color=(1,1,0), mode='point')\n",
    "\n",
    "mlab.show()"
   ]
  },
  {
   "cell_type": "code",
   "execution_count": 88,
   "id": "9840a08f",
   "metadata": {},
   "outputs": [
    {
     "data": {
      "text/plain": [
       "(76186, 3)"
      ]
     },
     "execution_count": 88,
     "metadata": {},
     "output_type": "execute_result"
    }
   ],
   "source": [
    "inliers.shape"
   ]
  },
  {
   "cell_type": "code",
   "execution_count": 81,
   "id": "74ed8041",
   "metadata": {},
   "outputs": [
    {
     "data": {
      "text/plain": [
       "(46022, 3)"
      ]
     },
     "execution_count": 81,
     "metadata": {},
     "output_type": "execute_result"
    }
   ],
   "source": [
    "outliers.shape"
   ]
  },
  {
   "cell_type": "code",
   "execution_count": 90,
   "id": "689c348d",
   "metadata": {},
   "outputs": [
    {
     "name": "stderr",
     "output_type": "stream",
     "text": [
      "/Users/vojtechbartek/opt/anaconda3/envs/bakalarka/lib/python3.7/site-packages/ipykernel_launcher.py:1: DeprecationWarning: elementwise comparison failed; this will raise an error in the future.\n",
      "  \"\"\"Entry point for launching an IPython kernel.\n"
     ]
    },
    {
     "data": {
      "text/plain": [
       "False"
      ]
     },
     "execution_count": 90,
     "metadata": {},
     "output_type": "execute_result"
    }
   ],
   "source": [
    "inliers == ground_pts"
   ]
  },
  {
   "cell_type": "code",
   "execution_count": null,
   "id": "e4f1e38a",
   "metadata": {},
   "outputs": [],
   "source": [
    "np.any(np.all(voxels4 == dynamic_voxel, axis=1))"
   ]
  },
  {
   "cell_type": "code",
   "execution_count": 95,
   "id": "d3fdf7ad",
   "metadata": {},
   "outputs": [],
   "source": [
    "def calculate_ground_removal_accuracy(ground_points, predicted_ground_points):\n",
    "    correct = 0\n",
    "    for point in predicted_ground_points:\n",
    "        if np.any(np.all(ground_points == point, axis=1)):\n",
    "            correct += 1\n",
    "    \n",
    "    num_of_predicted = predicted_ground_points.shape[0]\n",
    "    tp = correct/ground_points.shape[0]\n",
    "    fp = (num_of_predicted - correct) / num_of_predicted\n",
    "    return tp,fp "
   ]
  },
  {
   "cell_type": "code",
   "execution_count": 96,
   "id": "d0b2bba8",
   "metadata": {},
   "outputs": [
    {
     "ename": "KeyboardInterrupt",
     "evalue": "",
     "output_type": "error",
     "traceback": [
      "\u001b[0;31m---------------------------------------------------------------------------\u001b[0m",
      "\u001b[0;31mKeyboardInterrupt\u001b[0m                         Traceback (most recent call last)",
      "\u001b[0;32m<ipython-input-96-988f0d4f96ba>\u001b[0m in \u001b[0;36m<module>\u001b[0;34m\u001b[0m\n\u001b[0;32m----> 1\u001b[0;31m \u001b[0mcalculate_ground_removal_accuracy\u001b[0m\u001b[0;34m(\u001b[0m\u001b[0minliers\u001b[0m\u001b[0;34m,\u001b[0m \u001b[0mground_pts\u001b[0m\u001b[0;34m)\u001b[0m\u001b[0;34m\u001b[0m\u001b[0;34m\u001b[0m\u001b[0m\n\u001b[0m",
      "\u001b[0;32m<ipython-input-95-86dfc6322224>\u001b[0m in \u001b[0;36mcalculate_ground_removal_accuracy\u001b[0;34m(ground_points, predicted_ground_points)\u001b[0m\n\u001b[1;32m      2\u001b[0m     \u001b[0mcorrect\u001b[0m \u001b[0;34m=\u001b[0m \u001b[0;36m0\u001b[0m\u001b[0;34m\u001b[0m\u001b[0;34m\u001b[0m\u001b[0m\n\u001b[1;32m      3\u001b[0m     \u001b[0;32mfor\u001b[0m \u001b[0mpoint\u001b[0m \u001b[0;32min\u001b[0m \u001b[0mpredicted_ground_points\u001b[0m\u001b[0;34m:\u001b[0m\u001b[0;34m\u001b[0m\u001b[0;34m\u001b[0m\u001b[0m\n\u001b[0;32m----> 4\u001b[0;31m         \u001b[0;32mif\u001b[0m \u001b[0mnp\u001b[0m\u001b[0;34m.\u001b[0m\u001b[0many\u001b[0m\u001b[0;34m(\u001b[0m\u001b[0mnp\u001b[0m\u001b[0;34m.\u001b[0m\u001b[0mall\u001b[0m\u001b[0;34m(\u001b[0m\u001b[0mground_points\u001b[0m \u001b[0;34m==\u001b[0m \u001b[0mpoint\u001b[0m\u001b[0;34m,\u001b[0m \u001b[0maxis\u001b[0m\u001b[0;34m=\u001b[0m\u001b[0;36m1\u001b[0m\u001b[0;34m)\u001b[0m\u001b[0;34m)\u001b[0m\u001b[0;34m:\u001b[0m\u001b[0;34m\u001b[0m\u001b[0;34m\u001b[0m\u001b[0m\n\u001b[0m\u001b[1;32m      5\u001b[0m             \u001b[0mcorrect\u001b[0m \u001b[0;34m+=\u001b[0m \u001b[0;36m1\u001b[0m\u001b[0;34m\u001b[0m\u001b[0;34m\u001b[0m\u001b[0m\n\u001b[1;32m      6\u001b[0m \u001b[0;34m\u001b[0m\u001b[0m\n",
      "\u001b[0;31mKeyboardInterrupt\u001b[0m: "
     ]
    }
   ],
   "source": [
    "calculate_ground_removal_accuracy(inliers, ground_pts)"
   ]
  },
  {
   "cell_type": "markdown",
   "id": "bd125a40",
   "metadata": {},
   "source": [
    "## TODO oznacit zemi jako 1 a nezemi jako 0 a mit stejne velike pole jako original PCA\n",
    "\n",
    "\n"
   ]
  },
  {
   "cell_type": "code",
   "execution_count": null,
   "id": "07e8cc5e",
   "metadata": {},
   "outputs": [],
   "source": []
  }
 ],
 "metadata": {
  "kernelspec": {
   "display_name": "bakalarka",
   "language": "python",
   "name": "bakalarka"
  },
  "language_info": {
   "codemirror_mode": {
    "name": "ipython",
    "version": 3
   },
   "file_extension": ".py",
   "mimetype": "text/x-python",
   "name": "python",
   "nbconvert_exporter": "python",
   "pygments_lexer": "ipython3",
   "version": "3.7.11"
  }
 },
 "nbformat": 4,
 "nbformat_minor": 5
}
