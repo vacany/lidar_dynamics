{
 "cells": [
  {
   "cell_type": "code",
   "execution_count": 101,
   "id": "90168e57",
   "metadata": {},
   "outputs": [
    {
     "name": "stdout",
     "output_type": "stream",
     "text": [
      "The autoreload extension is already loaded. To reload it, use:\n",
      "  %reload_ext autoreload\n"
     ]
    }
   ],
   "source": [
    "from tools.ground_removal import *\n",
    "from tools.raycasting import *\n",
    "import numpy as np\n",
    "from sklearn.cluster import DBSCAN\n",
    "from mayavi import mlab\n",
    "from tools.visualization import *\n",
    "from scipy.spatial import KDTree\n",
    "import yaml\n",
    "%load_ext autoreload\n",
    "%autoreload 2"
   ]
  },
  {
   "cell_type": "code",
   "execution_count": 163,
   "id": "b7f28c59",
   "metadata": {},
   "outputs": [],
   "source": [
    "gr = Ground_removal('01')\n",
    "first_frame = 1\n",
    "second_frame = first_frame + 2\n",
    "pts, intens = gr.get_synchronized_frames_without_ground(first_frame,1)\n",
    "pts2, intens2 = gr.get_synchronized_frames_without_ground(second_frame,1)"
   ]
  },
  {
   "cell_type": "code",
   "execution_count": 164,
   "id": "3db5df74",
   "metadata": {},
   "outputs": [],
   "source": [
    "mlab.points3d(pts[:,0], pts[:,1], pts[:,2], color=(0,1,0), mode='point')\n",
    "mlab.points3d(pts2[:,0], pts2[:,1], pts2[:,2], color=(0,0,1), mode='point')\n",
    "mlab.show()"
   ]
  },
  {
   "cell_type": "code",
   "execution_count": 165,
   "id": "15d61998",
   "metadata": {},
   "outputs": [],
   "source": [
    "clustering = DBSCAN(eps=0.6, min_samples=10).fit(pts[:,:3])\n",
    "mlab.points3d(pts[:,0], pts[:,1], pts[:,2], clustering.labels_, mode='point')\n",
    "mlab.show()"
   ]
  },
  {
   "cell_type": "code",
   "execution_count": 317,
   "id": "d87d1a64",
   "metadata": {},
   "outputs": [],
   "source": [
    "with open('raycast_config.yaml', 'r') as f:\n",
    "    config = yaml.safe_load(f)\n",
    "#figure = mlab.figure()\n",
    "rp = RaycastPredictor(config['CAR'], gr)\n",
    "mask = rp.predict(0)"
   ]
  },
  {
   "cell_type": "code",
   "execution_count": 122,
   "id": "eb7a124a",
   "metadata": {},
   "outputs": [],
   "source": [
    "# Evaluation\n",
    "from tools.evaluation import evaluate_kitti\n",
    "with open('raycast_config.yaml', 'r') as f:\n",
    "    raycast_config = yaml.safe_load(f)\n",
    "with open('evaluate_cofig.yaml', 'r') as f:\n",
    "    evaluation_config = yaml.safe_load(f)"
   ]
  },
  {
   "cell_type": "code",
   "execution_count": 84,
   "id": "20b7ebf8",
   "metadata": {},
   "outputs": [
    {
     "name": "stdout",
     "output_type": "stream",
     "text": [
      "class PEDESTRIAN\n",
      "    sequence: 01\n",
      "        frame: 000000 -> precision 100%, recall 100%, iou 100%\n",
      "        frame: 000001 -> precision 100%, recall 100%, iou 100%\n",
      "        frame: 000002 -> precision 100%, recall 100%, iou 100%\n",
      "        frame: 000003 -> precision 100%, recall 100%, iou 100%\n",
      "        frame: 000004 -> precision 100%, recall 100%, iou 100%\n",
      "        frame: 000005 -> precision 100%, recall 100%, iou 100%\n",
      "        frame: 000006 -> precision 100%, recall 100%, iou 100%\n",
      "        frame: 000007 -> precision 100%, recall 100%, iou 100%\n",
      "        frame: 000390 -> precision 0%, recall 100%, iou 0.0%\n",
      "        frame: 000391 -> precision 0%, recall 100%, iou 0.0%\n",
      "        frame: 000392 -> precision 0%, recall 100%, iou 0.0%\n",
      "        frame: 000393 -> precision 0%, recall 100%, iou 0.0%\n",
      "        frame: 000394 -> precision 0%, recall 100%, iou 0.0%\n",
      "        frame: 000395 -> precision 0%, recall 100%, iou 0.0%\n",
      "        frame: 000396 -> precision 0%, recall 100%, iou 0.0%\n",
      "    average sequence precision 53.33%, average sequence recall 100.0%, average sequence iou 53.33%\n",
      "\n",
      "    sequence: 05\n",
      "        frame: 000580 -> Error, path ../../semantic_kitti_data/sequences/05/velodyne/000575.bin does not exists\n",
      "precision 100%, recall 0.0%, iou 0.0%\n",
      "        frame: 000581 -> Error, path ../../semantic_kitti_data/sequences/05/velodyne/000576.bin does not exists\n",
      "precision 100%, recall 0.0%, iou 0.0%\n",
      "        frame: 000582 -> Error, path ../../semantic_kitti_data/sequences/05/velodyne/000577.bin does not exists\n",
      "precision 100%, recall 0.0%, iou 0.0%\n",
      "        frame: 000583 -> Error, path ../../semantic_kitti_data/sequences/05/velodyne/000578.bin does not exists\n",
      "precision 100%, recall 0.0%, iou 0.0%\n",
      "        frame: 000584 -> Error, path ../../semantic_kitti_data/sequences/05/velodyne/000579.bin does not exists\n",
      "precision 100%, recall 0.0%, iou 0.0%\n",
      "        frame: 000600 -> precision 100%, recall 100%, iou 100%\n",
      "        frame: 000601 -> precision 100%, recall 0.0%, iou 0.0%\n",
      "        frame: 000602 -> precision 100%, recall 0.0%, iou 0.0%\n",
      "        frame: 000603 -> precision 100%, recall 0.0%, iou 0.0%\n",
      "        frame: 000604 -> precision 100%, recall 0.0%, iou 0.0%\n",
      "    average sequence precision 100.0%, average sequence recall 10.0%, average sequence iou 10.0%\n",
      "\n",
      "    sequence: 07\n",
      "        frame: 000000 -> precision 98.8%, recall 89.67%, iou 88.71%\n",
      "        frame: 000001 -> precision 99.4%, recall 91.16%, iou 90.66%\n",
      "        frame: 000002 -> precision 100.0%, recall 91.67%, iou 91.67%\n",
      "        frame: 000003 -> precision 100.0%, recall 89.66%, iou 89.66%\n",
      "        frame: 000004 -> precision 100.0%, recall 89.02%, iou 89.02%\n",
      "        frame: 000011 -> precision 100.0%, recall 92.59%, iou 92.59%\n",
      "        frame: 000012 -> precision 100.0%, recall 94.68%, iou 94.68%\n",
      "        frame: 000013 -> precision 100.0%, recall 92.93%, iou 92.93%\n",
      "        frame: 000014 -> precision 100.0%, recall 87.78%, iou 87.78%\n",
      "        frame: 000015 -> precision 100.0%, recall 88.51%, iou 88.51%\n",
      "    average sequence precision 99.82%, average sequence recall 90.77%, average sequence iou 90.62%\n",
      "\n",
      "for class PEDESTRIAN on KITTI dataset, the final average metrics are: precision 79.95% recall 71.65% and iou 51.61%\n",
      "evaluation finished in 30.6 seconds\n"
     ]
    },
    {
     "data": {
      "text/plain": [
       "[79.95, 71.65, 51.61]"
      ]
     },
     "execution_count": 84,
     "metadata": {},
     "output_type": "execute_result"
    }
   ],
   "source": [
    "evaluate_kitti(evaluation_config, RaycastPredictor, raycast_config)"
   ]
  },
  {
   "cell_type": "code",
   "execution_count": 123,
   "id": "b2ddcce9",
   "metadata": {},
   "outputs": [
    {
     "name": "stdout",
     "output_type": "stream",
     "text": [
      "skipping cluster 0 because of its length 7.784990156476539\n",
      "skipping cluster 4 because of its length 6.493863560320619\n",
      "skipping cluster 8 because of its length 6.945311537634723\n",
      "skipping cluster 9 because of its length 11.804226568581697\n",
      "skipping cluster 10 because of its length 3.5351801798841223\n",
      "skipping cluster 23 because of its length 2.0365542066358557\n",
      "skipping cluster 30 because of its length 2.053924154652549\n",
      "skipping cluster 32 because of its length 2.3904074577645247\n",
      "skipping cluster 43 because of its length 2.4371958442987705\n",
      "skipping cluster 56 because of its length 7.7369150279363055\n",
      "skipping cluster 59 because of its length 4.048820520411937\n",
      "ray casting to cluster 6 to future : Number of checks for raycast is 56, ray has not reached the target\n",
      "ray casting to cluster 37 to future : Number of checks for raycast is 41, ray has not reached the target\n",
      "ray casting to cluster 52 to future : Number of checks for raycast is 77, ray has not reached the target\n",
      "ray casting to cluster 58 to future : Number of checks for raycast is 45, ray has not reached the target\n",
      "ray casting to cluster 13 to past : Number of checks for raycast is 43, ray has not reached the target\n",
      "ray casting to cluster 37 to past : Number of checks for raycast is 58, ray has not reached the target\n",
      "dynamic objects: []\n"
     ]
    }
   ],
   "source": [
    "# closer investigation\n",
    "gr = Ground_removal('05')\n",
    "figure = mlab.figure()\n",
    "rp = RaycastPredictor(raycast_config['PEDESTRIAN'], gr, figure, verbose=True)\n",
    "#rp.predict(580); pts, intens = gr.get_frame(585)\n",
    "#mlab.points3d(pts[:,0], pts[:,1], pts[:,2], intens, figure=figure, mode='point')\n",
    "plot_prediction_pedestrians(gr, rp, 606, figure)\n",
    "mlab.show()"
   ]
  },
  {
   "cell_type": "markdown",
   "id": "a384b150",
   "metadata": {},
   "source": [
    "### TODO figure out why cluster 13 is only raycasted to past and not future"
   ]
  },
  {
   "cell_type": "code",
   "execution_count": 117,
   "id": "e112d34a",
   "metadata": {},
   "outputs": [],
   "source": [
    "pts, intens = gr.get_frame_without_ground(606)\n",
    "clustering = DBSCAN(eps=raycast_config['PEDESTRIAN']['EPS'],\n",
    "                    min_samples=raycast_config['PEDESTRIAN']['MIN_SAMPLES']).fit(pts[:,:3])\n",
    "mask = clustering.labels_ == 13\n",
    "mlab.points3d(pts[:,0][mask], pts[:,1][mask], pts[:,2][mask], color=(1,0,0), mode='point')\n",
    "mlab.points3d(pts[:,0][~mask], pts[:,1][~mask], pts[:,2][~mask], color=(1,1,1), mode='point')\n",
    "mlab.show()"
   ]
  },
  {
   "cell_type": "code",
   "execution_count": 125,
   "id": "326c3816",
   "metadata": {},
   "outputs": [],
   "source": [
    "pts, intens = gr.get_frame_without_ground(601)\n",
    "pts2, intens = gr.get_frame_without_ground(606)\n",
    "pts3, _ = gr.get_frame_without_ground(611)\n",
    "mlab.points3d(pts[:,0], pts[:,1], pts[:,2], color=(1,0,0), mode='point')\n",
    "mlab.points3d(pts2[:,0], pts2[:,1], pts2[:,2], color=(0,1,0), mode='point')\n",
    "mlab.points3d(pts3[:,0], pts3[:,1], pts3[:,2], color=(0,0,1), mode='point')\n",
    "mlab.show()"
   ]
  },
  {
   "cell_type": "code",
   "execution_count": 119,
   "id": "daef8427",
   "metadata": {},
   "outputs": [],
   "source": [
    "pts, intens = gr.get_synchronized_frames_without_ground(601,5)\n",
    "mlab.points3d(pts[:,0], pts[:,1], pts[:,2], pts[:,3], mode='point')\n",
    "mlab.show()"
   ]
  },
  {
   "cell_type": "code",
   "execution_count": 25,
   "id": "3ac62fd3",
   "metadata": {},
   "outputs": [
    {
     "name": "stdout",
     "output_type": "stream",
     "text": [
      "3.8669458653616857 4.55708538003114 1.7237112914907087\n"
     ]
    }
   ],
   "source": [
    "cluster_pts = pts[mask]\n",
    "bb_x_min =  cluster_pts[:,0].min()\n",
    "bb_x_max =  cluster_pts[:,0].max()\n",
    "bb_y_min =  cluster_pts[:,1].min()\n",
    "bb_y_max =  cluster_pts[:,1].max()\n",
    "bb_z_min =  cluster_pts[:,2].min()\n",
    "bb_z_max =  cluster_pts[:,2].max()\n",
    "\n",
    "width = min(abs(bb_x_max - bb_x_min), abs(bb_y_max - bb_y_min))\n",
    "length = max(abs(bb_x_max - bb_x_min), abs(bb_y_max - bb_y_min))\n",
    "height = abs(bb_z_max - bb_z_min)\n",
    "print(width,length, height)"
   ]
  },
  {
   "cell_type": "markdown",
   "id": "467522f2",
   "metadata": {},
   "source": [
    "### grid search parameters tuning"
   ]
  },
  {
   "cell_type": "code",
   "execution_count": 423,
   "id": "df6433b9",
   "metadata": {},
   "outputs": [
    {
     "name": "stdout",
     "output_type": "stream",
     "text": [
      "{'EPS': 0.4, 'MIN_SAMPLES': 10, 'RADIUS_EMPTY_SPACE_CHECK': 1, 'RADIUS_RAYCAST': 0.3, 'MAX_WIDTH': 3, 'MAX_LENGTH': 6, 'MAX_HEIGTH': 2, 'MIN_LENGTH': 1, 'NUM_OF_FRAMES_IN_FUTURE': 2, 'EGO_DELETE_RADIUS': 2.5}\n",
      "Error, path ../../semantic_kitti_data/sequences/05/velodyne/000578.bin does not exists\n",
      "Error, path ../../semantic_kitti_data/sequences/05/velodyne/000579.bin does not exists\n",
      "[95.68, 58.57, 57.93]\n",
      "{'EPS': 0.5, 'MIN_SAMPLES': 10, 'RADIUS_EMPTY_SPACE_CHECK': 1, 'RADIUS_RAYCAST': 0.3, 'MAX_WIDTH': 3, 'MAX_LENGTH': 6, 'MAX_HEIGTH': 2, 'MIN_LENGTH': 1, 'NUM_OF_FRAMES_IN_FUTURE': 2, 'EGO_DELETE_RADIUS': 2.5}\n",
      "Error, path ../../semantic_kitti_data/sequences/05/velodyne/000578.bin does not exists\n",
      "Error, path ../../semantic_kitti_data/sequences/05/velodyne/000579.bin does not exists\n",
      "[94.29, 60.92, 60.92]\n",
      "{\"{'EPS': 0.4, 'MIN_SAMPLES': 10, 'RADIUS_EMPTY_SPACE_CHECK': 1, 'RADIUS_RAYCAST': 0.3, 'MAX_WIDTH': 3, 'MAX_LENGTH': 6, 'MAX_HEIGTH': 2, 'MIN_LENGTH': 1, 'NUM_OF_FRAMES_IN_FUTURE': 2, 'EGO_DELETE_RADIUS': 2.5}\": [95.68, 58.57, 57.93], \"{'EPS': 0.5, 'MIN_SAMPLES': 10, 'RADIUS_EMPTY_SPACE_CHECK': 1, 'RADIUS_RAYCAST': 0.3, 'MAX_WIDTH': 3, 'MAX_LENGTH': 6, 'MAX_HEIGTH': 2, 'MIN_LENGTH': 1, 'NUM_OF_FRAMES_IN_FUTURE': 2, 'EGO_DELETE_RADIUS': 2.5}\": [94.29, 60.92, 60.92]}\n"
     ]
    }
   ],
   "source": [
    "from tools.evaluation import grid_search\n",
    "with open('raycast_config.yaml', 'r') as f:\n",
    "    raycast_config = yaml.safe_load(f)\n",
    "with open('evaluate_cofig.yaml', 'r') as f:\n",
    "    evaluation_config = yaml.safe_load(f)\n",
    "    \n",
    "params = {'EPS': [0.4,0.5], 'RADIUS_RAYCAST': [0.2,0.3]}\n",
    "grid_search(evaluation_config, RaycastPredictor, raycast_config, params)"
   ]
  }
 ],
 "metadata": {
  "kernelspec": {
   "display_name": "bakalarka",
   "language": "python",
   "name": "bakalarka"
  },
  "language_info": {
   "codemirror_mode": {
    "name": "ipython",
    "version": 3
   },
   "file_extension": ".py",
   "mimetype": "text/x-python",
   "name": "python",
   "nbconvert_exporter": "python",
   "pygments_lexer": "ipython3",
   "version": "3.7.11"
  }
 },
 "nbformat": 4,
 "nbformat_minor": 5
}
