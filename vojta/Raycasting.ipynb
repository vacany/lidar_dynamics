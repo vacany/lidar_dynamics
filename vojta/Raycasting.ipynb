{
 "cells": [
  {
   "cell_type": "code",
   "execution_count": 10,
   "id": "68f5b760",
   "metadata": {},
   "outputs": [
    {
     "name": "stdout",
     "output_type": "stream",
     "text": [
      "The autoreload extension is already loaded. To reload it, use:\n",
      "  %reload_ext autoreload\n"
     ]
    }
   ],
   "source": [
    "from tools.ground_removal import *\n",
    "from tools.raycasting import *\n",
    "import numpy as np\n",
    "from sklearn.cluster import DBSCAN\n",
    "from mayavi import mlab\n",
    "from tools.visualization import *\n",
    "from scipy.spatial import KDTree\n",
    "import yaml\n",
    "%load_ext autoreload\n",
    "%autoreload 2"
   ]
  },
  {
   "cell_type": "code",
   "execution_count": 27,
   "id": "26590a1d",
   "metadata": {},
   "outputs": [],
   "source": [
    "first_frame = 0\n",
    "second_frame = 2\n",
    "pts, intens = get_synchronized_frames_without_ground(first_frame,1)\n",
    "pts2, intens2 = get_synchronized_frames_without_ground(second_frame,1)"
   ]
  },
  {
   "cell_type": "code",
   "execution_count": 28,
   "id": "e5ff6e57",
   "metadata": {},
   "outputs": [],
   "source": [
    "mlab.points3d(pts[:,0], pts[:,1], pts[:,2], color=(0,1,0), mode='point')\n",
    "mlab.points3d(pts2[:,0], pts2[:,1], pts2[:,2], color=(0,0,1), mode='point')\n",
    "mlab.show()"
   ]
  },
  {
   "cell_type": "code",
   "execution_count": 25,
   "id": "590ac668",
   "metadata": {},
   "outputs": [
    {
     "name": "stdout",
     "output_type": "stream",
     "text": [
      "Number of checks for raycast is 139\n",
      "Number of checks for raycast is 105\n",
      "ray has reached the destination without hitting anything\n",
      "Number of checks for raycast is 168\n",
      "dynamic objects: [48]\n"
     ]
    }
   ],
   "source": [
    "with open('raycast_config.yaml', 'r') as f:\n",
    "    config = yaml.safe_load(f)\n",
    "figure = mlab.figure()\n",
    "mask = find_dynamic_objects(pts, pts2, get_synchronized_origin(second_frame), config['CAR'], figure)"
   ]
  },
  {
   "cell_type": "code",
   "execution_count": 26,
   "id": "85ee882b",
   "metadata": {},
   "outputs": [],
   "source": [
    "mlab.points3d(pts[:,0][mask], pts[:,1][mask], pts[:,2][mask], color=(1,0,0), mode='point')\n",
    "mlab.points3d(pts[:,0][~mask], pts[:,1][~mask], pts[:,2][~mask], color=(1,1,1), mode='point')\n",
    "mlab.show()"
   ]
  },
  {
   "cell_type": "code",
   "execution_count": null,
   "id": "7a46b1b1",
   "metadata": {},
   "outputs": [],
   "source": []
  }
 ],
 "metadata": {
  "kernelspec": {
   "display_name": "bakalarka",
   "language": "python",
   "name": "bakalarka"
  },
  "language_info": {
   "codemirror_mode": {
    "name": "ipython",
    "version": 3
   },
   "file_extension": ".py",
   "mimetype": "text/x-python",
   "name": "python",
   "nbconvert_exporter": "python",
   "pygments_lexer": "ipython3",
   "version": "3.7.11"
  }
 },
 "nbformat": 4,
 "nbformat_minor": 5
}
