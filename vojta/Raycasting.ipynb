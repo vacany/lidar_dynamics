{
 "cells": [
  {
   "cell_type": "code",
   "execution_count": 1,
   "id": "b74fcf1b",
   "metadata": {},
   "outputs": [],
   "source": [
    "from tools.ground_removal import *\n",
    "from tools.ground_removal_kitti import remove_ground\n",
    "from tools.raycasting import *\n",
    "import numpy as np\n",
    "from sklearn.cluster import DBSCAN\n",
    "from mayavi import mlab\n",
    "from tools.visualization import *\n",
    "from scipy.spatial import KDTree\n",
    "import yaml\n",
    "%load_ext autoreload\n",
    "%autoreload 2"
   ]
  },
  {
   "cell_type": "code",
   "execution_count": 13,
   "id": "e1b0e2c5",
   "metadata": {},
   "outputs": [],
   "source": [
    "gr = Ground_removal('01')\n",
    "pts, _ = gr.get_frame(20)\n",
    "mlab.points3d(pts[:,0], pts[:,1], pts[:,2], mode='point')\n",
    "mlab.show()"
   ]
  },
  {
   "cell_type": "code",
   "execution_count": 3,
   "id": "da2808ef",
   "metadata": {},
   "outputs": [],
   "source": [
    "gr = Ground_removal('18')\n",
    "first_frame = 1\n",
    "second_frame = first_frame + 2\n",
    "pts, intens = gr.get_synchronized_frames_without_ground(first_frame,1)\n",
    "pts2, intens2 = gr.get_synchronized_frames_without_ground(second_frame,1)"
   ]
  },
  {
   "cell_type": "code",
   "execution_count": 5,
   "id": "da449423",
   "metadata": {},
   "outputs": [],
   "source": [
    "mlab.points3d(pts[:,0], pts[:,1], pts[:,2], color=(0,1,0), mode='point')\n",
    "mlab.points3d(pts2[:,0], pts2[:,1], pts2[:,2], color=(0,0,1), mode='point')\n",
    "mlab.show()"
   ]
  },
  {
   "cell_type": "code",
   "execution_count": 39,
   "id": "eb89ace6",
   "metadata": {},
   "outputs": [],
   "source": [
    "with open('raycast_config.yaml', 'r') as f:\n",
    "    config = yaml.safe_load(f)\n",
    "#figure = mlab.figure()\n",
    "gr = Ground_removal('01')\n",
    "frame = 240\n",
    "rp = RaycastPredictor(config['CAR'], gr, verbose=False)\n",
    "mask = rp.predict(frame)"
   ]
  },
  {
   "cell_type": "code",
   "execution_count": 40,
   "id": "bfd2e689",
   "metadata": {},
   "outputs": [
    {
     "name": "stdout",
     "output_type": "stream",
     "text": [
      "11697\n"
     ]
    }
   ],
   "source": [
    "static = mask == 9\n",
    "dynamic = mask == 251\n",
    "unlabeled = mask == 0\n",
    "print(unlabeled.sum())\n"
   ]
  },
  {
   "cell_type": "code",
   "execution_count": 41,
   "id": "c81d9ea2",
   "metadata": {},
   "outputs": [],
   "source": [
    "pts,_ = gr.get_frame(frame)\n",
    "mlab.points3d(pts[:,0][dynamic], pts[:,1][dynamic], pts[:,2][dynamic], color=(0,1,0), mode='point')\n",
    "mlab.points3d(pts[:,0][static], pts[:,1][static], pts[:,2][static], mode='point')\n",
    "mlab.points3d(pts[:,0][unlabeled], pts[:,1][unlabeled], pts[:,2][unlabeled], color=(1,1,0), mode='point')\n",
    "mlab.show()"
   ]
  },
  {
   "cell_type": "code",
   "execution_count": 200,
   "id": "15a6a2a6",
   "metadata": {},
   "outputs": [],
   "source": [
    "pts,_ = gr.get_frame_without_ground(1000)\n",
    "clustering = DBSCAN(eps=config['CAR']['EPS'],\n",
    "                    min_samples=config['CAR']['MIN_SAMPLES']).fit(pts[:,:3])\n",
    "mask_cluster = clustering.labels_ >= 0\n",
    "mlab.points3d(pts[:,0][mask_cluster], pts[:,1][mask_cluster],\n",
    "              pts[:,2][mask_cluster], clustering.labels_[mask_cluster], mode='point')\n",
    "mlab.show()"
   ]
  },
  {
   "cell_type": "code",
   "execution_count": 39,
   "id": "fef50067",
   "metadata": {},
   "outputs": [],
   "source": [
    "# Evaluation\n",
    "from tools.evaluation import evaluate_kitti\n",
    "with open('raycast_config.yaml', 'r') as f:\n",
    "    raycast_config = yaml.safe_load(f)\n",
    "with open('evaluate_cofig.yaml', 'r') as f:\n",
    "    evaluation_config = yaml.safe_load(f)"
   ]
  },
  {
   "cell_type": "code",
   "execution_count": 8,
   "id": "fa6cdf09",
   "metadata": {},
   "outputs": [
    {
     "name": "stdout",
     "output_type": "stream",
     "text": [
      "class CAR\n",
      "    sequence: 01\n",
      "        frame: 000000 -> precision 100.0%, recall 53.8%, iou 53.8%\n",
      "        frame: 000001 -> precision 100.0%, recall 56.98%, iou 56.98%\n",
      "        frame: 000002 -> precision 92.31%, recall 59.18%, iou 56.4%\n",
      "        frame: 000003 -> precision 100.0%, recall 61.46%, iou 61.46%\n",
      "        frame: 000004 -> precision 100.0%, recall 32.13%, iou 32.13%\n",
      "        frame: 000005 -> precision 100.0%, recall 26.42%, iou 26.42%\n",
      "        frame: 000006 -> precision 100.0%, recall 20.45%, iou 20.45%\n",
      "        frame: 000007 -> precision 100.0%, recall 24.81%, iou 24.81%\n",
      "        frame: 000390 -> precision 89.74%, recall 60.57%, iou 56.65%\n",
      "        frame: 000391 -> precision 99.81%, recall 62.5%, iou 62.43%\n",
      "        frame: 000392 -> precision 99.63%, recall 65.62%, iou 65.46%\n",
      "        frame: 000393 -> precision 100.0%, recall 72.44%, iou 72.44%\n",
      "        frame: 000394 -> precision 98.88%, recall 70.72%, iou 70.16%\n",
      "        frame: 000395 -> precision 99.71%, recall 70.34%, iou 70.2%\n",
      "        frame: 000396 -> precision 99.61%, recall 72.58%, iou 72.37%\n",
      "    average sequence precision 98.65%, average sequence recall 54.0%, average sequence iou 53.48%\n",
      "\n",
      "    sequence: 05\n",
      "        frame: 000580 -> precision 100.0%, recall 32.71%, iou 32.71%\n",
      "        frame: 000581 -> precision 100.0%, recall 33.16%, iou 33.16%\n",
      "        frame: 000582 -> precision 100.0%, recall 38.69%, iou 38.69%\n",
      "        frame: 000583 -> precision 100.0%, recall 34.18%, iou 34.18%\n",
      "        frame: 000584 -> precision 100%, recall 0.0%, iou 0.0%\n",
      "        frame: 000600 -> precision 100%, recall 0.0%, iou 0.0%\n",
      "        frame: 000601 -> precision 100%, recall 0.0%, iou 0.0%\n",
      "        frame: 000602 -> precision 100%, recall 0.0%, iou 0.0%\n",
      "        frame: 000603 -> precision 100%, recall 0.0%, iou 0.0%\n",
      "        frame: 000604 -> precision 100%, recall 100%, iou 100%\n",
      "    average sequence precision 100.0%, average sequence recall 23.87%, average sequence iou 23.87%\n",
      "\n",
      "    sequence: 07\n",
      "        frame: 000000 -> precision 100%, recall 100%, iou 100%\n",
      "        frame: 000001 -> precision 100%, recall 100%, iou 100%\n",
      "        frame: 000002 -> precision 100%, recall 100%, iou 100%\n",
      "        frame: 000003 -> precision 100%, recall 100%, iou 100%\n",
      "        frame: 000004 -> precision 100%, recall 100%, iou 100%\n",
      "        frame: 000011 -> precision 100%, recall 100%, iou 100%\n",
      "        frame: 000012 -> precision 100%, recall 0.0%, iou 0.0%\n",
      "        frame: 000013 -> precision 100%, recall 0.0%, iou 0.0%\n",
      "        frame: 000014 -> precision 100%, recall 100%, iou 100%\n",
      "        frame: 000015 -> precision 100%, recall 100%, iou 100%\n",
      "    average sequence precision 100.0%, average sequence recall 80.0%, average sequence iou 80.0%\n",
      "\n",
      "for class CAR on KITTI dataset, the final average metrics are: precision 99.42% recall 52.82% and iou 52.6%\n",
      "evaluation finished in 32.5 seconds\n",
      "class PEDESTRIAN\n",
      "    sequence: 01\n",
      "        frame: 000000 -> precision 100%, recall 100%, iou 100%\n",
      "        frame: 000001 -> precision 100%, recall 100%, iou 100%\n",
      "        frame: 000002 -> precision 100%, recall 100%, iou 100%\n",
      "        frame: 000003 -> precision 100%, recall 100%, iou 100%\n",
      "        frame: 000004 -> precision 100%, recall 100%, iou 100%\n",
      "        frame: 000005 -> precision 100%, recall 100%, iou 100%\n",
      "        frame: 000006 -> precision 100%, recall 100%, iou 100%\n",
      "        frame: 000007 -> precision 100%, recall 100%, iou 100%\n",
      "        frame: 000390 -> precision 100%, recall 100%, iou 100%\n",
      "        frame: 000391 -> precision 100%, recall 100%, iou 100%\n",
      "        frame: 000392 -> precision 100%, recall 100%, iou 100%\n",
      "        frame: 000393 -> precision 100%, recall 100%, iou 100%\n",
      "        frame: 000394 -> precision 100%, recall 100%, iou 100%\n",
      "        frame: 000395 -> precision 100%, recall 100%, iou 100%\n",
      "        frame: 000396 -> precision 100%, recall 100%, iou 100%\n",
      "    average sequence precision 100.0%, average sequence recall 100.0%, average sequence iou 100.0%\n",
      "\n",
      "    sequence: 05\n",
      "        frame: 000580 -> precision 100%, recall 0.0%, iou 0.0%\n",
      "        frame: 000581 -> precision 100%, recall 0.0%, iou 0.0%\n",
      "        frame: 000582 -> precision 100%, recall 0.0%, iou 0.0%\n",
      "        frame: 000583 -> precision 100%, recall 0.0%, iou 0.0%\n",
      "        frame: 000584 -> precision 100%, recall 0.0%, iou 0.0%\n",
      "        frame: 000600 -> precision 100%, recall 100%, iou 100%\n",
      "        frame: 000601 -> precision 100%, recall 0.0%, iou 0.0%\n",
      "        frame: 000602 -> precision 100.0%, recall 51.82%, iou 51.82%\n",
      "        frame: 000603 -> precision 49.81%, recall 94.24%, iou 48.34%\n",
      "        frame: 000604 -> precision 100.0%, recall 93.15%, iou 93.15%\n",
      "    average sequence precision 94.98%, average sequence recall 33.92%, average sequence iou 29.33%\n",
      "\n",
      "    sequence: 07\n",
      "        frame: 000000 -> precision 99.38%, recall 86.96%, iou 86.49%\n",
      "        frame: 000001 -> precision 99.38%, recall 87.85%, iou 87.36%\n",
      "        frame: 000002 -> precision 100.0%, recall 88.89%, iou 88.89%\n",
      "        frame: 000003 -> precision 100.0%, recall 87.93%, iou 87.93%\n",
      "        frame: 000004 -> precision 100.0%, recall 80.35%, iou 80.35%\n",
      "        frame: 000011 -> precision 100.0%, recall 89.95%, iou 89.95%\n",
      "        frame: 000012 -> precision 100.0%, recall 88.3%, iou 88.3%\n",
      "        frame: 000013 -> precision 100.0%, recall 88.59%, iou 88.59%\n",
      "        frame: 000014 -> precision 100.0%, recall 83.89%, iou 83.89%\n",
      "        frame: 000015 -> precision 100.0%, recall 88.51%, iou 88.51%\n",
      "    average sequence precision 99.88%, average sequence recall 87.12%, average sequence iou 87.02%\n",
      "\n",
      "for class PEDESTRIAN on KITTI dataset, the final average metrics are: precision 98.53% recall 77.44% and iou 76.1%\n",
      "evaluation finished in 58.9 seconds\n"
     ]
    },
    {
     "data": {
      "text/plain": [
       "[98.53, 77.44, 76.1]"
      ]
     },
     "execution_count": 8,
     "metadata": {},
     "output_type": "execute_result"
    }
   ],
   "source": [
    "evaluate_kitti(evaluation_config, RaycastPredictor, raycast_config)"
   ]
  },
  {
   "cell_type": "code",
   "execution_count": 34,
   "id": "d2277f13",
   "metadata": {
    "scrolled": false
   },
   "outputs": [],
   "source": [
    "# closer investigation\n",
    "gr = Ground_removal('05')\n",
    "figure = mlab.figure()\n",
    "rp = RaycastPredictor(raycast_config['PEDESTRIAN'], gr)\n",
    "#rp.predict(580); pts, intens = gr.get_frame(585)\n",
    "#mlab.points3d(pts[:,0], pts[:,1], pts[:,2], intens, figure=figure, mode='point')\n",
    "#plot_prediction_pedestrians(gr, rp, 302, figure)\n",
    "plot_prediction_cars(gr,rp,603,figure)\n",
    "mlab.show()"
   ]
  },
  {
   "cell_type": "code",
   "execution_count": 45,
   "id": "94739b53",
   "metadata": {},
   "outputs": [],
   "source": [
    "gr = Ground_removal('13')\n",
    "pts, intens = gr.get_frame_without_ground(2530)\n",
    "#clustering = DBSCAN(eps=0.2,\n",
    "#                    min_samples=10).fit(pts[:,:3])\n",
    "clustering = DBSCAN(eps=raycast_config['PEDESTRIAN']['EPS'],\n",
    "                    min_samples=raycast_config['PEDESTRIAN']['MIN_SAMPLES']).fit(pts[:,:3])\n",
    "mask = clustering.labels_ == 19\n",
    "#mlab.points3d(pts[:,0], pts[:,1], pts[:,2], clustering.labels_, mode='point')\n",
    "mlab.points3d(pts[:,0][mask], pts[:,1][mask], pts[:,2][mask], color=(1,0,0), mode='point')\n",
    "mlab.points3d(pts[:,0][~mask], pts[:,1][~mask], pts[:,2][~mask], color=(1,1,1), mode='point')\n",
    "mlab.show()"
   ]
  },
  {
   "cell_type": "code",
   "execution_count": 24,
   "id": "619351ba",
   "metadata": {},
   "outputs": [],
   "source": [
    "gr = Ground_removal('07')\n",
    "pts, intens = gr.get_synchronized_frames_without_ground(10,5)\n",
    "#pts, intens = gr.get_frame_without_ground(596)\n",
    "mlab.points3d(pts[:,0], pts[:,1], pts[:,2], pts[:,3], mode='point')\n",
    "mlab.show()"
   ]
  },
  {
   "cell_type": "code",
   "execution_count": 125,
   "id": "8b500416",
   "metadata": {},
   "outputs": [],
   "source": [
    "pts, intens = gr.get_frame_without_ground(601)\n",
    "pts2, intens = gr.get_frame_without_ground(606)\n",
    "pts3, _ = gr.get_frame_without_ground(611)\n",
    "mlab.points3d(pts[:,0], pts[:,1], pts[:,2], color=(1,0,0), mode='point')\n",
    "mlab.points3d(pts2[:,0], pts2[:,1], pts2[:,2], color=(0,1,0), mode='point')\n",
    "mlab.points3d(pts3[:,0], pts3[:,1], pts3[:,2], color=(0,0,1), mode='point')\n",
    "mlab.show()"
   ]
  },
  {
   "cell_type": "code",
   "execution_count": 119,
   "id": "cc51c043",
   "metadata": {},
   "outputs": [],
   "source": [
    "pts, intens = gr.get_synchronized_frames_without_ground(601,5)\n",
    "mlab.points3d(pts[:,0], pts[:,1], pts[:,2], pts[:,3], mode='point')\n",
    "mlab.show()"
   ]
  },
  {
   "cell_type": "code",
   "execution_count": 56,
   "id": "c0822b92",
   "metadata": {},
   "outputs": [
    {
     "name": "stdout",
     "output_type": "stream",
     "text": [
      "0.6944878394305363 1.4024296786247419 1.6222920092642177\n"
     ]
    }
   ],
   "source": [
    "cluster_pts = pts[mask]\n",
    "bb_x_min =  cluster_pts[:,0].min()\n",
    "bb_x_max =  cluster_pts[:,0].max()\n",
    "bb_y_min =  cluster_pts[:,1].min()\n",
    "bb_y_max =  cluster_pts[:,1].max()\n",
    "bb_z_min =  cluster_pts[:,2].min()\n",
    "bb_z_max =  cluster_pts[:,2].max()\n",
    "\n",
    "width = min(abs(bb_x_max - bb_x_min), abs(bb_y_max - bb_y_min))\n",
    "length = max(abs(bb_x_max - bb_x_min), abs(bb_y_max - bb_y_min))\n",
    "height = abs(bb_z_max - bb_z_min)\n",
    "print(width,length, height)"
   ]
  },
  {
   "cell_type": "markdown",
   "id": "fdcdfea8",
   "metadata": {},
   "source": [
    "### grid search parameters tuning"
   ]
  },
  {
   "cell_type": "code",
   "execution_count": 423,
   "id": "405dcdd5",
   "metadata": {},
   "outputs": [
    {
     "name": "stdout",
     "output_type": "stream",
     "text": [
      "{'EPS': 0.4, 'MIN_SAMPLES': 10, 'RADIUS_EMPTY_SPACE_CHECK': 1, 'RADIUS_RAYCAST': 0.3, 'MAX_WIDTH': 3, 'MAX_LENGTH': 6, 'MAX_HEIGTH': 2, 'MIN_LENGTH': 1, 'NUM_OF_FRAMES_IN_FUTURE': 2, 'EGO_DELETE_RADIUS': 2.5}\n",
      "Error, path ../../semantic_kitti_data/sequences/05/velodyne/000578.bin does not exists\n",
      "Error, path ../../semantic_kitti_data/sequences/05/velodyne/000579.bin does not exists\n",
      "[95.68, 58.57, 57.93]\n",
      "{'EPS': 0.5, 'MIN_SAMPLES': 10, 'RADIUS_EMPTY_SPACE_CHECK': 1, 'RADIUS_RAYCAST': 0.3, 'MAX_WIDTH': 3, 'MAX_LENGTH': 6, 'MAX_HEIGTH': 2, 'MIN_LENGTH': 1, 'NUM_OF_FRAMES_IN_FUTURE': 2, 'EGO_DELETE_RADIUS': 2.5}\n",
      "Error, path ../../semantic_kitti_data/sequences/05/velodyne/000578.bin does not exists\n",
      "Error, path ../../semantic_kitti_data/sequences/05/velodyne/000579.bin does not exists\n",
      "[94.29, 60.92, 60.92]\n",
      "{\"{'EPS': 0.4, 'MIN_SAMPLES': 10, 'RADIUS_EMPTY_SPACE_CHECK': 1, 'RADIUS_RAYCAST': 0.3, 'MAX_WIDTH': 3, 'MAX_LENGTH': 6, 'MAX_HEIGTH': 2, 'MIN_LENGTH': 1, 'NUM_OF_FRAMES_IN_FUTURE': 2, 'EGO_DELETE_RADIUS': 2.5}\": [95.68, 58.57, 57.93], \"{'EPS': 0.5, 'MIN_SAMPLES': 10, 'RADIUS_EMPTY_SPACE_CHECK': 1, 'RADIUS_RAYCAST': 0.3, 'MAX_WIDTH': 3, 'MAX_LENGTH': 6, 'MAX_HEIGTH': 2, 'MIN_LENGTH': 1, 'NUM_OF_FRAMES_IN_FUTURE': 2, 'EGO_DELETE_RADIUS': 2.5}\": [94.29, 60.92, 60.92]}\n"
     ]
    }
   ],
   "source": [
    "from tools.evaluation import grid_search\n",
    "with open('raycast_config.yaml', 'r') as f:\n",
    "    raycast_config = yaml.safe_load(f)\n",
    "with open('evaluate_cofig.yaml', 'r') as f:\n",
    "    evaluation_config = yaml.safe_load(f)\n",
    "    \n",
    "params = {'EPS': [0.4,0.5], 'RADIUS_RAYCAST': [0.2,0.3]}\n",
    "grid_search(evaluation_config, RaycastPredictor, raycast_config, params)"
   ]
  },
  {
   "cell_type": "code",
   "execution_count": null,
   "id": "ea51e1ed",
   "metadata": {},
   "outputs": [],
   "source": []
  },
  {
   "cell_type": "code",
   "execution_count": null,
   "id": "dbeb54ce",
   "metadata": {},
   "outputs": [],
   "source": []
  }
 ],
 "metadata": {
  "kernelspec": {
   "display_name": "bakalarka",
   "language": "python",
   "name": "bakalarka"
  },
  "language_info": {
   "codemirror_mode": {
    "name": "ipython",
    "version": 3
   },
   "file_extension": ".py",
   "mimetype": "text/x-python",
   "name": "python",
   "nbconvert_exporter": "python",
   "pygments_lexer": "ipython3",
   "version": "3.7.11"
  }
 },
 "nbformat": 4,
 "nbformat_minor": 5
}
