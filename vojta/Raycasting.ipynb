{
 "cells": [
  {
   "cell_type": "code",
   "execution_count": 1,
   "id": "16364b05",
   "metadata": {},
   "outputs": [],
   "source": [
    "from tools.ground_removal import *\n",
    "from tools.raycasting import *\n",
    "import numpy as np\n",
    "from sklearn.cluster import DBSCAN\n",
    "from mayavi import mlab\n",
    "from tools.visualization import *\n",
    "from scipy.spatial import KDTree\n",
    "%load_ext autoreload\n",
    "%autoreload 2"
   ]
  },
  {
   "cell_type": "code",
   "execution_count": 2,
   "id": "78ac69ac",
   "metadata": {},
   "outputs": [],
   "source": [
    "pts, intens = get_synchronized_frames_without_ground(0,1)"
   ]
  },
  {
   "cell_type": "code",
   "execution_count": 82,
   "id": "7f3d69be",
   "metadata": {},
   "outputs": [],
   "source": [
    "mlab.points3d(pts[:,0], pts[:,1], pts[:,2], intens, mode='point')\n",
    "mlab.points3d(0,0,0, mode='cube', color=(1,0,0))\n",
    "mlab.show()"
   ]
  },
  {
   "cell_type": "markdown",
   "id": "1d0afdc8",
   "metadata": {},
   "source": [
    "create objects through segmentation"
   ]
  },
  {
   "cell_type": "code",
   "execution_count": 3,
   "id": "3ed68a65",
   "metadata": {},
   "outputs": [
    {
     "name": "stdout",
     "output_type": "stream",
     "text": [
      "created 182 num of clusters\n"
     ]
    }
   ],
   "source": [
    "clustering = DBSCAN(eps=0.6, min_samples=10).fit(pts[:,:3])\n",
    "print(f\"created {clustering.labels_.max() + 1} num of clusters\")"
   ]
  },
  {
   "cell_type": "code",
   "execution_count": 84,
   "id": "fbfdaf5d",
   "metadata": {},
   "outputs": [],
   "source": [
    "mlab.points3d(pts[:,0], pts[:,1], pts[:,2], clustering.labels_, mode='point')\n",
    "mlab.show()"
   ]
  },
  {
   "cell_type": "markdown",
   "id": "b06a17ab",
   "metadata": {},
   "source": [
    "do not consider objects that are larger or smaller than limit sizes"
   ]
  },
  {
   "cell_type": "code",
   "execution_count": 4,
   "id": "b746728b",
   "metadata": {
    "scrolled": true
   },
   "outputs": [
    {
     "name": "stdout",
     "output_type": "stream",
     "text": [
      "skipping cluster 0 because of its length 0.6355552672043068\n",
      "skipping cluster 1 because of its length 0.9349546432599816\n",
      "skipping cluster 2 because of its length 0.4089584348212334\n",
      "skipping cluster 3 because of its length 12.671650293863499\n",
      "skipping cluster 6 because of its height 2.670708656773204\n",
      "skipping cluster 7 because of its width 4.237215040991259\n",
      "skipping cluster 8 because of its height 3.405047059322218\n",
      "skipping cluster 9 because of its length 6.3273773241636455\n",
      "skipping cluster 10 because of its length 0.5831928250455967\n",
      "skipping cluster 11 because of its length 38.23876571715943\n",
      "skipping cluster 12 because of its width 3.8078346279070274\n",
      "skipping cluster 13 because of its height 4.584777116869226\n",
      "skipping cluster 14 because of its width 3.1459655761156213\n",
      "skipping cluster 16 because of its width 3.2817535377969946\n",
      "skipping cluster 17 because of its height 2.5151554314884477\n",
      "skipping cluster 18 because of its length 13.527738567732136\n",
      "skipping cluster 19 because of its height 3.8865817808759697\n",
      "skipping cluster 20 because of its length 7.852988481254167\n",
      "skipping cluster 29 because of its length 0.6854896544167062\n",
      "skipping cluster 36 because of its height 2.5329091538996504\n",
      "skipping cluster 37 because of its height 2.50358262691985\n",
      "skipping cluster 38 because of its length 0.8326988220100588\n",
      "skipping cluster 39 because of its length 0.8064079280835514\n",
      "skipping cluster 40 because of its height 2.8613122112098814\n",
      "skipping cluster 41 because of its length 0.6888017651357807\n",
      "skipping cluster 42 because of its length 0.6942825320668646\n",
      "skipping cluster 44 because of its length 0.6867713931327231\n",
      "skipping cluster 45 because of its length 0.7838287357164262\n",
      "skipping cluster 46 because of its length 0.8076934817428807\n",
      "skipping cluster 49 because of its length 36.2097396851038\n",
      "skipping cluster 50 because of its length 0.5763959889689678\n",
      "skipping cluster 52 because of its width 3.0039501185480475\n",
      "skipping cluster 53 because of its length 0.9236679074800236\n",
      "skipping cluster 54 because of its length 0.858411789315177\n",
      "skipping cluster 58 because of its length 0.9298496244069732\n",
      "skipping cluster 67 because of its length 0.8764734263524385\n",
      "skipping cluster 68 because of its height 2.960690975396171\n",
      "skipping cluster 69 because of its length 0.8751564028821193\n",
      "skipping cluster 79 because of its height 2.3866079743853956\n",
      "skipping cluster 81 because of its length 25.188324929492627\n",
      "skipping cluster 82 because of its length 0.8097686764303944\n",
      "skipping cluster 83 because of its length 0.7700309756262982\n",
      "skipping cluster 84 because of its length 0.7184028628179817\n",
      "skipping cluster 87 because of its height 2.1666883509733292\n",
      "skipping cluster 88 because of its length 0.9966812133740781\n",
      "skipping cluster 89 because of its height 2.277921893383285\n",
      "skipping cluster 91 because of its length 0.9348144528324553\n",
      "skipping cluster 94 because of its length 0.8664646148719441\n",
      "skipping cluster 97 because of its height 3.0162725308192386\n",
      "skipping cluster 100 because of its height 2.7389789830398183\n",
      "skipping cluster 103 because of its length 0.9142122272278037\n",
      "skipping cluster 105 because of its length 0.9766731262467729\n",
      "skipping cluster 108 because of its length 0.7655410766467838\n",
      "skipping cluster 109 because of its width 4.636083600879044\n",
      "skipping cluster 114 because of its length 0.8487987515933888\n",
      "skipping cluster 115 because of its length 0.7846279140649628\n",
      "skipping cluster 116 because of its height 2.2523467526144865\n",
      "skipping cluster 120 because of its length 0.5823736189189748\n",
      "skipping cluster 121 because of its height 2.738319993818129\n",
      "skipping cluster 122 because of its height 2.4202731848124066\n",
      "skipping cluster 124 because of its length 0.9997825622913155\n",
      "skipping cluster 127 because of its length 0.26561355618200366\n",
      "skipping cluster 128 because of its length 0.2721252443744788\n",
      "skipping cluster 131 because of its length 0.5729217525610615\n",
      "skipping cluster 133 because of its length 0.9814348220893816\n",
      "skipping cluster 134 because of its length 0.9233703614868567\n",
      "skipping cluster 135 because of its height 3.042525291967747\n",
      "skipping cluster 139 because of its length 0.40455436726986704\n",
      "skipping cluster 143 because of its length 0.8889808653540143\n",
      "skipping cluster 144 because of its length 0.7451949125091302\n",
      "skipping cluster 148 because of its length 0.8731231693174806\n",
      "skipping cluster 149 because of its length 0.4160251614545274\n",
      "skipping cluster 150 because of its length 0.7119326588999728\n",
      "skipping cluster 152 because of its length 0.8628807069946678\n",
      "skipping cluster 156 because of its length 0.7646331786800502\n",
      "skipping cluster 158 because of its length 0.9410562515354446\n",
      "skipping cluster 159 because of its length 0.8087234496018865\n",
      "skipping cluster 162 because of its length 0.8551788333359909\n",
      "skipping cluster 163 because of its length 0.8361244209147181\n",
      "skipping cluster 164 because of its length 0.8017578124924309\n",
      "skipping cluster 165 because of its length 0.8970794677354093\n",
      "skipping cluster 166 because of its length 7.175296783820208\n",
      "skipping cluster 168 because of its length 0.4681329727077319\n",
      "skipping cluster 171 because of its length 0.7864513397710056\n",
      "skipping cluster 173 because of its length 0.9634485244726143\n",
      "skipping cluster 178 because of its length 0.89758205411297\n",
      "skipping cluster 179 because of its length 0.284273147522911\n",
      "skipping cluster 180 because of its length 0.3974795340255761\n",
      "discarted 93 num of objects\n"
     ]
    }
   ],
   "source": [
    "valid_clusters = eliminate_objects_by_size(pts, clustering.labels_)\n",
    "valid_mask = np.array([False * clustering.labels_.shape[0]])\n",
    "print(f\"discarted {valid_clusters.shape[0]} num of objects\")\n",
    "for cluster in valid_clusters:\n",
    "    valid_mask = valid_mask | (clustering.labels_ == cluster)\n",
    "valid_mask = valid_mask.astype(bool)"
   ]
  },
  {
   "cell_type": "code",
   "execution_count": 86,
   "id": "868502d5",
   "metadata": {},
   "outputs": [],
   "source": [
    "mlab.points3d(pts[:,0][valid_mask], pts[:,1][valid_mask], pts[:,2][valid_mask], clustering.labels_[valid_mask], mode='point')\n",
    "mlab.show()"
   ]
  },
  {
   "cell_type": "markdown",
   "id": "335316fe",
   "metadata": {},
   "source": [
    "Now, look at future frame(maybe three frames into future), look around where median of object O was at time t and check, if there are any points from time t+2 (+2 so that the car can move enough) if no and we can see the place at time t+2 (raycast) then it is dynamic"
   ]
  },
  {
   "cell_type": "code",
   "execution_count": 5,
   "id": "3222ecff",
   "metadata": {},
   "outputs": [
    {
     "name": "stdout",
     "output_type": "stream",
     "text": [
      "created 189 num of clusters\n"
     ]
    }
   ],
   "source": [
    "pts2, intens2 = get_synchronized_frames_without_ground(2,1)\n",
    "clustering2 = DBSCAN(eps=0.6, min_samples=10).fit(pts2[:,:3])\n",
    "print(f\"created {clustering2.labels_.max() + 1} num of clusters\")"
   ]
  },
  {
   "cell_type": "code",
   "execution_count": 88,
   "id": "cc5c1d48",
   "metadata": {},
   "outputs": [],
   "source": [
    "mlab.points3d(pts2[:,0], pts2[:,1], pts2[:,2], clustering2.labels_, mode='point')\n",
    "mlab.show()"
   ]
  },
  {
   "cell_type": "code",
   "execution_count": 6,
   "id": "b18767fe",
   "metadata": {
    "scrolled": true
   },
   "outputs": [
    {
     "name": "stdout",
     "output_type": "stream",
     "text": [
      "skipping cluster 0 because of its length 0.6626111581996774\n",
      "skipping cluster 2 because of its length 13.609034317186588\n",
      "skipping cluster 4 because of its length 0.9997074654587479\n",
      "skipping cluster 6 because of its length 6.468440292292847\n",
      "skipping cluster 7 because of its width 4.400332289926567\n",
      "skipping cluster 9 because of its length 6.6316310547163475\n",
      "skipping cluster 10 because of its length 31.63218710948322\n",
      "skipping cluster 11 because of its width 4.4423475954048115\n",
      "skipping cluster 12 because of its height 4.291843349418136\n",
      "skipping cluster 13 because of its height 3.0830041475080665\n",
      "skipping cluster 14 because of its height 3.114554582327329\n",
      "skipping cluster 15 because of its height 3.0618677812706867\n",
      "skipping cluster 17 because of its width 3.0645114939388307\n",
      "skipping cluster 18 because of its height 2.277743772260018\n",
      "skipping cluster 19 because of its length 0.9749385924275593\n",
      "skipping cluster 22 because of its height 2.5671169538494008\n",
      "skipping cluster 23 because of its length 8.2395015510816\n",
      "skipping cluster 24 because of its height 3.8056999021126425\n",
      "skipping cluster 26 because of its length 12.460519594504934\n",
      "skipping cluster 28 because of its height 2.4917579562217114\n",
      "skipping cluster 36 because of its length 0.8105913163824141\n",
      "skipping cluster 39 because of its length 0.6673680699671252\n",
      "skipping cluster 42 because of its height 2.953012263330423\n",
      "skipping cluster 46 because of its length 0.5767095856808844\n",
      "skipping cluster 48 because of its length 0.6748578902394939\n",
      "skipping cluster 50 because of its length 0.9536615052974042\n",
      "skipping cluster 51 because of its length 0.9242672343462388\n",
      "skipping cluster 52 because of its length 0.9424065477219532\n",
      "skipping cluster 55 because of its length 0.9728309953661807\n",
      "skipping cluster 56 because of its length 0.675634352693919\n",
      "skipping cluster 60 because of its length 0.8679201389537283\n",
      "skipping cluster 62 because of its length 40.80963350805205\n",
      "skipping cluster 64 because of its length 0.6762622016954367\n",
      "skipping cluster 65 because of its width 3.7372956682698515\n",
      "skipping cluster 66 because of its length 0.7719644828963315\n",
      "skipping cluster 67 because of its length 0.5205596414449776\n",
      "skipping cluster 69 because of its length 0.894591573853539\n",
      "skipping cluster 71 because of its length 0.6788439487010507\n",
      "skipping cluster 75 because of its length 0.7503011757594606\n",
      "skipping cluster 76 because of its height 3.3920034756270265\n",
      "skipping cluster 80 because of its length 0.934153718065744\n",
      "skipping cluster 84 because of its length 0.6771098118488581\n",
      "skipping cluster 85 because of its height 2.483663851685767\n",
      "skipping cluster 88 because of its length 0.7855516054751797\n",
      "skipping cluster 89 because of its length 19.898248100520817\n",
      "skipping cluster 91 because of its length 0.754032537673222\n",
      "skipping cluster 92 because of its length 0.6245379322826139\n",
      "skipping cluster 94 because of its length 7.111455748165206\n",
      "skipping cluster 95 because of its length 0.8620077567397502\n",
      "skipping cluster 96 because of its length 0.8960432681473876\n",
      "skipping cluster 97 because of its height 3.088756627036617\n",
      "skipping cluster 102 because of its length 0.696781679728744\n",
      "skipping cluster 105 because of its length 0.7862636985543325\n",
      "skipping cluster 106 because of its length 0.763918363851193\n",
      "skipping cluster 109 because of its length 0.8523941180829784\n",
      "skipping cluster 110 because of its length 0.9040453814532405\n",
      "skipping cluster 111 because of its length 0.6739101998453236\n",
      "skipping cluster 112 because of its length 0.704553124311218\n",
      "skipping cluster 113 because of its length 0.6362637942472906\n",
      "skipping cluster 114 because of its length 0.8600683944777945\n",
      "skipping cluster 116 because of its length 0.8758485298554035\n",
      "skipping cluster 117 because of its length 0.8934970234473916\n",
      "skipping cluster 120 because of its length 0.9453289634565181\n",
      "skipping cluster 121 because of its length 0.7406647674066633\n",
      "skipping cluster 123 because of its length 0.9176730815130654\n",
      "skipping cluster 124 because of its height 2.574598724166654\n",
      "skipping cluster 125 because of its height 2.277391344726194\n",
      "skipping cluster 127 because of its length 0.360051790539611\n",
      "skipping cluster 131 because of its length 0.8377424394939261\n",
      "skipping cluster 132 because of its length 10.822220133141649\n",
      "skipping cluster 136 because of its length 0.9610546234937889\n",
      "skipping cluster 138 because of its length 0.7792973021905567\n",
      "skipping cluster 139 because of its length 0.6979863176457584\n",
      "skipping cluster 140 because of its length 0.9191657559379145\n",
      "skipping cluster 142 because of its length 0.7168079816465216\n",
      "skipping cluster 143 because of its length 0.8954456234671468\n",
      "skipping cluster 146 because of its length 0.5785733994193958\n",
      "skipping cluster 148 because of its length 0.8412989381164557\n",
      "skipping cluster 151 because of its length 0.3900576760521943\n",
      "skipping cluster 153 because of its height 2.035080345814829\n",
      "skipping cluster 154 because of its length 0.7802156519464205\n",
      "skipping cluster 156 because of its length 0.7554151558567046\n",
      "skipping cluster 158 because of its length 0.7249812224070897\n",
      "skipping cluster 160 because of its length 0.9752884419898749\n",
      "skipping cluster 161 because of its length 0.9564072487687696\n",
      "skipping cluster 162 because of its length 0.7871731631983749\n",
      "skipping cluster 165 because of its length 0.4428290448686809\n",
      "skipping cluster 170 because of its length 0.882229559079974\n",
      "skipping cluster 171 because of its length 0.844420364047167\n",
      "skipping cluster 174 because of its width 3.47045202463703\n",
      "skipping cluster 175 because of its length 0.8684903396577326\n",
      "skipping cluster 176 because of its length 0.5470425699123709\n",
      "skipping cluster 178 because of its length 0.9609369831487449\n",
      "skipping cluster 181 because of its length 0.8215165464650127\n",
      "skipping cluster 182 because of its length 0.7088588759312735\n",
      "skipping cluster 185 because of its length 0.40711773708358123\n",
      "skipping cluster 186 because of its length 0.4322980031621473\n",
      "skipping cluster 187 because of its length 0.43266716443452413\n",
      "discarted 90 num of objects\n"
     ]
    }
   ],
   "source": [
    "valid_clusters2 = eliminate_objects_by_size(pts2, clustering2.labels_)\n",
    "valid_mask2 = np.array([False * clustering2.labels_.shape[0]])\n",
    "print(f\"discarted {valid_clusters2.shape[0]} num of objects\")\n",
    "for cluster in valid_clusters2:\n",
    "    valid_mask2 = valid_mask2 | (clustering2.labels_ == cluster)\n",
    "valid_mask2 = valid_mask2.astype(bool)"
   ]
  },
  {
   "cell_type": "code",
   "execution_count": 68,
   "id": "d150bb91",
   "metadata": {},
   "outputs": [],
   "source": [
    "mlab.points3d(pts2[:,0][valid_mask2], pts2[:,1][valid_mask2], pts2[:,2][valid_mask2], clustering2.labels_[valid_mask2], mode='point')\n",
    "mlab.show()"
   ]
  },
  {
   "cell_type": "code",
   "execution_count": 7,
   "id": "e41fba77",
   "metadata": {},
   "outputs": [
    {
     "data": {
      "text/plain": [
       "[25, 48, 140]"
      ]
     },
     "execution_count": 7,
     "metadata": {},
     "output_type": "execute_result"
    }
   ],
   "source": [
    "tree = KDTree(pts2[:,:3])\n",
    "moving_clusters = []\n",
    "for cluster in valid_clusters:\n",
    "    cluster_mask = clustering.labels_ == cluster\n",
    "    centroid = np.mean(pts[:,:3][cluster_mask], axis=0)\n",
    "    points_close_to_centroid = tree.query_ball_point(centroid, 1)\n",
    "    if len(points_close_to_centroid) == 0:\n",
    "        moving_clusters.append(cluster)\n",
    "        \n",
    "moving_clusters"
   ]
  },
  {
   "cell_type": "code",
   "execution_count": 32,
   "id": "fdd9c39c",
   "metadata": {},
   "outputs": [],
   "source": [
    "mask = clustering.labels_ == 96\n",
    "mlab.points3d(pts[:,0][mask], pts[:,1][mask], pts[:,2][mask], color=(1,0,0), mode='point')\n",
    "#mlab.points3d(pts[:,0][~mask], pts[:,1][~mask], pts[:,2][~mask], color=(1,0,0), mode='point')\n",
    "mlab.points3d(pts2[:,0], pts2[:,1], pts2[:,2], clustering2.labels_, mode='point')\n",
    "mlab.show()"
   ]
  },
  {
   "cell_type": "code",
   "execution_count": 8,
   "id": "470eac63",
   "metadata": {},
   "outputs": [
    {
     "name": "stdout",
     "output_type": "stream",
     "text": [
      "Number of checks for raycast is 139\n",
      "Number of checks for raycast is 105\n",
      "ray has reached the destination without hitting anything\n",
      "Number of checks for raycast is 168\n",
      "[48]\n"
     ]
    }
   ],
   "source": [
    "true_dynamic_objects = []\n",
    "figure = mlab.figure()\n",
    "origin = get_synchronized_origin(2)\n",
    "for moving_cluster in moving_clusters:\n",
    "    mask = clustering.labels_ == moving_cluster\n",
    "    centroid = pts[mask][:,:3].mean(axis=0)\n",
    "    response = send_raycast(pts2, target=centroid,\n",
    "                            origin=origin, radius=0.3, fig=figure)\n",
    "    if response is None:\n",
    "        true_dynamic_objects.append(moving_cluster)\n",
    "print(true_dynamic_objects)\n",
    "mlab.points3d(pts2[:,0], pts2[:,1], pts2[:,2], clustering2.labels_, mode='point')\n",
    "mask = clustering.labels_ == 48\n",
    "mlab.points3d(pts[:,0][mask], pts[:,1][mask], pts[:,2][mask], color=(1,0,0), mode='point')\n",
    "mlab.show()"
   ]
  },
  {
   "cell_type": "code",
   "execution_count": 62,
   "id": "0921c41d",
   "metadata": {},
   "outputs": [
    {
     "data": {
      "text/plain": [
       "array([[ 2.05582672, -0.10740306,  0.05404533]])"
      ]
     },
     "execution_count": 62,
     "metadata": {},
     "output_type": "execute_result"
    }
   ],
   "source": [
    "pose = POSES[2]\n",
    "pose = np.vstack((pose, [0, 0, 0, 1]))\n",
    "transform_mat(np.array([0,0,0]).reshape(1,-1),pose)"
   ]
  },
  {
   "cell_type": "code",
   "execution_count": 78,
   "id": "19060c1b",
   "metadata": {},
   "outputs": [
    {
     "data": {
      "text/plain": [
       "array([ 2.05582672, -0.10740306,  0.05404533])"
      ]
     },
     "execution_count": 78,
     "metadata": {},
     "output_type": "execute_result"
    }
   ],
   "source": [
    "get_synchronized_origin(2)"
   ]
  },
  {
   "cell_type": "code",
   "execution_count": null,
   "id": "81f6b961",
   "metadata": {},
   "outputs": [],
   "source": []
  },
  {
   "cell_type": "code",
   "execution_count": 48,
   "id": "3f8c08fc",
   "metadata": {},
   "outputs": [
    {
     "name": "stdout",
     "output_type": "stream",
     "text": [
      "Number of checks for raycast is 105\n",
      "target [-40.69826448 -15.01589046   0.97422345] origin [5, 0, 0]\n",
      "ray has hit target in points [6952, 3770, 3767]\n",
      "None\n"
     ]
    }
   ],
   "source": [
    "figure = mlab.figure()\n",
    "mask = clustering.labels_ == 15\n",
    "centroid = pts[mask][:,:3].mean(axis=0)\n",
    "\n",
    "idx = send_raycast(pts, centroid, np.argwhere(mask), origin=[0,0,0], radius=0.5, fig=figure)\n",
    "mlab.points3d(pts[:,0], pts[:,1], pts[:,2], intens, mode='point',figure=figure)\n",
    "mlab.show()\n",
    "print(idx)"
   ]
  },
  {
   "cell_type": "code",
   "execution_count": 9,
   "id": "d40aa562",
   "metadata": {},
   "outputs": [],
   "source": [
    "mlab.points3d(0,0,0, mode='cube')\n",
    "mlab.show()"
   ]
  },
  {
   "cell_type": "code",
   "execution_count": 66,
   "id": "151e3067",
   "metadata": {},
   "outputs": [
    {
     "data": {
      "text/plain": [
       "array([-5.61959701, 36.24678809,  0.36734702])"
      ]
     },
     "execution_count": 66,
     "metadata": {},
     "output_type": "execute_result"
    }
   ],
   "source": [
    "centroid"
   ]
  },
  {
   "cell_type": "code",
   "execution_count": 76,
   "id": "e03b7bfa",
   "metadata": {},
   "outputs": [
    {
     "data": {
      "text/plain": [
       "1"
      ]
     },
     "execution_count": 76,
     "metadata": {},
     "output_type": "execute_result"
    }
   ],
   "source": [
    "np.sum(np.argwhere(mask) == idx)"
   ]
  },
  {
   "cell_type": "code",
   "execution_count": 78,
   "id": "0506dd23",
   "metadata": {},
   "outputs": [],
   "source": []
  },
  {
   "cell_type": "code",
   "execution_count": null,
   "id": "0ee5570f",
   "metadata": {},
   "outputs": [],
   "source": []
  }
 ],
 "metadata": {
  "kernelspec": {
   "display_name": "bakalarka",
   "language": "python",
   "name": "bakalarka"
  },
  "language_info": {
   "codemirror_mode": {
    "name": "ipython",
    "version": 3
   },
   "file_extension": ".py",
   "mimetype": "text/x-python",
   "name": "python",
   "nbconvert_exporter": "python",
   "pygments_lexer": "ipython3",
   "version": "3.7.11"
  }
 },
 "nbformat": 4,
 "nbformat_minor": 5
}
