{
 "cells": [
  {
   "cell_type": "code",
   "execution_count": 413,
   "id": "bf630d88",
   "metadata": {},
   "outputs": [
    {
     "name": "stdout",
     "output_type": "stream",
     "text": [
      "The autoreload extension is already loaded. To reload it, use:\n",
      "  %reload_ext autoreload\n"
     ]
    }
   ],
   "source": [
    "from tools.ground_removal import *\n",
    "from tools.raycasting import *\n",
    "import numpy as np\n",
    "from sklearn.cluster import DBSCAN\n",
    "from mayavi import mlab\n",
    "from tools.visualization import *\n",
    "from scipy.spatial import KDTree\n",
    "import yaml\n",
    "%load_ext autoreload\n",
    "%autoreload 2"
   ]
  },
  {
   "cell_type": "code",
   "execution_count": 163,
   "id": "8b821e40",
   "metadata": {},
   "outputs": [],
   "source": [
    "gr = Ground_removal('01')\n",
    "first_frame = 1\n",
    "second_frame = first_frame + 2\n",
    "pts, intens = gr.get_synchronized_frames_without_ground(first_frame,1)\n",
    "pts2, intens2 = gr.get_synchronized_frames_without_ground(second_frame,1)"
   ]
  },
  {
   "cell_type": "code",
   "execution_count": 164,
   "id": "57e92aee",
   "metadata": {},
   "outputs": [],
   "source": [
    "mlab.points3d(pts[:,0], pts[:,1], pts[:,2], color=(0,1,0), mode='point')\n",
    "mlab.points3d(pts2[:,0], pts2[:,1], pts2[:,2], color=(0,0,1), mode='point')\n",
    "mlab.show()"
   ]
  },
  {
   "cell_type": "code",
   "execution_count": 165,
   "id": "6d99c298",
   "metadata": {},
   "outputs": [],
   "source": [
    "clustering = DBSCAN(eps=0.6, min_samples=10).fit(pts[:,:3])\n",
    "mlab.points3d(pts[:,0], pts[:,1], pts[:,2], clustering.labels_, mode='point')\n",
    "mlab.show()"
   ]
  },
  {
   "cell_type": "code",
   "execution_count": 317,
   "id": "b53cbb16",
   "metadata": {},
   "outputs": [],
   "source": [
    "with open('raycast_config.yaml', 'r') as f:\n",
    "    config = yaml.safe_load(f)\n",
    "#figure = mlab.figure()\n",
    "rp = RaycastPredictor(config['CAR'], gr)\n",
    "mask = rp.predict(0)"
   ]
  },
  {
   "cell_type": "code",
   "execution_count": 335,
   "id": "81f2c679",
   "metadata": {},
   "outputs": [
    {
     "name": "stdout",
     "output_type": "stream",
     "text": [
      "class CAR\n",
      "    sequence: 01\n",
      "        frame: 000000 -> precision 1.0, recall 0.81, iou 0.81\n",
      "        frame: 000001 -> precision 0.97, recall 0.93, iou 0.9\n",
      "        frame: 000002 -> precision 0.85, recall 0.89, iou 0.77\n",
      "        frame: 000003 -> precision 1.0, recall 0.76, iou 0.76\n",
      "        frame: 000004 -> precision 1.0, recall 0.81, iou 0.81\n",
      "        frame: 000005 -> precision 1.0, recall 0.92, iou 0.92\n",
      "        frame: 000006 -> precision 1.0, recall 0.9, iou 0.9\n",
      "        frame: 000007 -> precision 1.0, recall 0.6, iou 0.6\n",
      "        frame: 000390 -> precision 0.95, recall 0.96, iou 0.91\n",
      "        frame: 000391 -> precision 1.0, recall 0.97, iou 0.97\n",
      "        frame: 000392 -> precision 1.0, recall 0.95, iou 0.95\n",
      "        frame: 000393 -> precision 0.98, recall 0.96, iou 0.94\n",
      "        frame: 000394 -> precision 1.0, recall 0.98, iou 0.98\n",
      "        frame: 000395 -> precision 1.0, recall 0.96, iou 0.96\n",
      "        frame: 000396 -> precision 0.98, recall 0.97, iou 0.95\n",
      "    average sequence precision 0.98, average sequence recall 0.89, average sequence iou 0.87\n",
      "    sequence: 05\n",
      "        frame: 000580 -> Error, path ../../semantic_kitti_data/sequences/05/velodyne/000578.bin does not exists\n",
      "precision 1, recall 0.0, iou 0.0\n",
      "        frame: 000581 -> Error, path ../../semantic_kitti_data/sequences/05/velodyne/000579.bin does not exists\n",
      "precision 1, recall 0.0, iou 0.0\n",
      "        frame: 000582 -> precision 1, recall 0.0, iou 0.0\n",
      "        frame: 000583 -> precision 1, recall 0.0, iou 0.0\n",
      "        frame: 000584 -> precision 1, recall 0.0, iou 0.0\n",
      "        frame: 000600 -> precision 1, recall 0.0, iou 0.0\n",
      "        frame: 000601 -> precision 1, recall 0.0, iou 0.0\n",
      "        frame: 000602 -> precision 1, recall 0.0, iou 0.0\n",
      "        frame: 000603 -> precision 0, recall 0.0, iou 0.0\n",
      "        frame: 000604 -> precision 1, recall 1, iou 1\n",
      "    average sequence precision 0.9, average sequence recall 0.1, average sequence iou 0.1\n",
      "    sequence: 07\n",
      "        frame: 000000 -> precision 1, recall 1, iou 1\n",
      "        frame: 000001 -> precision 1, recall 1, iou 1\n",
      "        frame: 000002 -> precision 1, recall 1, iou 1\n",
      "        frame: 000003 -> precision 1, recall 1, iou 1\n",
      "        frame: 000004 -> precision 1, recall 1, iou 1\n",
      "        frame: 000011 -> precision 1, recall 1, iou 1\n",
      "        frame: 000012 -> precision 1, recall 0.0, iou 0.0\n",
      "        frame: 000013 -> precision 1, recall 0.0, iou 0.0\n",
      "        frame: 000014 -> precision 1, recall 1, iou 1\n",
      "        frame: 000015 -> precision 1, recall 1, iou 1\n",
      "    average sequence precision 1.0, average sequence recall 0.8, average sequence iou 0.8\n",
      "for class CAR on KITTI dataset, the final average metrics are: precision 0.96 recall 0.64 and iou 0.63\n",
      "evaluation finished in 43.3 seconds\n"
     ]
    }
   ],
   "source": [
    "# Evaluation\n",
    "from tools.evaluation import evaluate_kitti\n",
    "with open('raycast_config.yaml', 'r') as f:\n",
    "    raycast_config = yaml.safe_load(f)\n",
    "with open('evaluate_cofig.yaml', 'r') as f:\n",
    "    evaluation_config = yaml.safe_load(f)\n",
    "    \n",
    "evaluate_kitti(evaluation_config, RaycastPredictor, raycast_config)"
   ]
  },
  {
   "cell_type": "code",
   "execution_count": 327,
   "id": "668d9b18",
   "metadata": {},
   "outputs": [],
   "source": [
    "# closer investigation\n",
    "gr = Ground_removal('05')\n",
    "figure = mlab.figure()\n",
    "rp = RaycastPredictor(config['CAR'], gr)\n",
    "#rp.predict(0)\n",
    "#pts, intens = gr.get_frame(2)\n",
    "#mlab.points3d(pts[:,0], pts[:,1], pts[:,2], intens, figure=figure, mode='point')\n",
    "plot_prediction_cars(gr, rp, 582, figure)\n",
    "mlab.show()"
   ]
  },
  {
   "cell_type": "code",
   "execution_count": 331,
   "id": "59ec9ffd",
   "metadata": {},
   "outputs": [],
   "source": [
    "pts, intens = gr.get_synchronized_frames(582,10)\n",
    "mlab.points3d(pts[:,0], pts[:,1], pts[:,2], pts[:,3], mode='point')\n",
    "mlab.show()"
   ]
  },
  {
   "cell_type": "code",
   "execution_count": null,
   "id": "b87d9548",
   "metadata": {},
   "outputs": [],
   "source": []
  },
  {
   "cell_type": "markdown",
   "id": "d2819afb",
   "metadata": {},
   "source": [
    "### grid search parameters tuning"
   ]
  },
  {
   "cell_type": "code",
   "execution_count": 423,
   "id": "dce3cce6",
   "metadata": {},
   "outputs": [
    {
     "name": "stdout",
     "output_type": "stream",
     "text": [
      "{'EPS': 0.4, 'MIN_SAMPLES': 10, 'RADIUS_EMPTY_SPACE_CHECK': 1, 'RADIUS_RAYCAST': 0.3, 'MAX_WIDTH': 3, 'MAX_LENGTH': 6, 'MAX_HEIGTH': 2, 'MIN_LENGTH': 1, 'NUM_OF_FRAMES_IN_FUTURE': 2, 'EGO_DELETE_RADIUS': 2.5}\n",
      "Error, path ../../semantic_kitti_data/sequences/05/velodyne/000578.bin does not exists\n",
      "Error, path ../../semantic_kitti_data/sequences/05/velodyne/000579.bin does not exists\n",
      "[95.68, 58.57, 57.93]\n",
      "{'EPS': 0.5, 'MIN_SAMPLES': 10, 'RADIUS_EMPTY_SPACE_CHECK': 1, 'RADIUS_RAYCAST': 0.3, 'MAX_WIDTH': 3, 'MAX_LENGTH': 6, 'MAX_HEIGTH': 2, 'MIN_LENGTH': 1, 'NUM_OF_FRAMES_IN_FUTURE': 2, 'EGO_DELETE_RADIUS': 2.5}\n",
      "Error, path ../../semantic_kitti_data/sequences/05/velodyne/000578.bin does not exists\n",
      "Error, path ../../semantic_kitti_data/sequences/05/velodyne/000579.bin does not exists\n",
      "[94.29, 60.92, 60.92]\n",
      "{\"{'EPS': 0.4, 'MIN_SAMPLES': 10, 'RADIUS_EMPTY_SPACE_CHECK': 1, 'RADIUS_RAYCAST': 0.3, 'MAX_WIDTH': 3, 'MAX_LENGTH': 6, 'MAX_HEIGTH': 2, 'MIN_LENGTH': 1, 'NUM_OF_FRAMES_IN_FUTURE': 2, 'EGO_DELETE_RADIUS': 2.5}\": [95.68, 58.57, 57.93], \"{'EPS': 0.5, 'MIN_SAMPLES': 10, 'RADIUS_EMPTY_SPACE_CHECK': 1, 'RADIUS_RAYCAST': 0.3, 'MAX_WIDTH': 3, 'MAX_LENGTH': 6, 'MAX_HEIGTH': 2, 'MIN_LENGTH': 1, 'NUM_OF_FRAMES_IN_FUTURE': 2, 'EGO_DELETE_RADIUS': 2.5}\": [94.29, 60.92, 60.92]}\n"
     ]
    }
   ],
   "source": [
    "from tools.evaluation import grid_search\n",
    "with open('raycast_config.yaml', 'r') as f:\n",
    "    raycast_config = yaml.safe_load(f)\n",
    "with open('evaluate_cofig.yaml', 'r') as f:\n",
    "    evaluation_config = yaml.safe_load(f)\n",
    "    \n",
    "params = {'EPS': [0.4,0.5], 'RADIUS_RAYCAST': [0.2,0.3]}\n",
    "grid_search(evaluation_config, RaycastPredictor, raycast_config, params)"
   ]
  }
 ],
 "metadata": {
  "kernelspec": {
   "display_name": "bakalarka",
   "language": "python",
   "name": "bakalarka"
  },
  "language_info": {
   "codemirror_mode": {
    "name": "ipython",
    "version": 3
   },
   "file_extension": ".py",
   "mimetype": "text/x-python",
   "name": "python",
   "nbconvert_exporter": "python",
   "pygments_lexer": "ipython3",
   "version": "3.7.11"
  }
 },
 "nbformat": 4,
 "nbformat_minor": 5
}
