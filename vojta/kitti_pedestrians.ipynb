{
 "cells": [
  {
   "cell_type": "code",
   "execution_count": 328,
   "metadata": {},
   "outputs": [
    {
     "name": "stdout",
     "output_type": "stream",
     "text": [
      "The autoreload extension is already loaded. To reload it, use:\n",
      "  %reload_ext autoreload\n"
     ]
    }
   ],
   "source": [
    "from tools.ground_removal import *\n",
    "from tools.voxelization import *\n",
    "from tools.pedestrians import *\n",
    "from sklearn.cluster import DBSCAN\n",
    "import numpy as np\n",
    "from mayavi import mlab\n",
    "\n",
    "%load_ext autoreload\n",
    "%autoreload 2"
   ]
  },
  {
   "cell_type": "code",
   "execution_count": 621,
   "metadata": {},
   "outputs": [],
   "source": [
    "pts_, intens = get_synchronized_frames(0,10)\n",
    "#mask = (pts_[:,2] < 1) & (pts_[:,2] > -1)\n",
    "#pts = pts_[mask]\n",
    "pts = pts_"
   ]
  },
  {
   "cell_type": "code",
   "execution_count": 581,
   "metadata": {},
   "outputs": [],
   "source": [
    "mlab.points3d(pts[:,0], pts[:,1], pts[:,2], pts[:,3], mode='point')\n",
    "mlab.show()\n",
    "\n"
   ]
  },
  {
   "cell_type": "code",
   "execution_count": 499,
   "metadata": {},
   "outputs": [],
   "source": [
    "\n",
    "mask = (pts[:,2] > -0.7) & (pts[:,2] < 1)\n",
    "cropped = pts[mask]"
   ]
  },
  {
   "cell_type": "code",
   "execution_count": 497,
   "metadata": {},
   "outputs": [],
   "source": [
    "clustering = DBSCAN(eps=0.3, min_samples=10 * 10, ).fit(cropped[:, :3])"
   ]
  },
  {
   "cell_type": "code",
   "execution_count": 501,
   "metadata": {},
   "outputs": [],
   "source": [
    "mlab.points3d(cropped[:,0], cropped[:,1], cropped[:,2],clustering.labels_, mode='point')\n",
    "mlab.show()"
   ]
  },
  {
   "cell_type": "code",
   "execution_count": 634,
   "metadata": {
    "scrolled": true
   },
   "outputs": [
    {
     "name": "stdout",
     "output_type": "stream",
     "text": [
      "formed 60 clusters\n",
      "skipping cluster 0 because of it's size w 17.388552952926617, l 3.27106698748541, h 1.9979182792446202\n",
      "skipping cluster 1 at time 0 because of it's size w 8.83554864233319, l 2.234773556500903, h 1.5161690367793579\n",
      "skipping cluster 2 at time 0 because of it's size w 1.786158517855947, l 4.15531386458175, h 1.6470744582625976\n",
      "cluster 3, time 5 skipping because no points; cluster 3, time 6 skipping because no points; cluster 3, time 7 skipping because no points; cluster 3, time 8 skipping because no points; cluster 3, time 9 skipping because no points; \n",
      "\n",
      "skipping cluster 4 at time 0 because of it's size w 0.6724336845215255, l 2.434623999234912, h 1.331695346211621\n",
      "cluster 5, time 5 skipping because no points; cluster 5, time 6 skipping because no points; cluster 5, time 7 skipping because no points; cluster 5, time 8 skipping because no points; cluster 5, time 9 skipping because no points; \n",
      "\n",
      "skipping cluster 6 because of it's size w 1.622983503489384, l 2.1180721761188277, h 1.9085045733168493\n",
      "skipping cluster 7 because of it's size w 1.5374175101721015, l 0.828382328254972, h 1.8352094023282195\n",
      "skipping cluster 8 because of it's size w 8.473699604239364, l 2.0750595551713253, h 1.9984450640494829\n",
      "skipping cluster 9 because of it's size w 2.6035745969799144, l 1.620506642866678, h 1.998606775297149\n",
      "skipping cluster 10 because of it's size w 0.7986440698010853, l 0.39722726116789087, h 1.9600903951951083\n",
      "skipping cluster 11 because of it's size w 1.4138541568331213, l 0.5810807012764974, h 1.8932436800956096\n",
      "skipping cluster 12 because of it's size w 2.735586074734396, l 0.862015047273565, h 1.810803728272249\n",
      "skipping cluster 13 at time 0 because of it's size w 17.70772840362568, l 9.00197507255539, h 1.7690536418824196\n",
      "skipping cluster 14 because of it's size w 8.383673487590485, l 7.237481882588363, h 1.9994001909432906\n",
      "cluster 16, time 6 skipping because no points; cluster 16, time 7 skipping because no points; cluster 16, time 8 skipping because no points; cluster 16, time 9 skipping because no points; \n",
      "\n",
      "skipping cluster 17 because of it's size w 0.8079327806022611, l 0.33254095099604175, h 1.9964442953828065\n",
      "skipping cluster 18 because of it's size w 0.1988424400102815, l 0.47075494513031124, h 0.3021275643451039\n",
      "cluster 19, time 6 skipping because no points; cluster 19, time 7 skipping because no points; cluster 19, time 8 skipping because no points; cluster 19, time 9 skipping because no points; \n",
      "\n",
      "skipping cluster 20 because of it's size w 2.407024059275603, l 0.353158721340316, h 1.9945972199479147\n",
      "skipping cluster 21 at time 0 because of it's size w 1.1097952853440205, l 2.0204916401036845, h 1.2880037137238356\n",
      "cluster 22, time 4 skipping because no points; cluster 22, time 5 skipping because no points; cluster 22, time 6 skipping because no points; cluster 22, time 7 skipping because no points; cluster 22, time 8 skipping because no points; cluster 22, time 9 skipping because no points; \n",
      "\n",
      "skipping cluster 25 because of it's size w 0.7440054218716305, l 0.38777436279237776, h 1.9911409975188152\n",
      "cluster 26, time 5 skipping because no points; cluster 26, time 6 skipping because no points; cluster 26, time 7 skipping because no points; cluster 26, time 8 skipping because no points; cluster 26, time 9 skipping because no points; \n",
      "\n",
      "skipping cluster 28 because of it's size w 0.8364730353449623, l 0.36924282823929566, h 1.9347492597834144\n",
      "cluster 29, time 6 skipping because no points; cluster 29, time 7 skipping because no points; cluster 29, time 8 skipping because no points; cluster 29, time 9 skipping because no points; \n",
      "\n",
      "skipping cluster 32 because of it's size w 0.5589554714697442, l 0.1609460736946806, h 0.5718462955801411\n",
      "skipping cluster 37 at time 0 because of it's size w 3.070161392745284, l 2.513015866094017, h 1.028625800794314\n",
      "skipping cluster 39 because of it's size w 0.15990714995594724, l 0.5585572479074736, h 0.09614877829757784\n",
      "skipping cluster 40 because of it's size w 0.8569373356750916, l 0.24118174785703683, h 0.5587831429525876\n",
      "skipping cluster 41 at time 6 because of it's size w 2.088758791976179, l 0.7163402476629734, h 1.4001016157227215\n",
      "skipping cluster 43 at time 3 because of it's size w 2.2745667585057987, l 0.7536413542624132, h 0.9903049421514352\n",
      "cluster 44, time 0 skipping because no points; cluster 44, time 1 skipping because no points; cluster 44, time 5 skipping because no points; cluster 44, time 6 skipping because no points; cluster 44, time 7 skipping because no points; cluster 44, time 8 skipping because no points; cluster 44, time 9 skipping because no points; \n",
      "\n",
      "cluster 46, time 0 skipping because no points; cluster 46, time 1 skipping because no points; \n",
      "\n",
      "skipping cluster 47 because of it's size w 0.7260334368467589, l 0.5187801887864829, h 0.4532614704860486\n",
      "skipping cluster 48 because of it's size w 0.32482349955783985, l 0.6302461687350913, h 0.5172550105349928\n",
      "cluster 49, time 0 skipping because no points; cluster 49, time 1 skipping because no points; cluster 49, time 2 skipping because no points; \n",
      "\n",
      "skipping cluster 50 because of it's size w 0.5118608292863698, l 0.4130882750199145, h 0.6286231625216928\n",
      "cluster 51, time 0 skipping because no points; cluster 51, time 1 skipping because no points; cluster 51, time 2 skipping because no points; cluster 51, time 3 skipping because no points; cluster 51, time 4 skipping because no points; \n",
      "\n",
      "skipping cluster 52 because of it's size w 0.45696190996482056, l 0.5069350866771902, h 0.5869454755527129\n",
      "cluster 53, time 0 skipping because no points; cluster 53, time 1 skipping because no points; cluster 53, time 2 skipping because no points; cluster 53, time 3 skipping because no points; cluster 53, time 4 skipping because no points; cluster 53, time 5 skipping because no points; \n",
      "\n",
      "cluster 54, time 0 skipping because no points; cluster 54, time 1 skipping because no points; cluster 54, time 4 skipping because no points; cluster 54, time 5 skipping because no points; cluster 54, time 6 skipping because no points; \n",
      "\n",
      "cluster 55, time 0 skipping because no points; cluster 55, time 1 skipping because no points; cluster 55, time 2 skipping because no points; cluster 55, time 3 skipping because no points; cluster 55, time 4 skipping because no points; cluster 55, time 5 skipping because no points; cluster 55, time 6 skipping because no points; \n",
      "\n",
      "skipping cluster 56 because of it's size w 0.5378147904501276, l 0.47598254581032995, h 0.515902425591062\n",
      "skipping cluster 57 because of it's size w 0.5529074085795216, l 0.3254180832077669, h 0.5044543390713316\n",
      "cluster 58, time 0 skipping because no points; cluster 58, time 1 skipping because no points; cluster 58, time 2 skipping because no points; cluster 58, time 3 skipping because no points; cluster 58, time 4 skipping because no points; cluster 58, time 5 skipping because no points; cluster 58, time 6 skipping because no points; \n",
      "\n",
      "skipping cluster 59 because of it's size w 0.3191952193242482, l 0.48458787604798825, h 0.5609564758389836\n",
      "\n",
      "---------second wave of filtering--------------\n",
      "\n",
      "considering [ 3 16 19 22 29 31 35 42 44 45 51 54 58]\n",
      "cluster 3 ground observed at times [6.]\n",
      "skipping cluster 3 because ground is only observed at times [6.] at frequencies [2]\n",
      "cluster 16 ground observed at times [4.]\n",
      "skipping cluster 16 because ground is only observed at times [4.] at frequencies [1]\n",
      "cluster 19 ground observed at times [10. 11.]\n",
      "skipping cluster 19 because ground is only observed at times [10. 11.] at frequencies [2 4]\n",
      "cluster 22 ground observed at times [2. 3. 4.]\n",
      "skipping cluster 22 because ground is only observed at times [2. 3. 4.] at frequencies [16 13  2]\n",
      "cluster 29 ground observed at times [5.]\n",
      "skipping cluster 29 because ground is only observed at times [5.] at frequencies [1]\n",
      "cluster 31 ground observed at times [ 2.  3.  4.  5.  6.  7.  8.  9. 10. 11.]\n",
      "cluster 35 ground observed at times [ 2.  3.  4.  5.  6.  7.  8.  9. 10. 11.]\n",
      "cluster 42 ground observed at times [ 3.  4.  5.  6.  7.  8.  9. 10. 11.]\n",
      "cluster 44 ground observed at times [ 9. 10.]\n",
      "skipping cluster 44 because ground is only observed at times [ 9. 10.] at frequencies [6 3]\n",
      "cluster 45 ground observed at times [3. 4. 5. 6. 8. 9.]\n",
      "cluster 51 ground observed at times [10.]\n",
      "skipping cluster 51 because ground is only observed at times [10.] at frequencies [2]\n",
      "cluster 54 ground observed at times [9.]\n",
      "skipping cluster 54 because ground is only observed at times [9.] at frequencies [1]\n",
      "skipping cluster 58 because it is not observed in enough frames,first time of observation is 9.0\n"
     ]
    }
   ],
   "source": [
    "pts_, intens = get_synchronized_frames(2,10)\n",
    "cropped_pts, dynamic_mask, clustering, dynamic_clusters, differences, centroids_final = find_pedestrians(pts_[:,:3], pts_[:,3].reshape(-1,1))"
   ]
  },
  {
   "cell_type": "code",
   "execution_count": 635,
   "metadata": {},
   "outputs": [
    {
     "name": "stdout",
     "output_type": "stream",
     "text": [
      "[31, 35, 42, 45]\n"
     ]
    }
   ],
   "source": [
    "print(dynamic_clusters)\n",
    "pts = cropped_pts"
   ]
  },
  {
   "cell_type": "code",
   "execution_count": 636,
   "metadata": {},
   "outputs": [],
   "source": [
    "mlab.points3d(cropped_pts[:,0][dynamic_mask], cropped_pts[:,1][dynamic_mask],\n",
    "              cropped_pts[:,2][dynamic_mask], cropped_pts[:,3][dynamic_mask], mode='point')\n",
    "mlab.points3d(cropped_pts[:,0][~dynamic_mask], cropped_pts[:,1][~dynamic_mask], \n",
    "              cropped_pts[:,2][~dynamic_mask], mode='point')\n",
    "mlab.show()"
   ]
  },
  {
   "cell_type": "code",
   "execution_count": 625,
   "metadata": {},
   "outputs": [
    {
     "name": "stdout",
     "output_type": "stream",
     "text": [
      "average speed 0.08243254823794736\n"
     ]
    }
   ],
   "source": [
    "cluster = 48 #dynamic_clusters[4]\n",
    "print(f\"average speed {np.linalg.norm(differences[cluster][:2])}\")\n",
    "single_mask = clustering.labels_ == cluster\n",
    "time_mask = pts[:,3][single_mask] == 0 # at time 0\n",
    "\n",
    "mlab.points3d(pts[:,0][single_mask][time_mask], pts[:,1][single_mask][time_mask],\n",
    "              pts[:,2][single_mask][time_mask], pts[:,3][single_mask][time_mask],\n",
    "              mode='point')\n",
    "\n",
    "mlab.points3d(pts[:,0][~single_mask], pts[:,1][~single_mask], pts[:,2][~single_mask],\n",
    "              mode='point')\n",
    "\n",
    "#mlab.points3d(pts_[:,0], pts_[:,1], pts_[:,2], mode='point')\n",
    "mlab.show()"
   ]
  },
  {
   "cell_type": "code",
   "execution_count": 599,
   "metadata": {},
   "outputs": [],
   "source": [
    "bb_x_min =  pts[:,0][single_mask][time_mask].min()\n",
    "bb_x_max =  pts[:,0][single_mask][time_mask].max()\n",
    "\n",
    "bb_y_min =  pts[:,1][single_mask][time_mask].min()\n",
    "bb_y_max =  pts[:,1][single_mask][time_mask].max()\n",
    "\n",
    "bb_z_min =  pts[:,2][single_mask][time_mask].min()\n",
    "bb_z_max =  pts[:,2][single_mask][time_mask].max()"
   ]
  },
  {
   "cell_type": "code",
   "execution_count": 512,
   "metadata": {},
   "outputs": [],
   "source": [
    "\n",
    "# along x axis\n",
    "mlab.plot3d([bb_x_min, bb_x_max], [bb_y_min, bb_y_min], [bb_z_min, bb_z_min], color=(1,0.7,0.3))\n",
    "mlab.plot3d([bb_x_min, bb_x_max], [bb_y_max, bb_y_max], [bb_z_min, bb_z_min], color=(1,0.7,0.3))\n",
    "mlab.plot3d([bb_x_min, bb_x_max], [bb_y_min, bb_y_min], [bb_z_max, bb_z_max], color=(1,0.7,0.3))\n",
    "mlab.plot3d([bb_x_min, bb_x_max], [bb_y_max, bb_y_max], [bb_z_max, bb_z_max], color=(1,0.7,0.3))\n",
    "\n",
    "# along y axis\n",
    "mlab.plot3d([bb_x_min, bb_x_min], [bb_y_min, bb_y_max], [bb_z_min, bb_z_min], color=(1,0.7,0.3))\n",
    "mlab.plot3d([bb_x_min, bb_x_min], [bb_y_min, bb_y_max], [bb_z_max, bb_z_max], color=(1,0.7,0.3))\n",
    "mlab.plot3d([bb_x_max, bb_x_max], [bb_y_min, bb_y_max], [bb_z_min, bb_z_min], color=(1,0.7,0.3))\n",
    "mlab.plot3d([bb_x_max, bb_x_max], [bb_y_min, bb_y_max], [bb_z_max, bb_z_max], color=(1,0.7,0.3))\n",
    "\n",
    "# along z axis\n",
    "mlab.plot3d([bb_x_min, bb_x_min], [bb_y_min, bb_y_min], [bb_z_min, bb_z_max], color=(1,0.7,0.3))\n",
    "mlab.plot3d([bb_x_min, bb_x_min], [bb_y_max, bb_y_max], [bb_z_min, bb_z_max], color=(1,0.7,0.3))\n",
    "mlab.plot3d([bb_x_max, bb_x_max], [bb_y_min, bb_y_min], [bb_z_min, bb_z_max], color=(1,0.7,0.3))\n",
    "mlab.plot3d([bb_x_max, bb_x_max], [bb_y_max, bb_y_max], [bb_z_min, bb_z_max], color=(1,0.7,0.3))\n",
    "\n",
    "\n",
    "mlab.points3d(pts[:,0][single_mask][time_mask], pts[:,1][single_mask][time_mask],\n",
    "              pts[:,2][single_mask][time_mask], pts[:,3][single_mask][time_mask],\n",
    "              mode='point')\n",
    "mlab.show()"
   ]
  },
  {
   "cell_type": "code",
   "execution_count": 567,
   "metadata": {},
   "outputs": [],
   "source": [
    "bb_mask = (pts_[:,0] < bb_x_max) & (pts_[:,0] > bb_x_min) \\\n",
    "    & (pts_[:,1] < bb_y_max) & (pts_[:,1] > bb_y_min)\n",
    "\n",
    "floor = pts_[:,2][bb_mask].min()\n",
    "bb_mask = bb_mask & (pts_[:,2] < (floor + 0.1))"
   ]
  },
  {
   "cell_type": "code",
   "execution_count": 568,
   "metadata": {},
   "outputs": [],
   "source": [
    "mlab.points3d(pts_[:,0][bb_mask], pts_[:,1][bb_mask],\n",
    "              pts_[:,2][bb_mask], pts_[:,3][bb_mask],\n",
    "              mode='point')\n",
    "mlab.points3d(pts_[:,0][~bb_mask], pts_[:,1][~bb_mask],\n",
    "              pts_[:,2][~bb_mask],\n",
    "              mode='point')\n",
    "mlab.show()\n"
   ]
  },
  {
   "cell_type": "code",
   "execution_count": 552,
   "metadata": {},
   "outputs": [
    {
     "data": {
      "text/plain": [
       "0"
      ]
     },
     "execution_count": 552,
     "metadata": {},
     "output_type": "execute_result"
    }
   ],
   "source": [
    "np.sum(pts_[:,3][bb_mask] == 3)"
   ]
  },
  {
   "cell_type": "code",
   "execution_count": 575,
   "metadata": {},
   "outputs": [
    {
     "data": {
      "text/plain": [
       "array([0., 2., 4., 5., 6., 8., 9.])"
      ]
     },
     "execution_count": 575,
     "metadata": {},
     "output_type": "execute_result"
    }
   ],
   "source": [
    "v,f = np.unique(pts_[:,3][bb_mask], return_counts=True)\n",
    "v[f>1]\n"
   ]
  },
  {
   "cell_type": "code",
   "execution_count": 402,
   "metadata": {},
   "outputs": [
    {
     "data": {
      "text/plain": [
       "array([0., 0., 0., 0., 0., 0., 0., 0., 0., 1., 1., 1., 1., 1., 1., 1., 1.,\n",
       "       1., 1., 1., 1., 2., 2., 2., 2., 2., 2., 2., 2., 2., 2., 2., 3., 3.,\n",
       "       3., 3., 3., 3., 3., 3., 3., 3., 3., 3., 3., 4., 4., 4., 4., 4., 4.,\n",
       "       4., 4., 4., 4., 4., 4., 4., 4., 4., 4., 4., 4., 4., 4., 4., 4., 5.,\n",
       "       5., 5., 5., 5., 5., 6., 6., 6., 6., 6., 6., 6., 6., 6., 6., 6., 6.,\n",
       "       6., 6., 6., 6., 6., 7., 7., 7., 7., 7., 7., 7., 7., 7., 7., 7., 7.,\n",
       "       7., 7., 7., 7., 7., 7., 7., 7., 7., 7., 8., 8., 8., 8., 8., 8., 8.,\n",
       "       8., 8., 8., 8., 8., 8., 8., 8., 8., 8., 8., 8., 8., 8., 8., 8., 8.,\n",
       "       8., 8., 8., 8., 8., 8., 9., 9., 9., 9., 9., 9., 9., 9., 9., 9., 9.,\n",
       "       9., 9., 9., 9., 9., 9., 9., 9., 9., 9., 9., 9., 9., 9., 9., 9., 9.,\n",
       "       9., 9., 9., 9., 9., 9., 9., 9., 9., 9., 9., 9., 9., 9.])"
      ]
     },
     "execution_count": 402,
     "metadata": {},
     "output_type": "execute_result"
    }
   ],
   "source": [
    "pts_[:,3][bb_mask]"
   ]
  },
  {
   "cell_type": "code",
   "execution_count": 569,
   "metadata": {},
   "outputs": [
    {
     "name": "stdout",
     "output_type": "stream",
     "text": [
      "0.0\n",
      "2.0\n",
      "4.0\n",
      "5.0\n",
      "6.0\n",
      "8.0\n",
      "9.0\n"
     ]
    }
   ],
   "source": [
    "for i,j in zip(v,f):\n",
    "    print(i)"
   ]
  },
  {
   "cell_type": "code",
   "execution_count": null,
   "metadata": {},
   "outputs": [],
   "source": []
  },
  {
   "cell_type": "code",
   "execution_count": null,
   "metadata": {},
   "outputs": [],
   "source": []
  },
  {
   "cell_type": "code",
   "execution_count": 615,
   "metadata": {},
   "outputs": [
    {
     "data": {
      "text/plain": [
       "4"
      ]
     },
     "execution_count": 615,
     "metadata": {},
     "output_type": "execute_result"
    }
   ],
   "source": [
    "bb_mask = (pts_[:,0] < bb_x_max) & (pts_[:,0] > bb_x_min) \\\n",
    "    & (pts_[:,1] < bb_y_max) & (pts_[:,1] > bb_y_min) \\\n",
    "    & (pts_[:,2] < bb_z_max) & (pts_[:,2] > bb_z_min)\n",
    "np.sum((pts_[:,3] == 5)[bb_mask])"
   ]
  },
  {
   "cell_type": "code",
   "execution_count": null,
   "metadata": {},
   "outputs": [],
   "source": []
  }
 ],
 "metadata": {
  "kernelspec": {
   "display_name": "bakalarka",
   "language": "python",
   "name": "bakalarka"
  },
  "language_info": {
   "codemirror_mode": {
    "name": "ipython",
    "version": 3
   },
   "file_extension": ".py",
   "mimetype": "text/x-python",
   "name": "python",
   "nbconvert_exporter": "python",
   "pygments_lexer": "ipython3",
   "version": "3.7.11"
  }
 },
 "nbformat": 4,
 "nbformat_minor": 1
}
