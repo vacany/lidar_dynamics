{
 "cells": [
  {
   "cell_type": "code",
   "execution_count": 145,
   "metadata": {},
   "outputs": [
    {
     "name": "stdout",
     "output_type": "stream",
     "text": [
      "The autoreload extension is already loaded. To reload it, use:\n",
      "  %reload_ext autoreload\n"
     ]
    }
   ],
   "source": [
    "from tools.ground_removal import *\n",
    "from tools.voxelization import *\n",
    "from tools.pedestrians import *\n",
    "from sklearn.cluster import DBSCAN\n",
    "import numpy as np\n",
    "from mayavi import mlab\n",
    "\n",
    "%load_ext autoreload\n",
    "%autoreload 2"
   ]
  },
  {
   "cell_type": "code",
   "execution_count": 219,
   "metadata": {},
   "outputs": [],
   "source": [
    "pts_, intens = get_synchronized_frames(19,10)\n",
    "#mask = (pts_[:,2] < 1) & (pts_[:,2] > -1)\n",
    "#pts = pts_[mask]\n",
    "pts = pts_"
   ]
  },
  {
   "cell_type": "code",
   "execution_count": 4,
   "metadata": {},
   "outputs": [],
   "source": [
    "mlab.points3d(pts[:,0], pts[:,1], pts[:,2], pts[:,3], mode='point')\n",
    "mlab.show()\n",
    "\n"
   ]
  },
  {
   "cell_type": "code",
   "execution_count": 220,
   "metadata": {},
   "outputs": [],
   "source": [
    "\n",
    "mask = (pts_[:,2] > -1) & (pts_[:,2] < 1)\n",
    "cropped = pts_[mask]"
   ]
  },
  {
   "cell_type": "code",
   "execution_count": 221,
   "metadata": {},
   "outputs": [],
   "source": [
    "clustering = DBSCAN(eps=0.3, min_samples=7 * 10, ).fit(cropped[:, :3])"
   ]
  },
  {
   "cell_type": "code",
   "execution_count": 224,
   "metadata": {},
   "outputs": [],
   "source": [
    "mlab.points3d(cropped[:,0], cropped[:,1], cropped[:,2],clustering.labels_, mode='point')\n",
    "mlab.show()"
   ]
  },
  {
   "cell_type": "code",
   "execution_count": 159,
   "metadata": {},
   "outputs": [
    {
     "data": {
      "text/plain": [
       "(3,)"
      ]
     },
     "execution_count": 159,
     "metadata": {},
     "output_type": "execute_result"
    }
   ],
   "source": [
    "a = np.array([[1,2,3],[2,2,2],[3,1,5]])\n",
    "b = np.array([True, True, False])\n",
    "b.shape"
   ]
  },
  {
   "cell_type": "code",
   "execution_count": 291,
   "metadata": {
    "scrolled": true
   },
   "outputs": [
    {
     "name": "stdout",
     "output_type": "stream",
     "text": [
      "formed 61 clusters\n",
      "skipping cluster 0 because of it's size w 17.39520876306575, l 3.316139942931465, h 1.9999017762832334\n",
      "skipping cluster 1 at time 0 because of it's size w 8.773822545710932, l 4.459904671698093, h 1.511138498171964\n",
      "skipping cluster 2 at time 0 because of it's size w 1.2360420224637627, l 4.689170360839952, h 1.4631000134304308\n",
      "cluster 3, time 7 skipping because no points; cluster 3, time 8 skipping because no points; cluster 3, time 9 skipping because no points; \n",
      "\n",
      "cluster 4, time 7 skipping because no points; cluster 4, time 8 skipping because no points; cluster 4, time 9 skipping because no points; \n",
      "\n",
      "skipping cluster 5 because of it's size w 2.8124292468350127, l 3.9025969933977365, h 1.8787573205871393\n",
      "skipping cluster 7 because of it's size w 8.45688004123883, l 2.5055140061902375, h 1.9967459086755133\n",
      "skipping cluster 8 at time 0 because of it's size w 2.5805063248732214, l 0.47379827493114135, h 1.0698446923583855\n",
      "skipping cluster 9 because of it's size w 2.8165617026887766, l 1.6331563329939724, h 1.998606775297149\n",
      "skipping cluster 10 because of it's size w 1.0902848056763723, l 0.3670165904021614, h 1.9964442953828065\n",
      "skipping cluster 11 because of it's size w 1.7050676332738686, l 0.46135469902810833, h 1.9623755983138593\n",
      "skipping cluster 12 because of it's size w 2.2303533559245903, l 0.8095416730858149, h 1.893303405987506\n",
      "cluster 13, time 5 skipping because no points; cluster 13, time 6 skipping because no points; cluster 13, time 7 skipping because no points; cluster 13, time 8 skipping because no points; cluster 13, time 9 skipping because no points; \n",
      "\n",
      "skipping cluster 14 at time 0 because of it's size w 20.844224929866947, l 4.635776280507474, h 1.64828629142253\n",
      "skipping cluster 15 because of it's size w 0.2746845389348582, l 0.25117030699713094, h 0.18098211905079636\n",
      "cluster 16, time 8 skipping because no points; cluster 16, time 9 skipping because no points; \n",
      "\n",
      "skipping cluster 17 because of it's size w 11.333171067192147, l 5.594587033676712, h 1.9994001909432906\n",
      "cluster 19, time 3 skipping because no points; cluster 19, time 4 skipping because no points; cluster 19, time 6 skipping because no points; cluster 19, time 7 skipping because no points; cluster 19, time 8 skipping because no points; cluster 19, time 9 skipping because no points; \n",
      "\n",
      "skipping cluster 20 because of it's size w 0.8276871613593038, l 1.9966650530074395, h 1.9558692936019397\n",
      "skipping cluster 21 because of it's size w 5.599240844409078, l 1.3807434799448206, h 1.9944927004208592\n",
      "skipping cluster 23 because of it's size w 0.9744615567164665, l 0.3094466865120733, h 1.9897417157452644\n",
      "skipping cluster 24 at time 0 because of it's size w 2.15186977412737, l 2.0726795189582283, h 1.6869840033275283\n",
      "skipping cluster 25 because of it's size w 0.7765371097226677, l 0.38102341400718487, h 1.9787543076412517\n",
      "cluster 27, time 8 skipping because no points; cluster 27, time 9 skipping because no points; \n",
      "\n",
      "skipping cluster 28 because of it's size w 0.975768141129361, l 0.41033606424576874, h 1.9934492975085327\n",
      "skipping cluster 29 because of it's size w 0.8498737508425407, l 0.3481211437961136, h 1.8952303139003401\n",
      "skipping cluster 37 at time 0 because of it's size w 2.236520767125292, l 0.42935609836653654, h 0.8096334634476547\n",
      "skipping cluster 38 at time 0 because of it's size w 1.7100894452504907, l 2.3130979530932425, h 0.9538060797523044\n",
      "skipping cluster 40 because of it's size w 0.15990714995594724, l 0.5585572479074736, h 0.09614877829757784\n",
      "cluster 42, time 7 skipping because no points; \n",
      "\n",
      "cluster 44, time 0 skipping because no points; cluster 44, time 1 skipping because no points; cluster 44, time 7 skipping because no points; cluster 44, time 8 skipping because no points; cluster 44, time 9 skipping because no points; \n",
      "\n",
      "cluster 45, time 0 skipping because no points; cluster 45, time 1 skipping because no points; cluster 45, time 5 skipping because no points; cluster 45, time 6 skipping because no points; \n",
      "\n",
      "skipping cluster 46 because of it's size w 0.55292139986717, l 0.19243913668797408, h 0.6215139226408551\n",
      "cluster 47, time 0 skipping because no points; cluster 47, time 1 skipping because no points; cluster 47, time 2 skipping because no points; \n",
      "\n",
      "cluster 47 invalid because norm of difference at time 8 and 7 is 0.9826596569275106 \n",
      "skipping cluster 48 at time 5 because of it's size w 2.2954137244014756, l 0.8656226354693821, h 0.9903049421514352\n",
      "cluster 49, time 0 skipping because no points; cluster 49, time 1 skipping because no points; cluster 49, time 2 skipping because no points; cluster 49, time 3 skipping because no points; cluster 49, time 8 skipping because no points; cluster 49, time 9 skipping because no points; \n",
      "\n",
      "skipping cluster 50 because of it's size w 0.41007101312520433, l 0.23987742775940113, h 0.36026228082513806\n",
      "cluster 51, time 0 skipping because no points; \n",
      "\n",
      "cluster 52, time 0 skipping because no points; cluster 52, time 1 skipping because no points; cluster 52, time 2 skipping because no points; cluster 52, time 3 skipping because no points; \n",
      "\n",
      "cluster 53, time 0 skipping because no points; cluster 53, time 1 skipping because no points; cluster 53, time 2 skipping because no points; \n",
      "\n",
      "cluster 54, time 0 skipping because no points; cluster 54, time 1 skipping because no points; cluster 54, time 2 skipping because no points; cluster 54, time 3 skipping because no points; cluster 54, time 4 skipping because no points; cluster 54, time 8 skipping because no points; cluster 54, time 9 skipping because no points; \n",
      "\n",
      "cluster 55, time 0 skipping because no points; cluster 55, time 1 skipping because no points; cluster 55, time 2 skipping because no points; cluster 55, time 3 skipping because no points; cluster 55, time 4 skipping because no points; cluster 55, time 9 skipping because no points; \n",
      "\n",
      "cluster 56, time 0 skipping because no points; cluster 56, time 1 skipping because no points; cluster 56, time 2 skipping because no points; cluster 56, time 3 skipping because no points; cluster 56, time 4 skipping because no points; \n",
      "\n",
      "cluster 57, time 0 skipping because no points; cluster 57, time 1 skipping because no points; cluster 57, time 2 skipping because no points; cluster 57, time 3 skipping because no points; cluster 57, time 4 skipping because no points; cluster 57, time 5 skipping because no points; cluster 57, time 9 skipping because no points; \n",
      "\n",
      "cluster 58, time 0 skipping because no points; cluster 58, time 1 skipping because no points; cluster 58, time 2 skipping because no points; cluster 58, time 3 skipping because no points; cluster 58, time 4 skipping because no points; cluster 58, time 5 skipping because no points; cluster 58, time 6 skipping because no points; \n",
      "\n",
      "cluster 59, time 0 skipping because no points; cluster 59, time 1 skipping because no points; cluster 59, time 2 skipping because no points; cluster 59, time 3 skipping because no points; cluster 59, time 4 skipping because no points; cluster 59, time 5 skipping because no points; cluster 59, time 6 skipping because no points; \n",
      "\n",
      "cluster 60, time 0 skipping because no points; cluster 60, time 1 skipping because no points; cluster 60, time 2 skipping because no points; cluster 60, time 3 skipping because no points; cluster 60, time 4 skipping because no points; cluster 60, time 5 skipping because no points; cluster 60, time 6 skipping because no points; cluster 60, time 9 skipping because no points; \n",
      "\n",
      "\n",
      "---------second wave of filtering--------------\n",
      "\n",
      "considering [ 3 19 33 34 36 39 42 44 45 49 51 53 54 56 57 58 59 60]\n",
      "cluster 3 first time = 0.0\n",
      "cluster 3 ground observed at times [1. 2.]\n",
      "skipping cluster 3 because ground is only observed at times [1. 2.] at frequencies [14  7]\n",
      "cluster 19 first time = 0.0\n",
      "cluster 19 ground observed at times [0.]\n",
      "skipping cluster 19 because ground is only observed at times [0.] at frequencies [7]\n",
      "cluster 33 first time = 0.0\n",
      "cluster 33 ground observed at times [0. 2. 3. 4. 5. 6. 7. 8. 9.]\n",
      "cluster 34 first time = 0.0\n",
      "cluster 34 ground observed at times [0. 1. 2. 3. 4. 5. 6. 7. 8. 9.]\n",
      "cluster 36 first time = 0.0\n",
      "cluster 36 ground observed at times [0. 2. 4. 5. 6. 8. 9.]\n",
      "cluster 39 first time = 0.0\n",
      "cluster 39 ground observed at times [0. 1. 2. 3. 4. 5. 6. 7. 8. 9.]\n",
      "cluster 42 first time = 1.0\n",
      "cluster 42 ground observed at times [8. 9.]\n",
      "skipping cluster 42 because ground is only observed at times [8. 9.] at frequencies [ 1 12]\n",
      "cluster 44 first time = 2.0\n",
      "cluster 44 ground observed at times [2. 5. 6.]\n",
      "skipping cluster 44 because ground is only observed at times [2. 5. 6.] at frequencies [ 1  2 17]\n",
      "cluster 45 first time = 2.0\n",
      "cluster 45 ground observed at times [2. 3. 6. 7. 8.]\n",
      "skipping cluster 45 because ground is only observed at times [2. 3. 6. 7. 8.] at frequencies [12  2  3 19  2]\n",
      "cluster 49 first time = 4.0\n",
      "cluster 49 ground observed at times [9.]\n",
      "skipping cluster 49 because ground is only observed at times [9.] at frequencies [6]\n",
      "cluster 51 first time = 1.0\n",
      "cluster 51 ground observed at times [0. 2. 4. 5. 6.]\n",
      "skipping cluster 51 because ground is only observed at times [0. 2. 4. 5. 6.] at frequencies [1 2 2 1 1]\n",
      "cluster 53 first time = 4.0\n",
      "cluster 53 ground observed at times [1. 3. 4. 5. 6. 7. 9.]\n",
      "cluster 54 first time = 5.0\n"
     ]
    },
    {
     "name": "stdout",
     "output_type": "stream",
     "text": [
      "cluster 54 ground observed at times [5. 6.]\n",
      "skipping cluster 54 because ground is only observed at times [5. 6.] at frequencies [7 3]\n",
      "cluster 56 first time = 5.0\n",
      "cluster 56 ground observed at times [6. 7.]\n",
      "skipping cluster 56 because ground is only observed at times [6. 7.] at frequencies [ 2 15]\n",
      "cluster 57 first time = 6.0\n",
      "skipping cluster 57 because it is not observed in enough frames,first time of observation is 6.0\n",
      "cluster 58 first time = 7.0\n",
      "skipping cluster 58 because it is not observed in enough frames,first time of observation is 7.0\n",
      "cluster 59 first time = 7.0\n",
      "skipping cluster 59 because it is not observed in enough frames,first time of observation is 7.0\n",
      "cluster 60 first time = 7.0\n",
      "skipping cluster 60 because it is not observed in enough frames,first time of observation is 7.0\n"
     ]
    }
   ],
   "source": [
    "pts_, intens = get_synchronized_frames(0,10)\n",
    "mask = (pts_[:,2] > -1) & (pts_[:,2] < 1)\n",
    "times = pts_[:,3].reshape(-1,1)\n",
    "cropped_pts = pts_[:,:3][mask]\n",
    "cropped_times = pts_[:,3][mask].reshape(-1,1)\n",
    "\n",
    "dynamic_mask, clustering, dynamic_clusters, \\\n",
    "    differences, centroids_final \\\n",
    "    = find_pedestrians(pts_[:,:3], times, cropped_pts, cropped_times)"
   ]
  },
  {
   "cell_type": "code",
   "execution_count": 292,
   "metadata": {},
   "outputs": [
    {
     "name": "stdout",
     "output_type": "stream",
     "text": [
      "[33, 34, 36, 39, 53]\n"
     ]
    }
   ],
   "source": [
    "print(dynamic_clusters)\n"
   ]
  },
  {
   "cell_type": "code",
   "execution_count": 293,
   "metadata": {},
   "outputs": [],
   "source": [
    "mlab.points3d(cropped_pts[:,0][dynamic_mask], cropped_pts[:,1][dynamic_mask],\n",
    "              cropped_pts[:,2][dynamic_mask], cropped_times[dynamic_mask].reshape(-1,), mode='point')\n",
    "mlab.points3d(cropped_pts[:,0][~dynamic_mask], cropped_pts[:,1][~dynamic_mask], \n",
    "              cropped_pts[:,2][~dynamic_mask], mode='point')\n",
    "mlab.show()"
   ]
  },
  {
   "cell_type": "code",
   "execution_count": 209,
   "metadata": {},
   "outputs": [
    {
     "data": {
      "text/plain": [
       "(270, 1)"
      ]
     },
     "execution_count": 209,
     "metadata": {},
     "output_type": "execute_result"
    }
   ],
   "source": [
    "single_mask.shape\n",
    "cropped_times[single_mask][time_mask].shape"
   ]
  },
  {
   "cell_type": "code",
   "execution_count": 249,
   "metadata": {},
   "outputs": [
    {
     "name": "stdout",
     "output_type": "stream",
     "text": [
      "average speed 0.190253726046953\n",
      "494\n"
     ]
    }
   ],
   "source": [
    "cluster = 23  #dynamic_clusters[4]\n",
    "print(f\"average speed {np.linalg.norm(differences[cluster][:2])}\")\n",
    "single_mask = clustering.labels_ == cluster\n",
    "time_mask = cropped_times[single_mask] == 19 # at time 0\n",
    "time_mask = time_mask.reshape(-1,)\n",
    "print(np.sum(time_mask))\n",
    "\n",
    "mlab.points3d(cropped_pts[:,0][single_mask][time_mask], cropped_pts[:,1][single_mask][time_mask],\n",
    "              cropped_pts[:,2][single_mask][time_mask], cropped_times[single_mask][time_mask].reshape(-1,),\n",
    "              mode='point')\n",
    "\n",
    "mlab.points3d(cropped_pts[:,0][~single_mask], cropped_pts[:,1][~single_mask], cropped_pts[:,2][~single_mask],\n",
    "              mode='point')\n",
    "\n",
    "#mlab.points3d(pts_[:,0], pts_[:,1], pts_[:,2], mode='point')\n",
    "mlab.show()"
   ]
  },
  {
   "cell_type": "code",
   "execution_count": 250,
   "metadata": {},
   "outputs": [],
   "source": [
    "bb_x_min =  cropped_pts[:,0][single_mask][time_mask].min()\n",
    "bb_x_max =  cropped_pts[:,0][single_mask][time_mask].max()\n",
    "\n",
    "bb_y_min =  cropped_pts[:,1][single_mask][time_mask].min()\n",
    "bb_y_max =  cropped_pts[:,1][single_mask][time_mask].max()\n",
    "\n",
    "bb_z_min =  cropped_pts[:,2][single_mask][time_mask].min()\n",
    "bb_z_max =  cropped_pts[:,2][single_mask][time_mask].max()"
   ]
  },
  {
   "cell_type": "code",
   "execution_count": 235,
   "metadata": {},
   "outputs": [],
   "source": [
    "\n",
    "# along x axis\n",
    "mlab.plot3d([bb_x_min, bb_x_max], [bb_y_min, bb_y_min], [bb_z_min, bb_z_min], color=(1,0.7,0.3))\n",
    "mlab.plot3d([bb_x_min, bb_x_max], [bb_y_max, bb_y_max], [bb_z_min, bb_z_min], color=(1,0.7,0.3))\n",
    "mlab.plot3d([bb_x_min, bb_x_max], [bb_y_min, bb_y_min], [bb_z_max, bb_z_max], color=(1,0.7,0.3))\n",
    "mlab.plot3d([bb_x_min, bb_x_max], [bb_y_max, bb_y_max], [bb_z_max, bb_z_max], color=(1,0.7,0.3))\n",
    "\n",
    "# along y axis\n",
    "mlab.plot3d([bb_x_min, bb_x_min], [bb_y_min, bb_y_max], [bb_z_min, bb_z_min], color=(1,0.7,0.3))\n",
    "mlab.plot3d([bb_x_min, bb_x_min], [bb_y_min, bb_y_max], [bb_z_max, bb_z_max], color=(1,0.7,0.3))\n",
    "mlab.plot3d([bb_x_max, bb_x_max], [bb_y_min, bb_y_max], [bb_z_min, bb_z_min], color=(1,0.7,0.3))\n",
    "mlab.plot3d([bb_x_max, bb_x_max], [bb_y_min, bb_y_max], [bb_z_max, bb_z_max], color=(1,0.7,0.3))\n",
    "\n",
    "# along z axis\n",
    "mlab.plot3d([bb_x_min, bb_x_min], [bb_y_min, bb_y_min], [bb_z_min, bb_z_max], color=(1,0.7,0.3))\n",
    "mlab.plot3d([bb_x_min, bb_x_min], [bb_y_max, bb_y_max], [bb_z_min, bb_z_max], color=(1,0.7,0.3))\n",
    "mlab.plot3d([bb_x_max, bb_x_max], [bb_y_min, bb_y_min], [bb_z_min, bb_z_max], color=(1,0.7,0.3))\n",
    "mlab.plot3d([bb_x_max, bb_x_max], [bb_y_max, bb_y_max], [bb_z_min, bb_z_max], color=(1,0.7,0.3))\n",
    "\n",
    "\n",
    "mlab.points3d(cropped_pts[:,0][single_mask][time_mask], cropped_pts[:,1][single_mask][time_mask],\n",
    "              cropped_pts[:,2][single_mask][time_mask], cropped_times[single_mask][time_mask].reshape(-1,),\n",
    "              mode='point')\n",
    "mlab.show()"
   ]
  },
  {
   "cell_type": "code",
   "execution_count": 285,
   "metadata": {},
   "outputs": [],
   "source": [
    "bb_mask = (pts_[:,0] < bb_x_max) & (pts_[:,0] > bb_x_min) \\\n",
    "    & (pts_[:,1] < bb_y_max) & (pts_[:,1] > bb_y_min)\n",
    "\n",
    "floor = pts_[:,2][bb_mask].min()\n",
    "floor = max(floor,bb_z_min - 0.4 )\n",
    "bb_mask = bb_mask & (pts_[:,2] < (floor + 0.1))"
   ]
  },
  {
   "cell_type": "code",
   "execution_count": 286,
   "metadata": {},
   "outputs": [
    {
     "name": "stdout",
     "output_type": "stream",
     "text": [
      "-0.9930473361031125\n",
      "-0.9930473361031125\n"
     ]
    }
   ],
   "source": [
    "print(bb_z_min)\n",
    "print(floor)"
   ]
  },
  {
   "cell_type": "code",
   "execution_count": 287,
   "metadata": {},
   "outputs": [],
   "source": [
    "mlab.points3d(pts_[:,0][bb_mask], pts_[:,1][bb_mask],\n",
    "              pts_[:,2][bb_mask], pts_[:,3][bb_mask],\n",
    "              mode='point')\n",
    "mlab.points3d(pts_[:,0][~bb_mask], pts_[:,1][~bb_mask],\n",
    "              pts_[:,2][~bb_mask],\n",
    "              mode='point')\n",
    "mlab.show()\n"
   ]
  },
  {
   "cell_type": "code",
   "execution_count": 552,
   "metadata": {},
   "outputs": [
    {
     "data": {
      "text/plain": [
       "0"
      ]
     },
     "execution_count": 552,
     "metadata": {},
     "output_type": "execute_result"
    }
   ],
   "source": [
    "np.sum(pts_[:,3][bb_mask] == 3)"
   ]
  },
  {
   "cell_type": "code",
   "execution_count": 108,
   "metadata": {},
   "outputs": [
    {
     "data": {
      "text/plain": [
       "array([2., 3., 6., 7., 8.])"
      ]
     },
     "execution_count": 108,
     "metadata": {},
     "output_type": "execute_result"
    }
   ],
   "source": [
    "v,f = np.unique(pts_[:,3][bb_mask], return_counts=True)\n",
    "v[f>1]\n"
   ]
  },
  {
   "cell_type": "code",
   "execution_count": 109,
   "metadata": {},
   "outputs": [
    {
     "data": {
      "text/plain": [
       "array([2., 2., 2., 2., 2., 2., 2., 2., 2., 2., 2., 2., 3., 3., 6., 6., 6.,\n",
       "       7., 7., 7., 7., 7., 7., 7., 7., 7., 7., 7., 7., 7., 7., 7., 7., 7.,\n",
       "       7., 7., 7., 7., 7., 7., 8., 8., 8., 8., 8.])"
      ]
     },
     "execution_count": 109,
     "metadata": {},
     "output_type": "execute_result"
    }
   ],
   "source": [
    "pts_[:,3][bb_mask]"
   ]
  },
  {
   "cell_type": "code",
   "execution_count": 569,
   "metadata": {},
   "outputs": [
    {
     "name": "stdout",
     "output_type": "stream",
     "text": [
      "0.0\n",
      "2.0\n",
      "4.0\n",
      "5.0\n",
      "6.0\n",
      "8.0\n",
      "9.0\n"
     ]
    }
   ],
   "source": [
    "for i,j in zip(v,f):\n",
    "    print(i)"
   ]
  },
  {
   "cell_type": "code",
   "execution_count": null,
   "metadata": {},
   "outputs": [],
   "source": []
  },
  {
   "cell_type": "code",
   "execution_count": null,
   "metadata": {},
   "outputs": [],
   "source": []
  },
  {
   "cell_type": "code",
   "execution_count": 615,
   "metadata": {},
   "outputs": [
    {
     "data": {
      "text/plain": [
       "4"
      ]
     },
     "execution_count": 615,
     "metadata": {},
     "output_type": "execute_result"
    }
   ],
   "source": [
    "bb_mask = (pts_[:,0] < bb_x_max) & (pts_[:,0] > bb_x_min) \\\n",
    "    & (pts_[:,1] < bb_y_max) & (pts_[:,1] > bb_y_min) \\\n",
    "    & (pts_[:,2] < bb_z_max) & (pts_[:,2] > bb_z_min)\n",
    "np.sum((pts_[:,3] == 5)[bb_mask])"
   ]
  },
  {
   "cell_type": "code",
   "execution_count": null,
   "metadata": {},
   "outputs": [],
   "source": []
  }
 ],
 "metadata": {
  "kernelspec": {
   "display_name": "bakalarka",
   "language": "python",
   "name": "bakalarka"
  },
  "language_info": {
   "codemirror_mode": {
    "name": "ipython",
    "version": 3
   },
   "file_extension": ".py",
   "mimetype": "text/x-python",
   "name": "python",
   "nbconvert_exporter": "python",
   "pygments_lexer": "ipython3",
   "version": "3.7.11"
  }
 },
 "nbformat": 4,
 "nbformat_minor": 1
}
