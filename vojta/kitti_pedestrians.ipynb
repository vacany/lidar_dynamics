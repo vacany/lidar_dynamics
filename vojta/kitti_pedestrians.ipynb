{
 "cells": [
  {
   "cell_type": "code",
   "execution_count": 12,
   "metadata": {},
   "outputs": [
    {
     "name": "stdout",
     "output_type": "stream",
     "text": [
      "The autoreload extension is already loaded. To reload it, use:\n",
      "  %reload_ext autoreload\n"
     ]
    }
   ],
   "source": [
    "from tools.ground_removal import *\n",
    "from tools.voxelization import *\n",
    "from tools.pedestrians import *\n",
    "from sklearn.cluster import DBSCAN\n",
    "import numpy as np\n",
    "from mayavi import mlab\n",
    "\n",
    "%load_ext autoreload\n",
    "%autoreload 2"
   ]
  },
  {
   "cell_type": "code",
   "execution_count": 2,
   "metadata": {},
   "outputs": [],
   "source": [
    "pts_, intens = get_synchronized_frames(19,10)\n",
    "#mask = (pts_[:,2] < 1) & (pts_[:,2] > -1)\n",
    "#pts = pts_[mask]\n",
    "pts = pts_"
   ]
  },
  {
   "cell_type": "code",
   "execution_count": 3,
   "metadata": {},
   "outputs": [],
   "source": [
    "mlab.points3d(pts[:,0], pts[:,1], pts[:,2], pts[:,3], mode='point')\n",
    "mlab.show()\n",
    "\n"
   ]
  },
  {
   "cell_type": "code",
   "execution_count": 220,
   "metadata": {},
   "outputs": [],
   "source": [
    "\n",
    "mask = (pts_[:,2] > -1) & (pts_[:,2] < 1)\n",
    "cropped = pts_[mask]"
   ]
  },
  {
   "cell_type": "code",
   "execution_count": 221,
   "metadata": {},
   "outputs": [],
   "source": [
    "clustering = DBSCAN(eps=0.3, min_samples=7 * 10, ).fit(cropped[:, :3])"
   ]
  },
  {
   "cell_type": "code",
   "execution_count": 224,
   "metadata": {},
   "outputs": [],
   "source": [
    "mlab.points3d(cropped[:,0], cropped[:,1], cropped[:,2],clustering.labels_, mode='point')\n",
    "mlab.show()"
   ]
  },
  {
   "cell_type": "code",
   "execution_count": 159,
   "metadata": {},
   "outputs": [
    {
     "data": {
      "text/plain": [
       "(3,)"
      ]
     },
     "execution_count": 159,
     "metadata": {},
     "output_type": "execute_result"
    }
   ],
   "source": [
    "a = np.array([[1,2,3],[2,2,2],[3,1,5]])\n",
    "b = np.array([True, True, False])\n",
    "b.shape"
   ]
  },
  {
   "cell_type": "code",
   "execution_count": 13,
   "metadata": {
    "scrolled": true
   },
   "outputs": [
    {
     "name": "stdout",
     "output_type": "stream",
     "text": [
      "formed 83 clusters\n",
      "skipping cluster 0 because of it's size w 34.81651195682568, l 21.399506082608283, h 1.9999811394477631\n",
      "skipping cluster 1 because of it's size w 1.6918101153221041, l 1.2093907497765866, h 1.9925934567792756\n",
      "skipping cluster 2 because of it's size w 1.7005436054382574, l 1.9168068991911529, h 1.9994694539296365\n",
      "skipping cluster 3 because of it's size w 2.8834978357506778, l 1.2930851832638233, h 1.9994847449708786\n",
      "skipping cluster 4 because of it's size w 1.437730438739134, l 0.8864979743496537, h 1.9790699138999903\n",
      "skipping cluster 5 because of it's size w 1.1358384468151073, l 0.611697780118404, h 1.9253175088638979\n",
      "skipping cluster 7 because of it's size w 2.083424978376476, l 2.21794840794628, h 1.9511305994102432\n",
      "skipping cluster 9 because of it's size w 3.3435917098429773, l 2.3541277290396962, h 1.9993826945613171\n",
      "skipping cluster 10 because of it's size w 1.8381607889065776, l 0.9133009989513869, h 1.9431998492186489\n",
      "skipping cluster 11 because of it's size w 4.474996001876381, l 12.493081979242575, h 1.9999013642505539\n",
      "skipping cluster 12 because of it's size w 0.5477462563052704, l 1.4200010085427586, h 1.9528996912154384\n",
      "skipping cluster 13 because of it's size w 2.8857977086053523, l 0.5839581100415012, h 1.9981630285448218\n",
      "skipping cluster 14 because of it's size w 0.8798260055019735, l 0.4267159471255795, h 1.9772417338911725\n",
      "skipping cluster 15 because of it's size w 0.8800879324086566, l 0.34430675510033204, h 1.9821041502294074\n",
      "skipping cluster 16 because of it's size w 1.6721299204823765, l 0.7384287392884916, h 1.8558173303760086\n",
      "cluster 17, time 2 skipping because no points; cluster 17, time 3 skipping because no points; \n",
      "\n",
      "cluster 18, time 9 skipping because no points; \n",
      "\n",
      "skipping cluster 21 because of it's size w 1.3825482760258474, l 0.4549145850779688, h 1.9365942598824497\n",
      "cluster 22, time 8 skipping because no points; cluster 22, time 9 skipping because no points; \n",
      "\n",
      "cluster 24, time 7 skipping because no points; cluster 24, time 8 skipping because no points; cluster 24, time 9 skipping because no points; \n",
      "\n",
      "cluster 26, time 5 skipping because no points; cluster 26, time 6 skipping because no points; cluster 26, time 7 skipping because no points; cluster 26, time 8 skipping because no points; cluster 26, time 9 skipping because no points; \n",
      "\n",
      "cluster 27, time 7 skipping because no points; cluster 27, time 8 skipping because no points; cluster 27, time 9 skipping because no points; \n",
      "\n",
      "skipping cluster 30 at time 0 because of it's size w 1.720892684369499, l 4.242096372938587, h 1.4685523282321207\n",
      "skipping cluster 34 because of it's size w 0.19514439521125837, l 0.399153962246821, h 1.1376525388631629\n",
      "skipping cluster 41 because of it's size w 0.9785704779397832, l 0.8658473584040483, h 0.3630019247289826\n",
      "skipping cluster 42 because of it's size w 0.4957073231576885, l 0.8225602259210607, h 0.39974770339504123\n",
      "skipping cluster 43 because of it's size w 3.5537874683357558, l 1.4341571928960164, h 1.8079798035018866\n",
      "cluster 45, time 9 skipping because no points; \n",
      "\n",
      "skipping cluster 47 because of it's size w 0.8453470216121914, l 2.353905483520581, h 0.45567519513602406\n",
      "skipping cluster 48 because of it's size w 0.7044097407926024, l 0.11178536183329069, h 0.52604188018395\n",
      "cluster 51, time 4 skipping because no points; cluster 51, time 5 skipping because no points; cluster 51, time 6 skipping because no points; cluster 51, time 7 skipping because no points; cluster 51, time 8 skipping because no points; cluster 51, time 9 skipping because no points; \n",
      "\n",
      "skipping cluster 52 because of it's size w 1.082298577265398, l 0.9154766299204793, h 0.40977269783991355\n",
      "skipping cluster 55 because of it's size w 0.649294204123386, l 0.7253442476430636, h 0.1580471204677686\n",
      "skipping cluster 56 because of it's size w 1.1892304290636204, l 7.413379768057911, h 0.19814478208574993\n",
      "skipping cluster 57 because of it's size w 0.7496626030941762, l 0.27006315762034117, h 0.4372523215850612\n",
      "skipping cluster 58 because of it's size w 0.8167446184048828, l 0.8773418763769278, h 0.04690994281451366\n",
      "skipping cluster 59 because of it's size w 1.2003127198240584, l 0.9460420439530459, h 0.18720996136837276\n",
      "skipping cluster 60 because of it's size w 0.4424805377235739, l 0.45417946157400557, h 0.14431614518597846\n",
      "skipping cluster 61 because of it's size w 0.6536676385060627, l 0.4558517592934095, h 0.27797153660596385\n",
      "cluster 62, time 0 skipping because no points; \n",
      "\n",
      "cluster 63, time 7 skipping because no points; cluster 63, time 8 skipping because no points; cluster 63, time 9 skipping because no points; \n",
      "\n",
      "skipping cluster 64 because of it's size w 0.9511857555395693, l 0.5269424232040034, h 0.4137446866800665\n",
      "skipping cluster 65 because of it's size w 0.6388874557052073, l 0.39664750968193374, h 0.445868464515108\n",
      "cluster 66, time 0 skipping because no points; cluster 66, time 8 skipping because no points; cluster 66, time 9 skipping because no points; \n",
      "\n",
      "skipping cluster 67 because of it's size w 0.8303559639804377, l 1.0481574518611474, h 0.04674882771115774\n",
      "skipping cluster 68 because of it's size w 0.8511075558074737, l 0.8972468428759948, h 0.05540332426420713\n",
      "skipping cluster 69 because of it's size w 0.48558527221129566, l 0.7595931333456214, h 0.044176359971591195\n",
      "skipping cluster 70 because of it's size w 0.320225242157381, l 0.5141680225059897, h 0.4231812246150377\n",
      "cluster 71, time 0 skipping because no points; cluster 71, time 1 skipping because no points; cluster 71, time 2 skipping because no points; cluster 71, time 3 skipping because no points; \n",
      "\n",
      "skipping cluster 72 because of it's size w 0.6820605790372252, l 0.6280470879602724, h 0.19752653291016609\n",
      "skipping cluster 73 because of it's size w 0.5753841253379193, l 0.5676808137389533, h 0.16923836192725306\n",
      "skipping cluster 74 because of it's size w 0.6095063037088551, l 0.7999153491750164, h 0.04324882620813164\n",
      "skipping cluster 75 because of it's size w 0.7228244738353098, l 0.9124316652450197, h 0.06070212207054615\n",
      "skipping cluster 76 because of it's size w 0.6550003327708893, l 0.6319620563682213, h 0.04993559488771382\n",
      "skipping cluster 77 because of it's size w 0.42403427931462545, l 0.8732112208377742, h 0.023583417945884477\n",
      "cluster 78, time 0 skipping because no points; cluster 78, time 1 skipping because no points; cluster 78, time 2 skipping because no points; cluster 78, time 3 skipping because no points; cluster 78, time 4 skipping because no points; \n",
      "\n",
      "skipping cluster 79 because of it's size w 0.5867967430631325, l 0.4467890080121162, h 0.4550390490202022\n",
      "cluster 80, time 0 skipping because no points; cluster 80, time 1 skipping because no points; cluster 80, time 2 skipping because no points; cluster 80, time 3 skipping because no points; cluster 80, time 4 skipping because no points; cluster 80, time 5 skipping because no points; cluster 80, time 6 skipping because no points; cluster 80, time 7 skipping because no points; \n",
      "\n",
      "skipping cluster 81 because of it's size w 0.5574834291637814, l 0.5809242663503316, h 0.07938921908327468\n",
      "skipping cluster 82 because of it's size w 0.7150661309009578, l 0.595825004250468, h 0.027423928985507273\n",
      "\n",
      "---------second wave of filtering--------------\n",
      "\n",
      "considering [17 23 26 32 49 51 63 66 78 80]\n",
      "cluster 17 first time = 19.0\n",
      "cluster 17 ground observed at times [20.]\n",
      "skipping cluster 17 because ground is only observed at times [20.] at frequencies [1]\n",
      "cluster 23 first time = 19.0\n",
      "cluster 23 ground observed at times [25. 26. 27. 28.]\n",
      "skipping cluster 23 because ground is only observed at times [25. 26. 27. 28.] at frequencies [2 2 3 2]\n",
      "cluster 26 first time = 19.0\n",
      "cluster 26 ground observed at times [19.]\n",
      "skipping cluster 26 because ground is only observed at times [19.] at frequencies [2]\n",
      "cluster 32 first time = 19.0\n",
      "cluster 32 ground observed at times [19. 20. 21. 23. 24. 25. 26. 28.]\n",
      "cluster 49 first time = 19.0\n",
      "cluster 49 ground observed at times [19. 20. 21.]\n",
      "skipping cluster 49 because ground is only observed at times [19. 20. 21.] at frequencies [2 6 1]\n",
      "cluster 51 first time = 19.0\n",
      "cluster 51 ground observed at times [19. 20.]\n",
      "skipping cluster 51 because ground is only observed at times [19. 20.] at frequencies [9 5]\n",
      "cluster 63 first time = 19.0\n",
      "cluster 63 ground observed at times [19. 20. 21. 22. 26. 28.]\n",
      "cluster 66 first time = 20.0\n",
      "cluster 66 ground observed at times [19. 20. 21. 22. 23. 24. 25.]\n",
      "cluster 78 first time = 25.0\n",
      "skipping cluster 78 because it is not observed in enough frames,first time of observation is 25.0\n",
      "cluster 80 first time = 27.0\n",
      "skipping cluster 80 because it is not observed in enough frames,first time of observation is 27.0\n"
     ]
    }
   ],
   "source": [
    "pts_, intens = get_synchronized_frames(19,10)\n",
    "mask = (pts_[:,2] > -1) & (pts_[:,2] < 1)\n",
    "times = pts_[:,3].reshape(-1,1)\n",
    "cropped_pts = pts_[:,:3][mask]\n",
    "cropped_times = pts_[:,3][mask].reshape(-1,1)\n",
    "\n",
    "dynamic_mask, clustering, dynamic_clusters, \\\n",
    "    differences, centroids_final \\\n",
    "    = find_pedestrians(pts_[:,:3], times, cropped_pts, cropped_times)"
   ]
  },
  {
   "cell_type": "code",
   "execution_count": 14,
   "metadata": {},
   "outputs": [
    {
     "name": "stdout",
     "output_type": "stream",
     "text": [
      "[32, 63, 66]\n"
     ]
    }
   ],
   "source": [
    "print(dynamic_clusters)\n"
   ]
  },
  {
   "cell_type": "code",
   "execution_count": null,
   "metadata": {
    "pycharm": {
     "is_executing": true
    }
   },
   "outputs": [],
   "source": [
    "mlab.points3d(cropped_pts[:,0][dynamic_mask], cropped_pts[:,1][dynamic_mask],\n",
    "              cropped_pts[:,2][dynamic_mask], cropped_times[dynamic_mask].reshape(-1,), mode='point')\n",
    "mlab.points3d(cropped_pts[:,0][~dynamic_mask], cropped_pts[:,1][~dynamic_mask], \n",
    "              cropped_pts[:,2][~dynamic_mask], mode='point')\n",
    "mlab.show()"
   ]
  },
  {
   "cell_type": "code",
   "execution_count": 209,
   "metadata": {},
   "outputs": [
    {
     "data": {
      "text/plain": [
       "(270, 1)"
      ]
     },
     "execution_count": 209,
     "metadata": {},
     "output_type": "execute_result"
    }
   ],
   "source": [
    "single_mask.shape\n",
    "cropped_times[single_mask][time_mask].shape"
   ]
  },
  {
   "cell_type": "code",
   "execution_count": 249,
   "metadata": {},
   "outputs": [
    {
     "name": "stdout",
     "output_type": "stream",
     "text": [
      "average speed 0.190253726046953\n",
      "494\n"
     ]
    }
   ],
   "source": [
    "cluster = 23  #dynamic_clusters[4]\n",
    "print(f\"average speed {np.linalg.norm(differences[cluster][:2])}\")\n",
    "single_mask = clustering.labels_ == cluster\n",
    "time_mask = cropped_times[single_mask] == 19 # at time 0\n",
    "time_mask = time_mask.reshape(-1,)\n",
    "print(np.sum(time_mask))\n",
    "\n",
    "mlab.points3d(cropped_pts[:,0][single_mask][time_mask], cropped_pts[:,1][single_mask][time_mask],\n",
    "              cropped_pts[:,2][single_mask][time_mask], cropped_times[single_mask][time_mask].reshape(-1,),\n",
    "              mode='point')\n",
    "\n",
    "mlab.points3d(cropped_pts[:,0][~single_mask], cropped_pts[:,1][~single_mask], cropped_pts[:,2][~single_mask],\n",
    "              mode='point')\n",
    "\n",
    "#mlab.points3d(pts_[:,0], pts_[:,1], pts_[:,2], mode='point')\n",
    "mlab.show()"
   ]
  },
  {
   "cell_type": "code",
   "execution_count": 250,
   "metadata": {},
   "outputs": [],
   "source": [
    "bb_x_min =  cropped_pts[:,0][single_mask][time_mask].min()\n",
    "bb_x_max =  cropped_pts[:,0][single_mask][time_mask].max()\n",
    "\n",
    "bb_y_min =  cropped_pts[:,1][single_mask][time_mask].min()\n",
    "bb_y_max =  cropped_pts[:,1][single_mask][time_mask].max()\n",
    "\n",
    "bb_z_min =  cropped_pts[:,2][single_mask][time_mask].min()\n",
    "bb_z_max =  cropped_pts[:,2][single_mask][time_mask].max()"
   ]
  },
  {
   "cell_type": "code",
   "execution_count": 235,
   "metadata": {},
   "outputs": [],
   "source": [
    "\n",
    "# along x axis\n",
    "mlab.plot3d([bb_x_min, bb_x_max], [bb_y_min, bb_y_min], [bb_z_min, bb_z_min], color=(1,0.7,0.3))\n",
    "mlab.plot3d([bb_x_min, bb_x_max], [bb_y_max, bb_y_max], [bb_z_min, bb_z_min], color=(1,0.7,0.3))\n",
    "mlab.plot3d([bb_x_min, bb_x_max], [bb_y_min, bb_y_min], [bb_z_max, bb_z_max], color=(1,0.7,0.3))\n",
    "mlab.plot3d([bb_x_min, bb_x_max], [bb_y_max, bb_y_max], [bb_z_max, bb_z_max], color=(1,0.7,0.3))\n",
    "\n",
    "# along y axis\n",
    "mlab.plot3d([bb_x_min, bb_x_min], [bb_y_min, bb_y_max], [bb_z_min, bb_z_min], color=(1,0.7,0.3))\n",
    "mlab.plot3d([bb_x_min, bb_x_min], [bb_y_min, bb_y_max], [bb_z_max, bb_z_max], color=(1,0.7,0.3))\n",
    "mlab.plot3d([bb_x_max, bb_x_max], [bb_y_min, bb_y_max], [bb_z_min, bb_z_min], color=(1,0.7,0.3))\n",
    "mlab.plot3d([bb_x_max, bb_x_max], [bb_y_min, bb_y_max], [bb_z_max, bb_z_max], color=(1,0.7,0.3))\n",
    "\n",
    "# along z axis\n",
    "mlab.plot3d([bb_x_min, bb_x_min], [bb_y_min, bb_y_min], [bb_z_min, bb_z_max], color=(1,0.7,0.3))\n",
    "mlab.plot3d([bb_x_min, bb_x_min], [bb_y_max, bb_y_max], [bb_z_min, bb_z_max], color=(1,0.7,0.3))\n",
    "mlab.plot3d([bb_x_max, bb_x_max], [bb_y_min, bb_y_min], [bb_z_min, bb_z_max], color=(1,0.7,0.3))\n",
    "mlab.plot3d([bb_x_max, bb_x_max], [bb_y_max, bb_y_max], [bb_z_min, bb_z_max], color=(1,0.7,0.3))\n",
    "\n",
    "\n",
    "mlab.points3d(cropped_pts[:,0][single_mask][time_mask], cropped_pts[:,1][single_mask][time_mask],\n",
    "              cropped_pts[:,2][single_mask][time_mask], cropped_times[single_mask][time_mask].reshape(-1,),\n",
    "              mode='point')\n",
    "mlab.show()"
   ]
  },
  {
   "cell_type": "code",
   "execution_count": 285,
   "metadata": {},
   "outputs": [],
   "source": [
    "bb_mask = (pts_[:,0] < bb_x_max) & (pts_[:,0] > bb_x_min) \\\n",
    "    & (pts_[:,1] < bb_y_max) & (pts_[:,1] > bb_y_min)\n",
    "\n",
    "floor = pts_[:,2][bb_mask].min()\n",
    "floor = max(floor,bb_z_min - 0.4 )\n",
    "bb_mask = bb_mask & (pts_[:,2] < (floor + 0.1))"
   ]
  },
  {
   "cell_type": "code",
   "execution_count": 286,
   "metadata": {},
   "outputs": [
    {
     "name": "stdout",
     "output_type": "stream",
     "text": [
      "-0.9930473361031125\n",
      "-0.9930473361031125\n"
     ]
    }
   ],
   "source": [
    "print(bb_z_min)\n",
    "print(floor)"
   ]
  },
  {
   "cell_type": "code",
   "execution_count": 287,
   "metadata": {},
   "outputs": [],
   "source": [
    "mlab.points3d(pts_[:,0][bb_mask], pts_[:,1][bb_mask],\n",
    "              pts_[:,2][bb_mask], pts_[:,3][bb_mask],\n",
    "              mode='point')\n",
    "mlab.points3d(pts_[:,0][~bb_mask], pts_[:,1][~bb_mask],\n",
    "              pts_[:,2][~bb_mask],\n",
    "              mode='point')\n",
    "mlab.show()\n"
   ]
  },
  {
   "cell_type": "code",
   "execution_count": 552,
   "metadata": {},
   "outputs": [
    {
     "data": {
      "text/plain": [
       "0"
      ]
     },
     "execution_count": 552,
     "metadata": {},
     "output_type": "execute_result"
    }
   ],
   "source": [
    "np.sum(pts_[:,3][bb_mask] == 3)"
   ]
  },
  {
   "cell_type": "code",
   "execution_count": 108,
   "metadata": {},
   "outputs": [
    {
     "data": {
      "text/plain": [
       "array([2., 3., 6., 7., 8.])"
      ]
     },
     "execution_count": 108,
     "metadata": {},
     "output_type": "execute_result"
    }
   ],
   "source": [
    "v,f = np.unique(pts_[:,3][bb_mask], return_counts=True)\n",
    "v[f>1]\n"
   ]
  },
  {
   "cell_type": "code",
   "execution_count": 109,
   "metadata": {},
   "outputs": [
    {
     "data": {
      "text/plain": [
       "array([2., 2., 2., 2., 2., 2., 2., 2., 2., 2., 2., 2., 3., 3., 6., 6., 6.,\n",
       "       7., 7., 7., 7., 7., 7., 7., 7., 7., 7., 7., 7., 7., 7., 7., 7., 7.,\n",
       "       7., 7., 7., 7., 7., 7., 8., 8., 8., 8., 8.])"
      ]
     },
     "execution_count": 109,
     "metadata": {},
     "output_type": "execute_result"
    }
   ],
   "source": [
    "pts_[:,3][bb_mask]"
   ]
  },
  {
   "cell_type": "code",
   "execution_count": 569,
   "metadata": {},
   "outputs": [
    {
     "name": "stdout",
     "output_type": "stream",
     "text": [
      "0.0\n",
      "2.0\n",
      "4.0\n",
      "5.0\n",
      "6.0\n",
      "8.0\n",
      "9.0\n"
     ]
    }
   ],
   "source": [
    "for i,j in zip(v,f):\n",
    "    print(i)"
   ]
  },
  {
   "cell_type": "code",
   "execution_count": null,
   "metadata": {},
   "outputs": [],
   "source": []
  },
  {
   "cell_type": "code",
   "execution_count": null,
   "metadata": {},
   "outputs": [],
   "source": []
  },
  {
   "cell_type": "code",
   "execution_count": 615,
   "metadata": {},
   "outputs": [
    {
     "data": {
      "text/plain": [
       "4"
      ]
     },
     "execution_count": 615,
     "metadata": {},
     "output_type": "execute_result"
    }
   ],
   "source": [
    "bb_mask = (pts_[:,0] < bb_x_max) & (pts_[:,0] > bb_x_min) \\\n",
    "    & (pts_[:,1] < bb_y_max) & (pts_[:,1] > bb_y_min) \\\n",
    "    & (pts_[:,2] < bb_z_max) & (pts_[:,2] > bb_z_min)\n",
    "np.sum((pts_[:,3] == 5)[bb_mask])"
   ]
  },
  {
   "cell_type": "code",
   "execution_count": null,
   "metadata": {},
   "outputs": [],
   "source": []
  }
 ],
 "metadata": {
  "kernelspec": {
   "display_name": "bakalarka",
   "language": "python",
   "name": "bakalarka"
  },
  "language_info": {
   "codemirror_mode": {
    "name": "ipython",
    "version": 3
   },
   "file_extension": ".py",
   "mimetype": "text/x-python",
   "name": "python",
   "nbconvert_exporter": "python",
   "pygments_lexer": "ipython3",
   "version": "3.7.11"
  }
 },
 "nbformat": 4,
 "nbformat_minor": 1
}