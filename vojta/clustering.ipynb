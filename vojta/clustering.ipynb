{
 "cells": [
  {
   "cell_type": "code",
   "execution_count": 1,
   "id": "8515ae1b",
   "metadata": {},
   "outputs": [],
   "source": [
    "from tools.ground_removal import *\n",
    "from tools.voxelization import *\n",
    "from sklearn.cluster import DBSCAN\n",
    "import numpy as np\n",
    "from mayavi import mlab\n",
    "%load_ext autoreload\n",
    "%autoreload 2"
   ]
  },
  {
   "cell_type": "code",
   "execution_count": 2,
   "id": "e63b25c9",
   "metadata": {},
   "outputs": [],
   "source": [
    "dynamic_points = get_dynamic_points(0.5, 15)"
   ]
  },
  {
   "cell_type": "code",
   "execution_count": 48,
   "id": "2f46c1ed",
   "metadata": {},
   "outputs": [],
   "source": [
    "mlab.points3d(dynamic_points[:,0], dynamic_points[:,1], dynamic_points[:,2], mode='point')\n",
    "mlab.show()"
   ]
  },
  {
   "cell_type": "code",
   "execution_count": 3,
   "id": "791ef652",
   "metadata": {},
   "outputs": [],
   "source": [
    "clustering = DBSCAN(eps = 0.6, min_samples=8).fit(dynamic_points)\n",
    "labels = (clustering.labels_ + 1) / (clustering.labels_.max() + 1)"
   ]
  },
  {
   "cell_type": "code",
   "execution_count": 4,
   "id": "d3d95506",
   "metadata": {},
   "outputs": [],
   "source": [
    "mlab.points3d(dynamic_points[:,0], dynamic_points[:,1], dynamic_points[:,2], labels, mode='cube',scale_mode = 'none', scale_factor=0.2)\n",
    "mlab.show()"
   ]
  },
  {
   "cell_type": "markdown",
   "id": "111b0f56",
   "metadata": {},
   "source": [
    "## TODO: dynamic points delat pomocne pole kde 0 znaci staticky bod, 1 znaci dynamicky a nedelat if x in voxels\n",
    "firstly use clustering to separate noise from dynamic points - will still get some noise and dynamic objects will form separate cluster for each time frame, use clustering again to connect close clusters and eliminate clusters with no close neighbour cluster"
   ]
  },
  {
   "cell_type": "code",
   "execution_count": 5,
   "outputs": [
    {
     "name": "stdout",
     "output_type": "stream",
     "text": [
      "dynamic points 1136\n"
     ]
    }
   ],
   "source": [
    "filtered_dynamic_points = dynamic_points[labels > 0]\n",
    "filtered_labels = labels[labels > 0]\n",
    "print(\"dynamic points \" + str(len(filtered_labels)))"
   ],
   "metadata": {
    "collapsed": false,
    "pycharm": {
     "name": "#%%\n"
    }
   }
  },
  {
   "cell_type": "code",
   "execution_count": 6,
   "outputs": [],
   "source": [
    "clustering2 = DBSCAN(eps = 3.0, min_samples=30).fit(filtered_dynamic_points)\n",
    "labels2 = (clustering2.labels_ + 1) / (clustering2.labels_.max() + 1)\n",
    "filtered_dynamic_points2 = filtered_dynamic_points[labels2 > 0]\n",
    "labels2 = labels2[labels2>0]"
   ],
   "metadata": {
    "collapsed": false,
    "pycharm": {
     "name": "#%%\n"
    }
   }
  },
  {
   "cell_type": "code",
   "execution_count": 7,
   "outputs": [],
   "source": [
    "mlab.points3d(filtered_dynamic_points2[:,0], filtered_dynamic_points2[:,1], filtered_dynamic_points2[:,2], labels2, mode='cube',scale_mode = 'none', scale_factor=0.3)\n",
    "mlab.show()"
   ],
   "metadata": {
    "collapsed": false,
    "pycharm": {
     "name": "#%%\n"
    }
   }
  },
  {
   "cell_type": "code",
   "execution_count": 8,
   "outputs": [],
   "source": [
    "mlab.points3d(dynamic_points[:,0], dynamic_points[:,1], dynamic_points[:,2], mode='cube',scale_mode = 'none', scale_factor=0.1)\n",
    "mlab.points3d(filtered_dynamic_points2[:,0], filtered_dynamic_points2[:,1], filtered_dynamic_points2[:,2], labels2, mode='cube',scale_mode = 'none', scale_factor=0.2)\n",
    "mlab.show()"
   ],
   "metadata": {
    "collapsed": false,
    "pycharm": {
     "name": "#%%\n"
    }
   }
  },
  {
   "cell_type": "markdown",
   "source": [
    "# TODO\n",
    "leverage the fact that the static points (which still remains after clustering) do not change position during time"
   ],
   "metadata": {
    "collapsed": false,
    "pycharm": {
     "name": "#%% md\n"
    }
   }
  },
  {
   "cell_type": "markdown",
   "source": [
    "Ground truth dynamic points"
   ],
   "metadata": {
    "collapsed": false,
    "pycharm": {
     "name": "#%% md\n"
    }
   }
  },
  {
   "cell_type": "code",
   "execution_count": 9,
   "outputs": [
    {
     "name": "stdout",
     "output_type": "stream",
     "text": [
      "330\n"
     ]
    }
   ],
   "source": [
    "pts, intens = get_frame(0)\n",
    "dynamic_mask = get_dynamic_points_mask(0)\n",
    "pts = pts[dynamic_mask]\n",
    "print(dynamic_mask.sum())\n",
    "#print(pts[dynamic_mask].shape)\n",
    "\n",
    "for frame in range(1,15):\n",
    "    p, i = get_frame(frame)\n",
    "    m = get_dynamic_points_mask(frame)\n",
    "    pts = np.concatenate((pts, p[m]))\n",
    "    #intens = np.concatenate((intens, i))\n",
    "    #dynamic_mask = np.concatenate((dynamic_mask, m))\n"
   ],
   "metadata": {
    "collapsed": false,
    "pycharm": {
     "name": "#%%\n"
    }
   }
  },
  {
   "cell_type": "code",
   "execution_count": 14,
   "outputs": [],
   "source": [
    "mlab.points3d(dynamic_points[:,0], dynamic_points[:,1], dynamic_points[:,2], mode='cube',scale_mode = 'none', scale_factor=0.1)\n",
    "mlab.points3d(pts[:,0], pts[:,1], pts[:,2], mode='cube', scale_mode = 'none', scale_factor=0.1, color=(1,0,0))\n",
    "mlab.show()"
   ],
   "metadata": {
    "collapsed": false,
    "pycharm": {
     "name": "#%%\n"
    }
   }
  },
  {
   "cell_type": "code",
   "execution_count": 9,
   "outputs": [
    {
     "data": {
      "text/plain": "(122829,)"
     },
     "execution_count": 9,
     "metadata": {},
     "output_type": "execute_result"
    }
   ],
   "source": [
    "dynamic_mask.shape"
   ],
   "metadata": {
    "collapsed": false,
    "pycharm": {
     "name": "#%%\n"
    }
   }
  },
  {
   "cell_type": "code",
   "execution_count": 10,
   "outputs": [
    {
     "data": {
      "text/plain": "(122829, 3)"
     },
     "execution_count": 10,
     "metadata": {},
     "output_type": "execute_result"
    }
   ],
   "source": [
    "pts.shape"
   ],
   "metadata": {
    "collapsed": false,
    "pycharm": {
     "name": "#%%\n"
    }
   }
  },
  {
   "cell_type": "code",
   "execution_count": 105,
   "outputs": [],
   "source": [
    "file_name = \"0\" * int(6 - (len(str(1)))) + str(1)\n",
    "labels = np.fromfile(PATH + \"labels/\" + file_name + \".label\", dtype=np.uint32)"
   ],
   "metadata": {
    "collapsed": false,
    "pycharm": {
     "name": "#%%\n"
    }
   }
  },
  {
   "cell_type": "code",
   "execution_count": 106,
   "outputs": [
    {
     "data": {
      "text/plain": "array([     1,  65788,  65788,  65788,  65788,  65788,  65788,  65788,\n        65788,  65788,  65788,  65788,  65788,  65788,      1,  65788,\n        65788,  65788,  65788,  65788,      1, 131324, 131324, 131324,\n       131324, 131324,  65788,  65788,  65788,  65788,  65788,  65788,\n        65788,  65788,  65788,  65788,  65788,  65788,  65788,  65788,\n        65788,  65788,  65788,  65788,  65788,  65788,  65788,  65788,\n        65788,  65788,  65788,  65788,  65788,  65788,  65788,  65788,\n        65788, 327932, 327932, 327932, 131324, 131324, 131324, 131324,\n       131324, 131324, 131324, 131324, 131324, 131324, 131324, 131324,\n       131324, 131324, 131324, 131324, 131324, 262396, 131324, 131324,\n       131324, 131324, 131324, 131324, 131324, 131324, 131324, 131324,\n       131324, 131324, 131324, 131324, 262396, 131324, 131324, 131324,\n       131324, 131324, 131324, 131324, 131324, 131324, 131324, 131324,\n       131324, 131324, 131324, 131324, 131324, 131324, 131324, 131324,\n       131324, 131324, 131324, 131324, 131324, 131324, 131324, 131324,\n       131324, 131324, 131324,  65788,  65788, 131324, 131324, 131324,\n       131324, 131324, 131324, 131324, 131324, 131324, 131324, 131324,\n       131324, 131324, 131324, 131324, 131324, 131324, 131324, 131324,\n       131324, 131324, 131324, 131324, 131324, 131324, 131324, 131324,\n       131324, 131324, 131324, 131324, 131324, 131324, 131324, 131324,\n       131324, 131324, 131324, 131324, 131324, 131324, 131324, 131324,\n       131324, 131324, 131324, 131324, 131324, 131324, 131324, 131324,\n       131324, 131324, 131324, 131324, 131324, 131324, 131324, 131324,\n       131324, 131324, 131324, 131324, 131324, 131324, 131324, 131324,\n       131324, 131324, 131324, 131324, 131324, 131324, 131324, 131324,\n       131324, 131324, 131324, 131324, 131324, 131324, 131324, 131324,\n       131324, 131324, 262396, 131324, 131324, 131324, 131324, 131324,\n       131324, 131324, 131324, 131324, 131324, 131324, 131324, 131324,\n       131324, 131324, 131324, 131324, 131324, 131324, 131324, 131324,\n       131324, 131324, 131324, 131324, 131324, 131324, 131324, 131324,\n       131324, 131324, 131324, 131324, 131324, 131324, 131324, 131324,\n       131324, 131324, 131324, 131324, 131324, 131324, 131324, 131324,\n       131324, 131324, 131324, 131324, 131324, 131324, 131324, 131324,\n       131324, 131324, 131324, 131324, 131324, 131324, 131324, 131324,\n       131324, 131324, 131324, 131324, 131324, 131324, 131324, 131324,\n       131324, 131324, 131324, 131324, 131324, 131324, 131324, 131324,\n       131324, 131324, 131324, 131324, 131324, 131324, 131324, 131324,\n       131324, 131324, 131324, 131324, 131324, 131324, 131324, 131324,\n       131324, 131324, 131324, 131324, 131324, 131324, 131324, 131324,\n       131324, 131324, 131324, 131324, 131324, 131324, 131324, 131324,\n       131324, 131324, 131324, 131324, 131324, 131324, 131324, 131324,\n       131324, 131324, 131324, 131324, 131324, 131324, 131324, 131324,\n       131324, 131324, 131324, 131324, 131324, 131324, 131324, 131324,\n       131324, 131324, 131324, 131324, 131324, 131324, 131324, 131324,\n       131324, 131324, 131324, 131324, 131324, 131324, 131324, 131324,\n       131324], dtype=uint32)"
     },
     "execution_count": 106,
     "metadata": {},
     "output_type": "execute_result"
    }
   ],
   "source": [
    "labels[dynamic_mask]"
   ],
   "metadata": {
    "collapsed": false,
    "pycharm": {
     "name": "#%%\n"
    }
   }
  },
  {
   "cell_type": "code",
   "execution_count": null,
   "outputs": [],
   "source": [],
   "metadata": {
    "collapsed": false,
    "pycharm": {
     "name": "#%%\n"
    }
   }
  }
 ],
 "metadata": {
  "kernelspec": {
   "display_name": "bakalarka",
   "language": "python",
   "name": "bakalarka"
  },
  "language_info": {
   "codemirror_mode": {
    "name": "ipython",
    "version": 3
   },
   "file_extension": ".py",
   "mimetype": "text/x-python",
   "name": "python",
   "nbconvert_exporter": "python",
   "pygments_lexer": "ipython3",
   "version": "3.7.11"
  }
 },
 "nbformat": 4,
 "nbformat_minor": 5
}