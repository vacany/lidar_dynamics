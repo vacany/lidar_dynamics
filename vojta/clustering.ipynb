{
 "cells": [
  {
   "cell_type": "code",
   "execution_count": 8,
   "id": "8515ae1b",
   "metadata": {},
   "outputs": [
    {
     "name": "stdout",
     "output_type": "stream",
     "text": [
      "The autoreload extension is already loaded. To reload it, use:\n",
      "  %reload_ext autoreload\n"
     ]
    }
   ],
   "source": [
    "from tools.ground_removal import *\n",
    "from tools.voxelization import *\n",
    "from sklearn.cluster import DBSCAN\n",
    "import numpy as np\n",
    "from mayavi import mlab\n",
    "%load_ext autoreload\n",
    "%autoreload 2"
   ]
  },
  {
   "cell_type": "code",
   "execution_count": 33,
   "id": "e63b25c9",
   "metadata": {},
   "outputs": [],
   "source": [
    "dynamic_points = get_dynamic_points(0.4, 10)"
   ]
  },
  {
   "cell_type": "code",
   "execution_count": 34,
   "id": "2f46c1ed",
   "metadata": {},
   "outputs": [],
   "source": [
    "mlab.points3d(dynamic_points[:,0], dynamic_points[:,1], dynamic_points[:,2], mode='point')\n",
    "mlab.show()"
   ]
  },
  {
   "cell_type": "code",
   "execution_count": 38,
   "id": "791ef652",
   "metadata": {},
   "outputs": [],
   "source": [
    "clustering = DBSCAN(eps = 0.7, min_samples=15).fit(dynamic_points)"
   ]
  },
  {
   "cell_type": "code",
   "execution_count": 39,
   "id": "bb7f43e4",
   "metadata": {},
   "outputs": [],
   "source": [
    "labels = (clustering.labels_ + 1) / 71"
   ]
  },
  {
   "cell_type": "code",
   "execution_count": 40,
   "id": "d3d95506",
   "metadata": {},
   "outputs": [],
   "source": [
    "mlab.points3d(dynamic_points[:,0], dynamic_points[:,1], dynamic_points[:,2], labels, mode='point')\n",
    "mlab.show()"
   ]
  },
  {
   "cell_type": "markdown",
   "id": "111b0f56",
   "metadata": {},
   "source": [
    "## TODO: dynamic points delat pomocne pole kde 0 znaci staticky bod, 1 znaci dynamicky a nedelat if x in voxels"
   ]
  },
  {
   "cell_type": "code",
   "execution_count": null,
   "id": "e3b72fe5",
   "metadata": {},
   "outputs": [],
   "source": []
  }
 ],
 "metadata": {
  "kernelspec": {
   "display_name": "bakalarka",
   "language": "python",
   "name": "bakalarka"
  },
  "language_info": {
   "codemirror_mode": {
    "name": "ipython",
    "version": 3
   },
   "file_extension": ".py",
   "mimetype": "text/x-python",
   "name": "python",
   "nbconvert_exporter": "python",
   "pygments_lexer": "ipython3",
   "version": "3.7.11"
  }
 },
 "nbformat": 4,
 "nbformat_minor": 5
}
