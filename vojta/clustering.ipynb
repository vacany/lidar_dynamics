{
 "cells": [
  {
   "cell_type": "code",
   "execution_count": 2,
   "id": "8515ae1b",
   "metadata": {},
   "outputs": [],
   "source": [
    "from tools.ground_removal import *\n",
    "from tools.voxelization import *\n",
    "from tools.pedestrians import *\n",
    "from sklearn.cluster import DBSCAN\n",
    "import numpy as np\n",
    "from mayavi import mlab\n",
    "%load_ext autoreload\n",
    "%autoreload 2"
   ]
  },
  {
   "cell_type": "code",
   "execution_count": 19,
   "outputs": [],
   "source": [
    "pcl,_ = get_frame_without_ground(0)\n",
    "mlab.points3d(pcl[:,0], pcl[:,1], pcl[:,2], mode='point')\n",
    "mlab.show()"
   ],
   "metadata": {
    "collapsed": false,
    "pycharm": {
     "name": "#%%\n"
    }
   }
  },
  {
   "cell_type": "code",
   "execution_count": null,
   "outputs": [],
   "source": [],
   "metadata": {
    "collapsed": false,
    "pycharm": {
     "name": "#%%\n"
    }
   }
  },
  {
   "cell_type": "code",
   "execution_count": 20,
   "id": "e63b25c9",
   "metadata": {},
   "outputs": [
    {
     "name": "stdout",
     "output_type": "stream",
     "text": [
      "0\n",
      "1\n",
      "2\n",
      "3\n"
     ]
    }
   ],
   "source": [
    "dynamic_points = get_dynamic_points(0.1, 0, 5)"
   ]
  },
  {
   "cell_type": "code",
   "execution_count": 22,
   "id": "2f46c1ed",
   "metadata": {},
   "outputs": [],
   "source": [
    "mlab.points3d(dynamic_points[:,0], dynamic_points[:,1], dynamic_points[:,2], mode='point')\n",
    "mlab.show()"
   ]
  },
  {
   "cell_type": "code",
   "execution_count": 3,
   "id": "791ef652",
   "metadata": {},
   "outputs": [],
   "source": [
    "clustering = DBSCAN(eps = 0.6, min_samples=8).fit(dynamic_points)\n",
    "labels = (clustering.labels_ + 1) / (clustering.labels_.max() + 1)"
   ]
  },
  {
   "cell_type": "code",
   "execution_count": 4,
   "id": "d3d95506",
   "metadata": {},
   "outputs": [],
   "source": [
    "mlab.points3d(dynamic_points[:,0], dynamic_points[:,1], dynamic_points[:,2], labels, mode='cube',scale_mode = 'none', scale_factor=0.2)\n",
    "mlab.show()"
   ]
  },
  {
   "cell_type": "markdown",
   "id": "111b0f56",
   "metadata": {},
   "source": [
    "## TODO: dynamic points delat pomocne pole kde 0 znaci staticky bod, 1 znaci dynamicky a nedelat if x in voxels\n",
    "firstly use clustering to separate noise from dynamic points - will still get some noise and dynamic objects will form separate cluster for each time frame, use clustering again to connect close clusters and eliminate clusters with no close neighbour cluster"
   ]
  },
  {
   "cell_type": "code",
   "execution_count": 5,
   "outputs": [
    {
     "name": "stdout",
     "output_type": "stream",
     "text": [
      "dynamic points 1136\n"
     ]
    }
   ],
   "source": [
    "filtered_dynamic_points = dynamic_points[labels > 0]\n",
    "filtered_labels = labels[labels > 0]\n",
    "print(\"dynamic points \" + str(len(filtered_labels)))"
   ],
   "metadata": {
    "collapsed": false,
    "pycharm": {
     "name": "#%%\n"
    }
   }
  },
  {
   "cell_type": "code",
   "execution_count": 6,
   "outputs": [],
   "source": [
    "clustering2 = DBSCAN(eps = 3.0, min_samples=30).fit(filtered_dynamic_points)\n",
    "labels2 = (clustering2.labels_ + 1) / (clustering2.labels_.max() + 1)\n",
    "filtered_dynamic_points2 = filtered_dynamic_points[labels2 > 0]\n",
    "labels2 = labels2[labels2>0]"
   ],
   "metadata": {
    "collapsed": false,
    "pycharm": {
     "name": "#%%\n"
    }
   }
  },
  {
   "cell_type": "code",
   "execution_count": 7,
   "outputs": [],
   "source": [
    "mlab.points3d(filtered_dynamic_points2[:,0], filtered_dynamic_points2[:,1], filtered_dynamic_points2[:,2], labels2, mode='cube',scale_mode = 'none', scale_factor=0.3)\n",
    "mlab.show()"
   ],
   "metadata": {
    "collapsed": false,
    "pycharm": {
     "name": "#%%\n"
    }
   }
  },
  {
   "cell_type": "code",
   "execution_count": 8,
   "outputs": [],
   "source": [
    "mlab.points3d(dynamic_points[:,0], dynamic_points[:,1], dynamic_points[:,2], mode='cube',scale_mode = 'none', scale_factor=0.1)\n",
    "mlab.points3d(filtered_dynamic_points2[:,0], filtered_dynamic_points2[:,1], filtered_dynamic_points2[:,2], labels2, mode='cube',scale_mode = 'none', scale_factor=0.2)\n",
    "mlab.show()"
   ],
   "metadata": {
    "collapsed": false,
    "pycharm": {
     "name": "#%%\n"
    }
   }
  },
  {
   "cell_type": "markdown",
   "source": [
    "# TODO\n",
    "leverage the fact that the static points (which still remains after clustering) do not change position during time"
   ],
   "metadata": {
    "collapsed": false,
    "pycharm": {
     "name": "#%% md\n"
    }
   }
  },
  {
   "cell_type": "markdown",
   "source": [
    "Ground truth dynamic points"
   ],
   "metadata": {
    "collapsed": false,
    "pycharm": {
     "name": "#%% md\n"
    }
   }
  },
  {
   "cell_type": "code",
   "execution_count": 9,
   "outputs": [
    {
     "name": "stdout",
     "output_type": "stream",
     "text": [
      "330\n"
     ]
    }
   ],
   "source": [
    "pts, intens = get_frame(0)\n",
    "dynamic_mask = get_dynamic_points_mask(0)\n",
    "pts = pts[dynamic_mask]\n",
    "print(dynamic_mask.sum())\n",
    "#print(pts[dynamic_mask].shape)\n",
    "\n",
    "for frame in range(1,15):\n",
    "    p, i = get_frame(frame)\n",
    "    m = get_dynamic_points_mask(frame)\n",
    "    pts = np.concatenate((pts, p[m]))\n",
    "    #intens = np.concatenate((intens, i))\n",
    "    #dynamic_mask = np.concatenate((dynamic_mask, m))\n"
   ],
   "metadata": {
    "collapsed": false,
    "pycharm": {
     "name": "#%%\n"
    }
   }
  },
  {
   "cell_type": "code",
   "execution_count": 14,
   "outputs": [],
   "source": [
    "mlab.points3d(dynamic_points[:,0], dynamic_points[:,1], dynamic_points[:,2], mode='cube',scale_mode = 'none', scale_factor=0.1)\n",
    "mlab.points3d(pts[:,0], pts[:,1], pts[:,2], mode='cube', scale_mode = 'none', scale_factor=0.1, color=(1,0,0))\n",
    "mlab.show()"
   ],
   "metadata": {
    "collapsed": false,
    "pycharm": {
     "name": "#%%\n"
    }
   }
  },
  {
   "cell_type": "code",
   "execution_count": 9,
   "outputs": [
    {
     "data": {
      "text/plain": "(122829,)"
     },
     "execution_count": 9,
     "metadata": {},
     "output_type": "execute_result"
    }
   ],
   "source": [
    "dynamic_mask.shape"
   ],
   "metadata": {
    "collapsed": false,
    "pycharm": {
     "name": "#%%\n"
    }
   }
  },
  {
   "cell_type": "code",
   "execution_count": 10,
   "outputs": [
    {
     "data": {
      "text/plain": "(122829, 3)"
     },
     "execution_count": 10,
     "metadata": {},
     "output_type": "execute_result"
    }
   ],
   "source": [
    "pts.shape"
   ],
   "metadata": {
    "collapsed": false,
    "pycharm": {
     "name": "#%%\n"
    }
   }
  },
  {
   "cell_type": "code",
   "execution_count": 105,
   "outputs": [],
   "source": [
    "file_name = \"0\" * int(6 - (len(str(1)))) + str(1)\n",
    "labels = np.fromfile(PATH + \"labels/\" + file_name + \".label\", dtype=np.uint32)"
   ],
   "metadata": {
    "collapsed": false,
    "pycharm": {
     "name": "#%%\n"
    }
   }
  },
  {
   "cell_type": "code",
   "execution_count": null,
   "outputs": [],
   "source": [],
   "metadata": {
    "collapsed": false,
    "pycharm": {
     "name": "#%%\n"
    }
   }
  },
  {
   "cell_type": "code",
   "execution_count": null,
   "outputs": [],
   "source": [],
   "metadata": {
    "collapsed": false,
    "pycharm": {
     "name": "#%%\n"
    }
   }
  },
  {
   "cell_type": "markdown",
   "source": [
    "# Detecting people\n",
    "\n",
    "TODO: nejdriv dbscan s malou epsilon vzdalenosti a potom udelat voxelizaci a v kazdym voxelu koukat na to, jestli kdyz tam nazacatku byly body z jednoho shluku tak jeslti tam za nekolik snimku nejsou zadne body tohoto shluku"
   ],
   "metadata": {
    "collapsed": false,
    "pycharm": {
     "name": "#%% md\n"
    }
   }
  },
  {
   "cell_type": "code",
   "execution_count": 3,
   "outputs": [
    {
     "ename": "FileNotFoundError",
     "evalue": "[Errno 2] No such file or directory: '../../semantic_kitti_data/sequences/05/velodyne/000000.bin'",
     "output_type": "error",
     "traceback": [
      "\u001B[0;31m---------------------------------------------------------------------------\u001B[0m",
      "\u001B[0;31mFileNotFoundError\u001B[0m                         Traceback (most recent call last)",
      "\u001B[0;32m<ipython-input-3-932ccbab1897>\u001B[0m in \u001B[0;36m<module>\u001B[0;34m\u001B[0m\n\u001B[0;32m----> 1\u001B[0;31m \u001B[0mpts\u001B[0m\u001B[0;34m,\u001B[0m \u001B[0mintens\u001B[0m \u001B[0;34m=\u001B[0m \u001B[0mget_synchronized_frames_without_ground\u001B[0m\u001B[0;34m(\u001B[0m\u001B[0;36m0\u001B[0m\u001B[0;34m,\u001B[0m\u001B[0;36m10\u001B[0m\u001B[0;34m)\u001B[0m\u001B[0;34m\u001B[0m\u001B[0;34m\u001B[0m\u001B[0m\n\u001B[0m\u001B[1;32m      2\u001B[0m \u001B[0mmlab\u001B[0m\u001B[0;34m.\u001B[0m\u001B[0mpoints3d\u001B[0m\u001B[0;34m(\u001B[0m\u001B[0mpts\u001B[0m\u001B[0;34m[\u001B[0m\u001B[0;34m:\u001B[0m\u001B[0;34m,\u001B[0m\u001B[0;36m0\u001B[0m\u001B[0;34m]\u001B[0m\u001B[0;34m,\u001B[0m \u001B[0mpts\u001B[0m\u001B[0;34m[\u001B[0m\u001B[0;34m:\u001B[0m\u001B[0;34m,\u001B[0m\u001B[0;36m1\u001B[0m\u001B[0;34m]\u001B[0m\u001B[0;34m,\u001B[0m \u001B[0mpts\u001B[0m\u001B[0;34m[\u001B[0m\u001B[0;34m:\u001B[0m\u001B[0;34m,\u001B[0m\u001B[0;36m2\u001B[0m\u001B[0;34m]\u001B[0m\u001B[0;34m,\u001B[0m \u001B[0mpts\u001B[0m\u001B[0;34m[\u001B[0m\u001B[0;34m:\u001B[0m\u001B[0;34m,\u001B[0m\u001B[0;36m3\u001B[0m\u001B[0;34m]\u001B[0m\u001B[0;34m,\u001B[0m \u001B[0mmode\u001B[0m\u001B[0;34m=\u001B[0m\u001B[0;34m'point'\u001B[0m\u001B[0;34m)\u001B[0m\u001B[0;34m\u001B[0m\u001B[0;34m\u001B[0m\u001B[0m\n\u001B[1;32m      3\u001B[0m \u001B[0mmlab\u001B[0m\u001B[0;34m.\u001B[0m\u001B[0mshow\u001B[0m\u001B[0;34m(\u001B[0m\u001B[0;34m)\u001B[0m\u001B[0;34m\u001B[0m\u001B[0;34m\u001B[0m\u001B[0m\n",
      "\u001B[0;32m~/Library/Mobile Documents/com~apple~CloudDocs/School/bakalarka/lidar_dynamics/vojta/tools/ground_removal.py\u001B[0m in \u001B[0;36mget_synchronized_frames_without_ground\u001B[0;34m(first_frame, num_of_frames)\u001B[0m\n\u001B[1;32m    179\u001B[0m \u001B[0;34m\u001B[0m\u001B[0m\n\u001B[1;32m    180\u001B[0m \u001B[0;32mdef\u001B[0m \u001B[0mget_synchronized_frames_without_ground\u001B[0m\u001B[0;34m(\u001B[0m\u001B[0mfirst_frame\u001B[0m\u001B[0;34m,\u001B[0m \u001B[0mnum_of_frames\u001B[0m\u001B[0;34m)\u001B[0m\u001B[0;34m:\u001B[0m\u001B[0;34m\u001B[0m\u001B[0;34m\u001B[0m\u001B[0m\n\u001B[0;32m--> 181\u001B[0;31m     \u001B[0mpts\u001B[0m\u001B[0;34m,\u001B[0m \u001B[0mintens\u001B[0m \u001B[0;34m=\u001B[0m \u001B[0mget_frame_without_ground\u001B[0m\u001B[0;34m(\u001B[0m\u001B[0mfirst_frame\u001B[0m\u001B[0;34m)\u001B[0m\u001B[0;34m\u001B[0m\u001B[0;34m\u001B[0m\u001B[0m\n\u001B[0m\u001B[1;32m    182\u001B[0m     \u001B[0mpts\u001B[0m \u001B[0;34m=\u001B[0m \u001B[0mnp\u001B[0m\u001B[0;34m.\u001B[0m\u001B[0mhstack\u001B[0m\u001B[0;34m(\u001B[0m\u001B[0;34m(\u001B[0m\u001B[0mpts\u001B[0m\u001B[0;34m,\u001B[0m \u001B[0mnp\u001B[0m\u001B[0;34m.\u001B[0m\u001B[0mones\u001B[0m\u001B[0;34m(\u001B[0m\u001B[0;34m(\u001B[0m\u001B[0mpts\u001B[0m\u001B[0;34m.\u001B[0m\u001B[0mshape\u001B[0m\u001B[0;34m[\u001B[0m\u001B[0;36m0\u001B[0m\u001B[0;34m]\u001B[0m\u001B[0;34m,\u001B[0m \u001B[0;36m1\u001B[0m\u001B[0;34m)\u001B[0m\u001B[0;34m)\u001B[0m \u001B[0;34m*\u001B[0m \u001B[0mfirst_frame\u001B[0m\u001B[0;34m)\u001B[0m\u001B[0;34m)\u001B[0m \u001B[0;31m# time first_frame\u001B[0m\u001B[0;34m\u001B[0m\u001B[0;34m\u001B[0m\u001B[0m\n\u001B[1;32m    183\u001B[0m     \u001B[0;32mfor\u001B[0m \u001B[0mi\u001B[0m \u001B[0;32min\u001B[0m \u001B[0mrange\u001B[0m\u001B[0;34m(\u001B[0m\u001B[0mfirst_frame\u001B[0m \u001B[0;34m+\u001B[0m \u001B[0;36m1\u001B[0m\u001B[0;34m,\u001B[0m \u001B[0mfirst_frame\u001B[0m \u001B[0;34m+\u001B[0m \u001B[0mnum_of_frames\u001B[0m\u001B[0;34m)\u001B[0m\u001B[0;34m:\u001B[0m\u001B[0;34m\u001B[0m\u001B[0;34m\u001B[0m\u001B[0m\n",
      "\u001B[0;32m~/Library/Mobile Documents/com~apple~CloudDocs/School/bakalarka/lidar_dynamics/vojta/tools/ground_removal.py\u001B[0m in \u001B[0;36mget_frame_without_ground\u001B[0;34m(number)\u001B[0m\n\u001B[1;32m    138\u001B[0m     \"\"\"\n\u001B[1;32m    139\u001B[0m     \u001B[0mfile_name\u001B[0m \u001B[0;34m=\u001B[0m \u001B[0;34m\"0\"\u001B[0m \u001B[0;34m*\u001B[0m \u001B[0mint\u001B[0m\u001B[0;34m(\u001B[0m\u001B[0;36m6\u001B[0m \u001B[0;34m-\u001B[0m \u001B[0;34m(\u001B[0m\u001B[0mlen\u001B[0m\u001B[0;34m(\u001B[0m\u001B[0mstr\u001B[0m\u001B[0;34m(\u001B[0m\u001B[0mnumber\u001B[0m\u001B[0;34m)\u001B[0m\u001B[0;34m)\u001B[0m\u001B[0;34m)\u001B[0m\u001B[0;34m)\u001B[0m \u001B[0;34m+\u001B[0m \u001B[0mstr\u001B[0m\u001B[0;34m(\u001B[0m\u001B[0mnumber\u001B[0m\u001B[0;34m)\u001B[0m\u001B[0;34m\u001B[0m\u001B[0;34m\u001B[0m\u001B[0m\n\u001B[0;32m--> 140\u001B[0;31m     \u001B[0mscan\u001B[0m \u001B[0;34m=\u001B[0m \u001B[0mnp\u001B[0m\u001B[0;34m.\u001B[0m\u001B[0mfromfile\u001B[0m\u001B[0;34m(\u001B[0m\u001B[0mPATH\u001B[0m \u001B[0;34m+\u001B[0m \u001B[0;34m\"velodyne/\"\u001B[0m \u001B[0;34m+\u001B[0m \u001B[0mfile_name\u001B[0m \u001B[0;34m+\u001B[0m \u001B[0;34m\".bin\"\u001B[0m\u001B[0;34m,\u001B[0m \u001B[0mdtype\u001B[0m\u001B[0;34m=\u001B[0m\u001B[0mnp\u001B[0m\u001B[0;34m.\u001B[0m\u001B[0mfloat32\u001B[0m\u001B[0;34m)\u001B[0m\u001B[0;34m\u001B[0m\u001B[0;34m\u001B[0m\u001B[0m\n\u001B[0m\u001B[1;32m    141\u001B[0m     \u001B[0mscan\u001B[0m \u001B[0;34m=\u001B[0m \u001B[0mscan\u001B[0m\u001B[0;34m.\u001B[0m\u001B[0mreshape\u001B[0m\u001B[0;34m(\u001B[0m\u001B[0;34m(\u001B[0m\u001B[0;34m-\u001B[0m\u001B[0;36m1\u001B[0m\u001B[0;34m,\u001B[0m \u001B[0;36m4\u001B[0m\u001B[0;34m)\u001B[0m\u001B[0;34m)\u001B[0m\u001B[0;34m\u001B[0m\u001B[0;34m\u001B[0m\u001B[0m\n\u001B[1;32m    142\u001B[0m     \u001B[0mintensities\u001B[0m \u001B[0;34m=\u001B[0m \u001B[0mscan\u001B[0m\u001B[0;34m[\u001B[0m\u001B[0;34m:\u001B[0m\u001B[0;34m,\u001B[0m \u001B[0;36m3\u001B[0m\u001B[0;34m]\u001B[0m\u001B[0;34m\u001B[0m\u001B[0;34m\u001B[0m\u001B[0m\n",
      "\u001B[0;31mFileNotFoundError\u001B[0m: [Errno 2] No such file or directory: '../../semantic_kitti_data/sequences/05/velodyne/000000.bin'"
     ]
    }
   ],
   "source": [
    "pts, intens = get_synchronized_frames_without_ground(0,10)\n",
    "mlab.points3d(pts[:,0], pts[:,1], pts[:,2], pts[:,3], mode='point')\n",
    "mlab.show()"
   ],
   "metadata": {
    "collapsed": false,
    "pycharm": {
     "name": "#%%\n"
    }
   }
  },
  {
   "cell_type": "code",
   "execution_count": 178,
   "outputs": [
    {
     "name": "stdout",
     "output_type": "stream",
     "text": [
      "formed 139 number of clusters\n"
     ]
    }
   ],
   "source": [
    "# clustering = DBSCAN(eps = 0.4, min_samples=10).fit(pts[:,:4]) # clustering with time as one coordinate, TODO might be usefull?\n",
    "clustering = DBSCAN(eps = 0.3, min_samples=100, n_jobs=-1).fit(pts[:,:3])\n",
    "labels = (clustering.labels_ + 1) / (clustering.labels_.max() + 1)\n",
    "print(f\"formed {clustering.labels_.max() + 1} number of clusters\")"
   ],
   "metadata": {
    "collapsed": false,
    "pycharm": {
     "name": "#%%\n"
    }
   }
  },
  {
   "cell_type": "code",
   "execution_count": 180,
   "outputs": [],
   "source": [
    "clustered_mask = labels > 0\n",
    "mlab.points3d(pts[:,0][clustered_mask], pts[:,1][clustered_mask], pts[:,2][clustered_mask], labels[clustered_mask], mode='point')\n",
    "mlab.show()"
   ],
   "metadata": {
    "collapsed": false,
    "pycharm": {
     "name": "#%%\n"
    }
   }
  },
  {
   "cell_type": "markdown",
   "source": [
    "In each cluster, compute centroid (mean of points) in time t0, t1, t2 ... and compare how do they differ, if there is little to no movement/change - static cluster, otherwise dynamic"
   ],
   "metadata": {
    "collapsed": false,
    "pycharm": {
     "name": "#%% md\n"
    }
   }
  },
  {
   "cell_type": "code",
   "execution_count": 96,
   "outputs": [],
   "source": [],
   "metadata": {
    "collapsed": false,
    "pycharm": {
     "name": "#%%\n"
    }
   }
  },
  {
   "cell_type": "markdown",
   "source": [],
   "metadata": {
    "collapsed": false
   }
  },
  {
   "cell_type": "code",
   "execution_count": 181,
   "outputs": [
    {
     "name": "stdout",
     "output_type": "stream",
     "text": [
      "cluster 0 [-0.00321994 -0.00385459  0.00816561]\n",
      "cluster 1 [-0.00412364 -0.00916053  0.00210797]\n",
      "cluster 2 [-0.00125728 -0.00637047  0.00466981]\n",
      "cluster 3 [-0.00833369  0.00567463  0.00827979]\n",
      "cluster 4 [ 0.00115354 -0.0112289   0.0044886 ]\n",
      "cluster 5 [-0.00222893 -0.00450391  0.00383949]\n",
      "cluster 6 [-0.00361377  0.00726656  0.00267026]\n",
      "cluster 7 [-0.0029488   0.00468001  0.00517958]\n",
      "cluster 8 [-0.00179695  0.00201502  0.00043335]\n",
      "cluster 9 [ 0.0064451   0.00287207 -0.00491468]\n",
      "cluster 10 [0.01141739 0.00343974 0.00186328]\n",
      "cluster 11 [0.00937691 0.00336051 0.00258787]\n",
      "cluster 12 [-0.00223744  0.0016092   0.01499641]\n",
      "cluster 13 [ 0.00514632 -0.01061343 -0.00300665]\n",
      "cluster 14 [-0.0048148   0.00183914  0.00125581]\n",
      "cluster 15 [-0.00750609  0.00262548 -0.00457061]\n",
      "cluster 16 [-0.00561076  0.00216127  0.0014158 ]\n",
      "cluster 17 [-0.00890002  0.01107443 -0.00371223]\n",
      "cluster 18 [-0.00704801  0.01223143 -0.00396048]\n",
      "cluster 19 [0.03156877 0.00247604 0.00014293]\n",
      "cluster 20 [-0.0098891   0.02466093  0.01203635]\n",
      "cluster 21 [-0.01246275  0.00920683  0.00167625]\n",
      "cluster 22 [-2.21635397e-02  3.33869473e-02 -2.60430448e-05]\n",
      "cluster 23 [-0.05096624 -0.00148669  0.00436927]\n",
      "cluster 24 [-0.00677987 -0.00198516  0.00806434]\n",
      "cluster 25 [-0.01175944 -0.01302303  0.00525742]\n",
      "cluster 26 [-0.0032897   0.01609584  0.00897523]\n",
      "cluster 27 [-0.00902065  0.00493261  0.00139804]\n",
      "cluster 28 [-0.01018921 -0.00837105  0.00106149]\n",
      "cluster 29 [-0.00621188 -0.00474081  0.00764743]\n",
      "cluster 30 [-0.00832837 -0.01974296  0.00294149]\n",
      "cluster 31 [-0.00155277 -0.00489177 -0.01255984]\n",
      "cluster 32 [-0.00596275 -0.01856614  0.00720328]\n",
      "cluster 33 [-0.00141515 -0.005441    0.00350424]\n",
      "cluster 34 [-0.02507013 -0.00494927  0.01210622]\n",
      "cluster 35 [-0.00298474 -0.00668473 -0.00447217]\n",
      "cluster 36 [-0.00375264  0.00147872  0.00599758]\n",
      "cluster 37 [-0.01011677 -0.00307567  0.01062037]\n",
      "cluster 38 [-0.02010734 -0.00694957  0.00238004]\n",
      "cluster 39 [-0.00695983 -0.00866802 -0.00020456]\n",
      "cluster 40 [-0.0126817   0.00641906 -0.04418569]\n",
      "cluster 41 [-0.0044262   0.00361718  0.00541775]\n",
      "cluster 42 [-0.07691246 -0.00550557  0.00086718]\n",
      "cluster 43 [-0.0129403 -0.0088813  0.0014097]\n",
      "cluster 44 [-0.00832851 -0.00280897 -0.00082218]\n",
      "cluster 45 [ 0.00063531 -0.04268676  0.0022148 ]\n",
      "cluster 46 [-0.00466926 -0.00637805 -0.00255743]\n",
      "cluster 47 [-0.00367321 -0.00843798  0.00142455]\n",
      "cluster 48 [-0.0023249  -0.00296762  0.00743743]\n",
      "cluster 49 [-0.00090444  0.00680397 -0.00072445]\n",
      "cluster 50 [-0.02468118 -0.00350755  0.001127  ]\n",
      "cluster 51 [0.0024073  0.00339855 0.01219014]\n",
      "cluster 52 [-0.00951031 -0.01109152  0.00653459]\n",
      "cluster 53 [-0.00916423 -0.00500627  0.0072254 ]\n",
      "cluster 54 [-0.00440317 -0.00395058 -0.00277923]\n",
      "cluster 55 [-0.00887917 -0.00534953 -0.00205793]\n",
      "cluster 56 [-0.00348143  0.00944567 -0.00241428]\n",
      "cluster 57 [-0.00107673 -0.00667918 -0.00180041]\n",
      "cluster 58 [-0.01114722  0.00433655 -0.00023396]\n",
      "cluster 59 [-0.00155041 -0.00807764 -0.00037739]\n",
      "cluster 60 [-0.00036234 -0.00423823  0.00136488]\n",
      "cluster 61 [-0.00319309 -0.01084702  0.00588401]\n",
      "cluster 62 [-0.0102325  -0.00918999 -0.00596018]\n",
      "cluster 63 [-0.00636544 -0.00729557 -0.00092974]\n",
      "cluster 64 [-0.005371   -0.01076425 -0.00491196]\n",
      "cluster 65 [-0.00217609 -0.00772731  0.00276389]\n",
      "cluster 66 [-0.00030901 -0.00643572  0.00188216]\n",
      "cluster 67 [0.001689   0.00252814 0.00581599]\n",
      "cluster 68 [-0.00353862  0.00311793  0.00477908]\n",
      "cluster 69 [-0.00659457 -0.00203353  0.00561772]\n",
      "cluster 70 [-0.00291738 -0.00609491  0.00788849]\n",
      "cluster 71 [-0.00397438 -0.01179174 -0.00204229]\n",
      "cluster 72 [-0.00421217  0.00402707  0.00472075]\n",
      "cluster 73 [-0.00626161  0.00123921  0.00461644]\n",
      "cluster 74 [-1.59532622e-02 -6.66661535e-04  2.29118935e-05]\n",
      "cluster 75 [-0.01665915 -0.00094219 -0.0113335 ]\n",
      "cluster 76 [-1.92822557e-02 -2.39017436e-02 -5.39622884e-05]\n",
      "cluster 77 [ 0.00095222 -0.00386674  0.00144809]\n",
      "cluster 78 [-0.00678521  0.00262596  0.00495899]\n",
      "cluster 79 [-0.00774825  0.00263363  0.00603314]\n",
      "cluster 80 [-0.00782749  0.004887    0.00524809]\n",
      "cluster 81 [-0.0240826  -0.0023061  -0.00225754]\n",
      "cluster 82 [ 0.11289134 -0.00399005  0.00598519]\n",
      "cluster 83 [ 0.01351483 -0.00644001  0.00695701]\n",
      "cluster 84 [-0.02985034 -0.00081773  0.00070941]\n",
      "cluster 85 [-0.00180531 -0.00736046 -0.00098975]\n",
      "cluster 86 [-0.00717848  0.00237742  0.0050336 ]\n",
      "cluster 87 [-0.01049607  0.01773521 -0.01309939]\n",
      "cluster 88 [-0.01116751 -0.01429751  0.00082294]\n",
      "cluster 89 [-0.00385313 -0.00732983  0.00323998]\n",
      "cluster 90 [-0.0152685  -0.00439037  0.01413773]\n",
      "cluster 91 [-0.01074544 -0.01966728  0.0046809 ]\n",
      "cluster 92 [-0.0025187  -0.01071178  0.00087344]\n",
      "cluster 93 [-0.00781536  0.00605153  0.00727023]\n",
      "cluster 94 [-0.0118712  -0.01990013  0.00320436]\n",
      "cluster 95 [-0.0059663   0.00389432  0.00356703]\n",
      "cluster 96 [-0.0236822  -0.00584785  0.00354582]\n",
      "cluster 97 [-0.01458784 -0.00068317 -0.00461903]\n",
      "cluster 98 [-0.00048704 -0.01768916 -0.00376543]\n",
      "cluster 99 [-0.00337817  0.00024998  0.00858055]\n",
      "cluster 100 [-0.0053104   0.00625759 -0.0026513 ]\n",
      "cluster 101 [-0.00586737 -0.0001867   0.00249339]\n",
      "cluster 102 [-0.00238372 -0.00487859  0.00238678]\n",
      "cluster 103 [-0.00048504  0.00106191  0.00453752]\n",
      "cluster 104 [-0.00437552  0.00395146  0.00097603]\n",
      "cluster 105 [-0.00224168 -0.00063592  0.00056428]\n",
      "cluster 106 [-0.0059406  -0.04554288  0.02944843]\n",
      "cluster 107 [-0.0066757   0.00367052  0.00563445]\n",
      "cluster 108 [-0.00059756  0.00069477  0.00300075]\n",
      "cluster 109 [-2.39134952e-02  2.78083137e-03  5.74906257e-05]\n",
      "cluster 110 [-0.0123233  -0.00262125  0.00552932]\n",
      "cluster 111 [ 0.0047393  -0.00251779  0.00900108]\n",
      "cluster 112 [-0.00671616 -0.00046995 -0.00488892]\n",
      "cluster 113 [-0.01147194 -0.0036189  -0.00033088]\n",
      "cluster 114 [-0.0033322  -0.01404892 -0.00248292]\n",
      "cluster 115 [0.0026662  0.0048052  0.00138795]\n",
      "cluster 116 [ 0.00241909 -0.01347586 -0.00506836]\n",
      "cluster 117 [-0.00388855 -0.00889769  0.00304909]\n",
      "cluster 118 [-0.00062106  0.00122574  0.00113586]\n",
      "cluster 119 [-0.00619032  0.00047708 -0.00149047]\n",
      "cluster 120 [-0.01733513  0.00084036  0.00742308]\n",
      "cluster 121 [-0.01270664  0.00554786  0.00634033]\n",
      "cluster 122 [-0.00285109  0.0089252  -0.00954844]\n",
      "cluster 123 [-0.00228732  0.0065683  -0.00537939]\n",
      "cluster 124 [-0.00285894  0.0091697  -0.00163997]\n",
      "cluster 125 [ 0.00395011 -0.00500937  0.00938042]\n",
      "cluster 126 [ 0.00281202  0.00226497 -0.00070289]\n",
      "cluster 127 [-0.01918802 -0.01337129 -0.00506783]\n",
      "cluster 128 [-0.05819183 -0.00374607 -0.02584853]\n",
      "cluster 129 [-3.91485651e-05 -7.49422844e-03  2.33908431e-03]\n",
      "cluster 130 [-0.00284353  0.00630273  0.0050784 ]\n",
      "cluster 131 [ 0.00055132  0.00325167 -0.00074288]\n",
      "cluster 132 [-0.00756669 -0.01725761  0.00106222]\n",
      "cluster 133 [-0.00306066 -0.00261455  0.00717298]\n",
      "cluster 134 [-0.00150832  0.00636995  0.0031659 ]\n",
      "cluster 135 [-0.0462865   0.01966641 -0.02955982]\n",
      "cluster 136 [-0.03486186  0.00012812  0.06095739]\n",
      "cluster 137 [-0.0009782  -0.00286576 -0.00627642]\n",
      "cluster 138 [-0.02166472 -0.01053081  0.00033824]\n"
     ]
    }
   ],
   "source": [
    "cl = clustering.labels_\n",
    "first_frame = 0\n",
    "num_of_frames = 10\n",
    "dynamic_clusters = []\n",
    "differences = []\n",
    "for cluster in range(0, cl.max() + 1):\n",
    "\n",
    "    centroids = []\n",
    "    mask = cl == cluster\n",
    "    cluster_points = pts[mask]\n",
    "    #print(f\"cluster {cluster} with {cluster_points.shape[0]} num of points\")\n",
    "    for time in range(first_frame, first_frame + num_of_frames):\n",
    "        mask_time = cluster_points[:,3] == time\n",
    "        time_points = cluster_points[mask_time]\n",
    "        if time_points.shape[0] == 0:\n",
    "            continue\n",
    "        centroid = np.sum(time_points, axis=0)[:3] / time_points.shape[0]\n",
    "        #print(centroid)\n",
    "        #print(\"------------\")\n",
    "        centroids.append(centroid)\n",
    "\n",
    "    # compute pairwise difference e.g: centroid[1] - centroid[0], centroid[2] - centroid[1]...\n",
    "    average_difference = 0\n",
    "    for i in range(len(centroids) - 1):\n",
    "        average_difference += centroids[i + 1] - centroids[i]\n",
    "\n",
    "    average_difference = average_difference / (len(centroids) - 1)\n",
    "    print(f\"cluster {cluster} {average_difference}\")\n",
    "    differences.append(average_difference)"
   ],
   "metadata": {
    "collapsed": false,
    "pycharm": {
     "name": "#%%\n"
    }
   }
  },
  {
   "cell_type": "code",
   "execution_count": 182,
   "outputs": [
    {
     "data": {
      "text/plain": "array([[82]])"
     },
     "execution_count": 182,
     "metadata": {},
     "output_type": "execute_result"
    }
   ],
   "source": [
    "differences = np.array(differences)\n",
    "#dynamic_mask = differences[:,0] >= 0.11\n",
    "#dynamic_clusters = np.argwhere(differences[:,0] >= 0.08)\n",
    "dynamic_clusters = np.argwhere(np.linalg.norm(differences[:,0:2], axis=1) >= 0.08)\n",
    "dynamic_clusters"
   ],
   "metadata": {
    "collapsed": false,
    "pycharm": {
     "name": "#%%\n"
    }
   }
  },
  {
   "cell_type": "code",
   "execution_count": 183,
   "outputs": [],
   "source": [
    "clustered_mask = clustering.labels_ == 82\n",
    "\n",
    "mlab.points3d(pts[:,0][clustered_mask], pts[:,1][clustered_mask], pts[:,2][clustered_mask], color=(1,0,0), mode='point')\n",
    "mlab.points3d(pts[:,0][~clustered_mask], pts[:,1][~clustered_mask], pts[:,2][~clustered_mask],  mode='point')\n",
    "mlab.show()"
   ],
   "metadata": {
    "collapsed": false,
    "pycharm": {
     "name": "#%%\n"
    }
   }
  },
  {
   "cell_type": "code",
   "execution_count": 116,
   "outputs": [],
   "source": [],
   "metadata": {
    "collapsed": false,
    "pycharm": {
     "name": "#%%\n"
    }
   }
  },
  {
   "cell_type": "code",
   "execution_count": 12,
   "outputs": [],
   "source": [],
   "metadata": {
    "collapsed": false,
    "pycharm": {
     "name": "#%%\n"
    }
   }
  },
  {
   "cell_type": "code",
   "execution_count": 5,
   "outputs": [],
   "source": [],
   "metadata": {
    "collapsed": false,
    "pycharm": {
     "name": "#%%\n"
    }
   }
  },
  {
   "cell_type": "code",
   "execution_count": 12,
   "outputs": [],
   "source": [],
   "metadata": {
    "collapsed": false,
    "pycharm": {
     "name": "#%%\n"
    }
   }
  },
  {
   "cell_type": "code",
   "execution_count": 12,
   "outputs": [],
   "source": [],
   "metadata": {
    "collapsed": false,
    "pycharm": {
     "name": "#%%\n"
    }
   }
  },
  {
   "cell_type": "code",
   "execution_count": 86,
   "outputs": [],
   "source": [
    "mlab.points3d(pts[:,0], pts[:,1], pts[:,2], pts[:,3], mode='point')\n",
    "mlab.show()"
   ],
   "metadata": {
    "collapsed": false,
    "pycharm": {
     "name": "#%%\n"
    }
   }
  },
  {
   "cell_type": "code",
   "execution_count": 6,
   "outputs": [],
   "source": [
    "pts, intens = get_synchronized_frames_without_ground(600,10)\n",
    "mlab.points3d(pts[:,0], pts[:,1], pts[:,2], pts[:,3], mode='point')\n",
    "mlab.show()"
   ],
   "metadata": {
    "collapsed": false,
    "pycharm": {
     "name": "#%%\n"
    }
   }
  },
  {
   "cell_type": "code",
   "execution_count": 96,
   "outputs": [
    {
     "name": "stdout",
     "output_type": "stream",
     "text": [
      "formed 121 number of clusters\n"
     ]
    }
   ],
   "source": [
    "#clustering = DBSCAN(eps = 0.4, min_samples=10).fit(pts[:,:4]) # clustering with time as one coordinate, TODO might be usefull?\n",
    "clustering = DBSCAN(eps = 0.3, min_samples=100).fit(pts[:,:3])\n",
    "labels = (clustering.labels_ + 1) / (clustering.labels_.max() + 1)\n",
    "print(f\"formed {clustering.labels_.max() + 1} number of clusters\")"
   ],
   "metadata": {
    "collapsed": false,
    "pycharm": {
     "name": "#%%\n"
    }
   }
  },
  {
   "cell_type": "markdown",
   "source": [
    "For frame 610 to 620, eps = 0.3, min_samples=100 the person is cluster 30"
   ],
   "metadata": {
    "collapsed": false,
    "pycharm": {
     "name": "#%% md\n"
    }
   }
  },
  {
   "cell_type": "code",
   "execution_count": 108,
   "outputs": [],
   "source": [
    "clustered_mask = labels > 0\n",
    "mlab.points3d(pts[:,0][clustered_mask], pts[:,1][clustered_mask], pts[:,2][clustered_mask], labels[clustered_mask], mode='point')\n",
    "mlab.show()"
   ],
   "metadata": {
    "collapsed": false,
    "pycharm": {
     "name": "#%%\n"
    }
   }
  },
  {
   "cell_type": "code",
   "execution_count": null,
   "outputs": [],
   "source": [],
   "metadata": {
    "collapsed": false,
    "pycharm": {
     "name": "#%%\n"
    }
   }
  },
  {
   "cell_type": "code",
   "execution_count": 124,
   "outputs": [],
   "source": [
    "clustered_mask = clustering.labels_ == 96\n",
    "\n",
    "mlab.points3d(pts[:,0][clustered_mask], pts[:,1][clustered_mask], pts[:,2][clustered_mask], color=(1,0,0), mode='point')\n",
    "#mlab.points3d(pts[:,0][~clustered_mask], pts[:,1][~clustered_mask], pts[:,2][~clustered_mask],  mode='point')\n",
    "mlab.show()"
   ],
   "metadata": {
    "collapsed": false,
    "pycharm": {
     "name": "#%%\n"
    }
   }
  },
  {
   "cell_type": "code",
   "execution_count": null,
   "outputs": [],
   "source": [],
   "metadata": {
    "collapsed": false,
    "pycharm": {
     "name": "#%%\n"
    }
   }
  },
  {
   "cell_type": "code",
   "execution_count": null,
   "outputs": [],
   "source": [],
   "metadata": {
    "collapsed": false,
    "pycharm": {
     "name": "#%%\n"
    }
   }
  },
  {
   "cell_type": "code",
   "execution_count": 225,
   "outputs": [],
   "source": [
    "labels = (clustering_labels + 1) / (clustering_labels.max() + 1)\n",
    "clustered_mask = labels > 0\n",
    "mlab.points3d(pts[:,0][clustered_mask], pts[:,1][clustered_mask], pts[:,2][clustered_mask], labels[clustered_mask], mode='point')\n",
    "mlab.show()"
   ],
   "metadata": {
    "collapsed": false,
    "pycharm": {
     "name": "#%%\n"
    }
   }
  },
  {
   "cell_type": "code",
   "execution_count": 223,
   "outputs": [
    {
     "name": "stdout",
     "output_type": "stream",
     "text": [
      "formed 121 clusters\n",
      "skipping cluster 1 at time 600 because of it's size w 0.6459751289230837, l 2.2671561316064412, h 0.8526234901182246\n",
      "skipping cluster 2 because of it's size w 14.562508044020802, l 11.80480118965238, h 2.4394148048262685\n",
      "skipping cluster 3 at time 600 because of it's size w 0.0, l 0.0, h 0.0\n",
      "skipping cluster 5 at time 600 because of it's size w 0.6726115370896366, l 3.233745801255992, h 1.7321221656366985\n",
      "skipping cluster 6 because of it's size w 8.94013532612044, l 21.33324458562666, h 3.056385482011585\n",
      "skipping cluster 7 because of it's size w 0.638023414783305, l 1.1217913382049574, h 0.4567630620429153\n",
      "skipping cluster 8 at time 600 because of it's size w 0.9472818957141556, l 4.0319781607415734, h 1.7246285751135009\n",
      "skipping cluster 9 at time 604 because of it's size w 0.10373721282357451, l 0.16138770583836504, h 0.5425771645254693\n",
      "skipping cluster 12 because of it's size w 1.7050813627448633, l 1.0700849506061445, h 2.5578891670624397\n",
      "skipping cluster 13 because of it's size w 1.8832732291487275, l 1.5931766118705184, h 3.135469399555584\n",
      "skipping cluster 14 because of it's size w 1.835870491892706, l 2.6054382586514464, h 3.0833281958512195\n",
      "skipping cluster 15 because of it's size w 2.8298461201019336, l 2.3894442694211477, h 2.547800824434484\n",
      "skipping cluster 16 because of it's size w 5.03826380641874, l 6.049057179750406, h 2.94316475089823\n",
      "skipping cluster 17 because of it's size w 3.7395138828325685, l 15.463018986832651, h 3.4119494623477578\n",
      "skipping cluster 18 because of it's size w 3.590282426548839, l 18.29296827930324, h 2.728316873828848\n",
      "skipping cluster 19 because of it's size w 8.390455572597688, l 1.2325644408965104, h 2.497871545842905\n",
      "skipping cluster 20 because of it's size w 0.8291165656788166, l 0.7384388677973277, h 0.45399403927281323\n",
      "skipping cluster 22 because of it's size w 0.7482588488454667, l 0.2602991865031754, h 0.5945814744032196\n",
      "skipping cluster 23 because of it's size w 0.6900109847282749, l 0.1821215128043434, h 0.5831931980184137\n",
      "skipping cluster 24 because of it's size w 0.15976520751465273, l 0.6128697028463534, h 0.8605119376255024\n",
      "skipping cluster 25 because of it's size w 0.22491635346591465, l 0.6115317177629152, h 0.8921632463918954\n",
      "skipping cluster 29 because of it's size w 0.2672960816885279, l 0.5910626235465486, h 1.5147187549348464\n",
      "skipping cluster 30 at time 603 because of it's size w 0.5229020101712649, l 0.2949313630574295, h 1.114422987270431\n",
      "skipping cluster 32 because of it's size w 0.24523901713016016, l 0.3528665025627049, h 0.594837039564224\n",
      "skipping cluster 34 at time 601 because of it's size w 0.3688709554905074, l 0.2929472061553611, h 0.24421217047626964\n",
      "skipping cluster 35 at time 600 because of it's size w 0.7478069833158827, l 0.2860355546435045, h 0.22714561621144558\n",
      "skipping cluster 36 at time 600 because of it's size w 0.3500000603740716, l 0.42516063876416865, h 0.3739285196438109\n",
      "skipping cluster 37 at time 600 because of it's size w 0.33019846210328296, l 0.4238571875995376, h 0.49093390871954323\n",
      "skipping cluster 38 because of it's size w 0.24768281086528532, l 0.6614666889350644, h 0.9664104925965198\n",
      "skipping cluster 39 at time 609 because of it's size w 0.4128135227341829, l 0.7870032881068028, h 0.49265257125729267\n",
      "skipping cluster 40 at time 600 because of it's size w 1.5702212998517382, l 3.2586610601532584, h 1.7232519995243853\n",
      "skipping cluster 41 at time 600 because of it's size w 0.6765294759404128, l 0.6032944793237789, h 0.19759241042954123\n",
      "skipping cluster 42 because of it's size w 0.6168508031613555, l 0.613460851212551, h 0.4304532845171485\n",
      "skipping cluster 43 at time 600 because of it's size w 2.942645603606877, l 9.125094717179508, h 1.6269043830967034\n",
      "skipping cluster 44 at time 600 because of it's size w 0.2928703316712813, l 0.3442698960928112, h 0.6554441911416689\n",
      "skipping cluster 46 at time 600 because of it's size w 0.4313448549038128, l 0.547747340882637, h 0.44944439035384764\n",
      "skipping cluster 47 at time 600 because of it's size w 1.0203265655134146, l 0.2751226243767917, h 0.8004377151268383\n",
      "skipping cluster 48 because of it's size w 0.24255040701132202, l 0.5793453040238603, h 0.7470739891653047\n",
      "skipping cluster 50 because of it's size w 0.42271788204629956, l 0.5249493423282843, h 0.4862590724092968\n",
      "skipping cluster 51 because of it's size w 0.8416617422172976, l 0.17431184378216358, h 1.1102330742929203\n",
      "skipping cluster 53 at time 600 because of it's size w 8.726060546080788, l 1.2636458282435683, h 1.7947039763786439\n",
      "skipping cluster 54 at time 600 because of it's size w 1.0014295142077856, l 0.5329476895938967, h 0.3591989751298357\n",
      "cluster 56, time 602 skipping because no points; \n",
      "\n",
      "skipping cluster 57 at time 600 because of it's size w 0.6324558873102148, l 0.35585234806288213, h 0.37758143557829094\n",
      "skipping cluster 58 at time 600 because of it's size w 0.5272512773368305, l 0.3233144995411408, h 0.24664596979173936\n",
      "skipping cluster 59 at time 608 because of it's size w 0.7558847928234229, l 0.7085125229998823, h 0.41425521239644336\n",
      "skipping cluster 60 at time 600 because of it's size w 3.178547605368493, l 7.794922506732718, h 1.741424206052919\n",
      "skipping cluster 61 at time 608 because of it's size w 0.6298891478293456, l 0.6468068065680654, h 0.48839410602865563\n",
      "skipping cluster 62 at time 601 because of it's size w 1.1543730276743531, l 0.2723495411927672, h 0.8178763097049453\n",
      "skipping cluster 63 because of it's size w 1.5413972231102093, l 0.2788658334523575, h 1.1951117529776845\n",
      "skipping cluster 66 at time 600 because of it's size w 2.2909847687558056, l 0.4025373234448182, h 0.6134430033804348\n",
      "skipping cluster 67 at time 606 because of it's size w 0.3691077355015864, l 0.5747476449320459, h 0.4692460311608704\n",
      "skipping cluster 71 at time 600 because of it's size w 0.14924907287476685, l 0.35781939735721835, h 0.39571389342161645\n",
      "skipping cluster 72 at time 600 because of it's size w 1.920588691076773, l 0.2573405466661143, h 1.0855934270477343\n",
      "skipping cluster 73 at time 605 because of it's size w 0.6164980369825628, l 0.4840009262586591, h 0.46627093555065535\n",
      "skipping cluster 74 at time 602 because of it's size w 0.26157280384674664, l 0.8958603627022512, h 1.0529124884069505\n",
      "skipping cluster 75 at time 600 because of it's size w 0.30942580759813154, l 0.3525001645928114, h 0.2641344188889265\n",
      "skipping cluster 76 at time 600 because of it's size w 0.24699768892628526, l 1.0635156715862024, h 1.0420322671207582\n",
      "skipping cluster 77 at time 602 because of it's size w 0.5696640463636982, l 0.6491449439145072, h 0.4573278513702128\n",
      "skipping cluster 78 at time 600 because of it's size w 2.2794962999216466, l 7.702724725858445, h 1.2681357548616292\n",
      "skipping cluster 79 at time 602 because of it's size w 0.42430813811992607, l 0.4594328184749088, h 0.21856062234515505\n",
      "skipping cluster 80 because of it's size w 0.8774338152016696, l 1.0652942298106893, h 0.45267273947344755\n",
      "skipping cluster 81 at time 602 because of it's size w 0.9340500567585082, l 0.6167966084537397, h 0.49359350723848205\n",
      "skipping cluster 82 because of it's size w 0.65753671939882, l 0.7585279775502158, h 0.36881883180992503\n",
      "skipping cluster 83 at time 600 because of it's size w 0.43540797322333447, l 0.32367181834268877, h 0.2602307286325516\n",
      "skipping cluster 84 at time 609 because of it's size w 1.1012755664891074, l 1.2882946902435037, h 0.4545175872489873\n",
      "skipping cluster 87 at time 600 because of it's size w 0.3630601048226936, l 1.5083258174384184, h 0.3651422305481695\n",
      "skipping cluster 88 at time 600 because of it's size w 1.8984636791941227, l 4.41875199456797, h 1.4304021530388074\n",
      "skipping cluster 89 at time 603 because of it's size w 0.8654896762431292, l 0.33052575134735207, h 0.37284619485889436\n",
      "skipping cluster 90 at time 600 because of it's size w 0.6879505694530792, l 0.2710525024421031, h 0.7721823913945478\n",
      "skipping cluster 91 because of it's size w 0.7377103187176601, l 0.8507748789824632, h 0.41543541570110776\n",
      "skipping cluster 92 because of it's size w 0.948817052839587, l 0.9511801238773785, h 0.39852507217027\n",
      "skipping cluster 93 because of it's size w 0.8424336211623711, l 0.6851752099946395, h 0.4040859335134952\n",
      "skipping cluster 94 at time 605 because of it's size w 0.6836362696212177, l 0.496824499425486, h 0.48991772963591806\n",
      "skipping cluster 95 at time 600 because of it's size w 0.40110052146624753, l 0.46342356137051866, h 0.3456063373763909\n",
      "cluster 96, time 600 skipping because no points; \n",
      "\n",
      "skipping cluster 97 at time 600 because of it's size w 1.0163030002137532, l 0.1656356628037372, h 0.6399729321371446\n",
      "skipping cluster 98 at time 600 because of it's size w 0.07332813328352472, l 0.050192712121940986, h 0.31042857928215817\n",
      "skipping cluster 99 at time 600 because of it's size w 0.1313078622461319, l 0.1658593777197268, h 0.1801586612687327\n",
      "skipping cluster 100 at time 600 because of it's size w 0.04438742741871238, l 0.21998923757888633, h 0.1784294448095478\n",
      "skipping cluster 101 at time 600 because of it's size w 0.305490983033053, l 0.4032434593433152, h 0.3202484321903718\n",
      "skipping cluster 102 at time 601 because of it's size w 0.11791593327373562, l 0.3608945315253038, h 0.11105261964696478\n",
      "skipping cluster 103 at time 602 because of it's size w 0.28521993741208007, l 0.17908667574781134, h 0.7100301711509962\n",
      "skipping cluster 104 at time 602 because of it's size w 0.23627126201165538, l 0.11166142491038045, h 0.6959053767579979\n",
      "skipping cluster 105 at time 600 because of it's size w 0.21019805559214433, l 0.01622510263993604, h 0.011609961780418843\n",
      "skipping cluster 106 at time 600 because of it's size w 0.44962500399608984, l 0.4489117698437326, h 0.39580314082945467\n",
      "skipping cluster 107 at time 601 because of it's size w 0.2058414894265468, l 0.33959314567320575, h 0.004183587452914139\n",
      "skipping cluster 108 at time 602 because of it's size w 0.1652222330972961, l 0.13197733935692213, h 0.02102576732090533\n",
      "cluster 109, time 600 skipping because no points; cluster 109, time 601 skipping because no points; cluster 109, time 602 skipping because no points; \n",
      "\n",
      "skipping cluster 110 at time 603 because of it's size w 0.5277916606752342, l 0.31091102664535697, h 0.3873463083273663\n",
      "skipping cluster 111 at time 600 because of it's size w 0.27148768487325015, l 0.7294708143332969, h 0.5662107429997532\n",
      "skipping cluster 112 because of it's size w 0.8208110589264663, l 0.7404281319757615, h 0.4915360813999934\n",
      "skipping cluster 113 at time 600 because of it's size w 0.7214597414372292, l 0.08012851040533064, h 0.16326651519941038\n",
      "skipping cluster 114 because of it's size w 0.1653300330047216, l 0.25491960123829926, h 0.16189696470212134\n",
      "skipping cluster 115 because of it's size w 0.7845348394937446, l 0.5734777734375598, h 0.37802686338453384\n",
      "skipping cluster 116 because of it's size w 0.24977872405563062, l 0.4456593708668777, h 0.29893874447441426\n",
      "skipping cluster 117 because of it's size w 0.22050777039365244, l 0.5297946435666461, h 0.29641904679220055\n",
      "skipping cluster 118 because of it's size w 0.3438103965021071, l 0.6033225570717775, h 0.4876054906805489\n",
      "skipping cluster 119 at time 600 because of it's size w 2.021691085832259, l 0.33522218509611434, h 0.5615178392844271\n",
      "skipping cluster 120 because of it's size w 0.3638277318938776, l 0.5686436933927439, h 0.26164612866191206\n"
     ]
    },
    {
     "data": {
      "text/plain": "array([[96]])"
     },
     "execution_count": 223,
     "metadata": {},
     "output_type": "execute_result"
    }
   ],
   "source": [
    "\n",
    "#pts, clustering_labels, dynamic_clusters, differences = find_pedastrians(607,10)\n",
    "pts, clustering_labels, dynamic_clusters, differences = find_pedastrians(600,10)\n",
    "dynamic_clusters"
   ],
   "metadata": {
    "collapsed": false,
    "pycharm": {
     "name": "#%%\n"
    }
   }
  },
  {
   "cell_type": "code",
   "execution_count": 206,
   "outputs": [
    {
     "data": {
      "text/plain": "array([0.01414606, 0.060895  , 0.00352182])"
     },
     "execution_count": 206,
     "metadata": {},
     "output_type": "execute_result"
    }
   ],
   "source": [
    "differences[30]"
   ],
   "metadata": {
    "collapsed": false,
    "pycharm": {
     "name": "#%%\n"
    }
   }
  },
  {
   "cell_type": "code",
   "execution_count": 226,
   "outputs": [],
   "source": [
    "clustered_mask = clustering_labels == 96\n",
    "\n",
    "mlab.points3d(pts[:,0][clustered_mask], pts[:,1][clustered_mask], pts[:,2][clustered_mask], pts[:,3][clustered_mask], mode='point')\n",
    "mlab.points3d(pts[:,0][~clustered_mask], pts[:,1][~clustered_mask], pts[:,2][~clustered_mask],  mode='point')\n",
    "mlab.show()"
   ],
   "metadata": {
    "collapsed": false,
    "pycharm": {
     "name": "#%%\n"
    }
   }
  },
  {
   "cell_type": "code",
   "execution_count": 207,
   "outputs": [
    {
     "name": "stdout",
     "output_type": "stream",
     "text": [
      "50 size w 0.8661628882726014, l 1.7221143415656002, h 1.2298518573051873\n",
      "51 size w 0.8218521742316689, l 1.7148780068693625, h 1.229210662256\n",
      "52 size w 0.6953317899130234, l 1.7144772586876584, h 1.2227393920557381\n",
      "53 size w 0.7530803633510281, l 1.7571495864106481, h 1.2233574856666758\n",
      "54 size w 0.7490417799436813, l 1.6545844664250708, h 1.229055237671976\n",
      "55 size w 0.8081813760715839, l 1.7137193445393208, h 1.2266069733287908\n",
      "56 size w 0.9223642979489668, l 1.765901671616696, h 1.2696274542175146\n",
      "57 size w 0.7187853921443832, l 1.555132730697835, h 1.081137112755457\n",
      "58 size w 0.5755600783926305, l 1.0700294126091165, h 0.8163401302292068\n",
      "59 size w 0.45681619483812597, l 0.5698436320308105, h 0.667576489345703\n"
     ]
    }
   ],
   "source": [
    "mask = clustering_labels == 30\n",
    "cluster_points = pts[mask]\n",
    "\n",
    "for time in range(50, 50 + 10):\n",
    "    mask_time = cluster_points[:, 3] == time\n",
    "    time_points = cluster_points[mask_time]\n",
    "    if time_points.shape[0] == 0:\n",
    "        print(f\"time {time} skipping because no points; \")\n",
    "        continue\n",
    "\n",
    "    width = np.abs(np.max(time_points[:, 0]) - np.min(time_points[:, 0]))\n",
    "    length = np.abs(np.max(time_points[:, 1]) - np.min(time_points[:, 1]))\n",
    "    height = np.abs(np.max(time_points[:, 2]) - np.min(time_points[:, 2]))\n",
    "    print(f\"{time} size w {width}, l {length}, h {height}\")"
   ],
   "metadata": {
    "collapsed": false,
    "pycharm": {
     "name": "#%%\n"
    }
   }
  },
  {
   "cell_type": "code",
   "execution_count": 182,
   "outputs": [
    {
     "data": {
      "text/plain": "array([-0.04741701,  0.00287904, -0.03914796])"
     },
     "execution_count": 182,
     "metadata": {},
     "output_type": "execute_result"
    }
   ],
   "source": [],
   "metadata": {
    "collapsed": false,
    "pycharm": {
     "name": "#%%\n"
    }
   }
  },
  {
   "cell_type": "code",
   "execution_count": 175,
   "outputs": [
    {
     "data": {
      "text/plain": "0.08689443161746327"
     },
     "execution_count": 175,
     "metadata": {},
     "output_type": "execute_result"
    }
   ],
   "source": [],
   "metadata": {
    "collapsed": false,
    "pycharm": {
     "name": "#%%\n"
    }
   }
  },
  {
   "cell_type": "markdown",
   "source": [
    "Ideas for centroid-difference-approach:\n",
    " * threshold each difference by maximum person movement speed\n",
    " * person's direction and speed will not change drastically between frame\n",
    " * measure average distance of all points from centroid - should be small with people\n",
    " * consider only clusters which are observable at all times - raycasting of some sort"
   ],
   "metadata": {
    "collapsed": false,
    "pycharm": {
     "name": "#%% md\n"
    }
   }
  },
  {
   "cell_type": "code",
   "execution_count": 176,
   "outputs": [],
   "source": [
    "centroids = {}\n",
    "mask = clustering_labels == 4\n",
    "cluster_points = pts[mask]\n",
    "\n",
    "width = np.abs(np.max(cluster_points[:, 0]) - np.min(cluster_points[:, 0]))\n",
    "length = np.abs(np.max(cluster_points[:, 1]) - np.min(cluster_points[:, 1]))\n",
    "height = np.abs(np.max(cluster_points[:, 2]) - np.min(cluster_points[:, 2]))"
   ],
   "metadata": {
    "collapsed": false,
    "pycharm": {
     "name": "#%%\n"
    }
   }
  },
  {
   "cell_type": "code",
   "execution_count": 177,
   "outputs": [
    {
     "name": "stdout",
     "output_type": "stream",
     "text": [
      "0.8501504247822709 0.9890869692921456 1.5789348384748871\n"
     ]
    }
   ],
   "source": [
    "print(width, length, height)\n"
   ],
   "metadata": {
    "collapsed": false,
    "pycharm": {
     "name": "#%%\n"
    }
   }
  },
  {
   "cell_type": "code",
   "execution_count": 178,
   "outputs": [
    {
     "name": "stdout",
     "output_type": "stream",
     "text": [
      "cluster 93, time 606 skipping because no points; cluster 93, time 607 skipping because no points; cluster 93, time 608 skipping because no points; cluster 93, time 609 skipping because no points; cluster 93, time 610 skipping because no points; cluster 93, time 611 skipping because no points; cluster 93, time 612 skipping because no points; \n",
      "\n"
     ]
    }
   ],
   "source": [
    "message = \"\"\n",
    "for time in range(603, 603 + 10):\n",
    "    mask_time = cluster_points[:, 3] == time\n",
    "    time_points = cluster_points[mask_time]\n",
    "    if time_points.shape[0] == 0:\n",
    "        message += f\"cluster {93}, time {time} skipping because no points; \"\n",
    "        continue\n",
    "    centroid = np.sum(time_points, axis=0)[:3] / time_points.shape[0]\n",
    "\n",
    "    centroids[time] = centroid\n",
    "    # centroids.append(centroid)\n",
    "if len(message) > 0:\n",
    "    print(message+\"\\n\")"
   ],
   "metadata": {
    "collapsed": false,
    "pycharm": {
     "name": "#%%\n"
    }
   }
  },
  {
   "cell_type": "code",
   "execution_count": 179,
   "outputs": [],
   "source": [
    "centroids_keys = list(centroids.keys())\n",
    "average_difference = 0\n",
    "num_of_differences = 0\n",
    "valid = True\n",
    "for i in range(len(centroids) - 1):\n",
    "    # only considering differences between consecutive time frames\n",
    "    if valid and centroids_keys[i + 1] == centroids_keys[i] + 1:\n",
    "        difference = centroids[centroids_keys[i + 1]] - centroids[centroids_keys[i]]\n",
    "        norm_of_difference_xy = np.linalg.norm(difference[:2])\n",
    "        if norm_of_difference_xy < MAX_MOVEMENT_SPEED_OF_PERSON:\n",
    "            average_difference += difference\n",
    "            num_of_differences += 1\n",
    "        else:\n",
    "            valid = False\n",
    "            print(f\"cluster {cluster} invalid because norm of difference at \"\n",
    "                  f\"time {centroids_keys[i + 1]} and {centroids_keys[i]} is {norm_of_difference_xy} \")\n",
    "            break\n"
   ],
   "metadata": {
    "collapsed": false,
    "pycharm": {
     "name": "#%%\n"
    }
   }
  },
  {
   "cell_type": "code",
   "execution_count": 180,
   "outputs": [
    {
     "name": "stdout",
     "output_type": "stream",
     "text": [
      "[-0.03894122  0.01619187 -0.01094214]\n",
      "0.04217339222503359\n"
     ]
    }
   ],
   "source": [
    "average_difference = average_difference / num_of_differences\n",
    "print(average_difference)\n",
    "print(np.linalg.norm(average_difference[:2]))"
   ],
   "metadata": {
    "collapsed": false,
    "pycharm": {
     "name": "#%%\n"
    }
   }
  },
  {
   "cell_type": "code",
   "execution_count": 139,
   "outputs": [
    {
     "name": "stdout",
     "output_type": "stream",
     "text": [
      "no points at time 600\n",
      "no points at time 601\n",
      "no points at time 602\n"
     ]
    }
   ],
   "source": [
    "mask = clustering_labels == 3\n",
    "cluster_points = pts[mask]\n",
    "\n",
    "for t in range(600, 610):\n",
    "    time_mask = cluster_points[:,3] == t\n",
    "    if np.sum(time_mask) == 0:\n",
    "        print(f\"no points at time {t}\")\n",
    "        continue\n",
    "    mlab.points3d(cluster_points[:,0][time_mask], cluster_points[:,1][time_mask], cluster_points[:,2][time_mask], color=(1,0,0), mode='point')\n",
    "    mlab.points3d(cluster_points[:,0][~time_mask], cluster_points[:,1][~time_mask], cluster_points[:,2][~time_mask], mode='point')\n",
    "    mlab.show()"
   ],
   "metadata": {
    "collapsed": false,
    "pycharm": {
     "name": "#%%\n"
    }
   }
  },
  {
   "cell_type": "markdown",
   "source": [
    "Points time animation"
   ],
   "metadata": {
    "collapsed": false
   }
  },
  {
   "cell_type": "code",
   "execution_count": 217,
   "outputs": [
    {
     "name": "stdout",
     "output_type": "stream",
     "text": [
      "50\n",
      "51\n",
      "52\n",
      "53\n",
      "54\n",
      "55\n",
      "56\n",
      "57\n",
      "58\n",
      "59\n",
      "50\n"
     ]
    }
   ],
   "source": [
    "mask = clustering_labels == 30\n",
    "cluster_points = pts[mask]\n",
    "time_mask = cluster_points[:,3] == 50\n",
    "centroid = np.sum(cluster_points[time_mask], axis=0)[:3]/cluster_points[time_mask].shape[0]\n",
    "mlab.points3d(cluster_points[:,0][time_mask][0], cluster_points[:,1][time_mask][0], cluster_points[:,2][time_mask][0], mode='point')\n",
    "ctrd = mlab.points3d(centroid[0], centroid[1], centroid[2],color=(1,0,0), mode='cube', scale_factor = 0.03)\n",
    "plt = mlab.points3d(cluster_points[:,0][time_mask], cluster_points[:,1][time_mask], cluster_points[:,2][time_mask], mode='point')\n",
    "\n",
    "@mlab.animate(delay=1000)\n",
    "def anim():\n",
    "    while True:\n",
    "        for t in range(50, 50 + 10):\n",
    "            time_mask = cluster_points[:,3] == t\n",
    "            if np.sum(time_mask) == 0:\n",
    "                print(f\"no points at time {t}\")\n",
    "                continue\n",
    "            print(t)\n",
    "            centroid = np.sum(cluster_points[time_mask], axis=0)[:3]/cluster_points[time_mask].shape[0]\n",
    "            ctrd.mlab_source.reset(x=centroid[0], y=centroid[1],z=centroid[2])\n",
    "            plt.mlab_source.reset(x = cluster_points[:,0][time_mask], y=cluster_points[:,1][time_mask], z=cluster_points[:,2][time_mask])\n",
    "            yield\n",
    "anim()\n",
    "mlab.show()"
   ],
   "metadata": {
    "collapsed": false,
    "pycharm": {
     "name": "#%%\n"
    }
   }
  },
  {
   "cell_type": "code",
   "execution_count": 142,
   "outputs": [
    {
     "data": {
      "text/plain": "array([[ 149.1539157 , -160.43690353,    6.21348124,  603.        ],\n       [ 149.18061161, -160.48379819,    6.2153496 ,  603.        ],\n       [ 149.19487281, -160.52522811,    6.21652421,  603.        ],\n       ...,\n       [ 150.03739786, -160.91828667,    4.6724265 ,  612.        ],\n       [ 150.0201334 , -160.96105774,    4.66845791,  612.        ],\n       [ 150.02947617, -160.9908454 ,    4.66995182,  612.        ]])"
     },
     "execution_count": 142,
     "metadata": {},
     "output_type": "execute_result"
    }
   ],
   "source": [
    "cluster_points"
   ],
   "metadata": {
    "collapsed": false,
    "pycharm": {
     "name": "#%%\n"
    }
   }
  },
  {
   "cell_type": "code",
   "execution_count": null,
   "outputs": [],
   "source": [],
   "metadata": {
    "collapsed": false,
    "pycharm": {
     "name": "#%%\n"
    }
   }
  }
 ],
 "metadata": {
  "kernelspec": {
   "display_name": "bakalarka",
   "language": "python",
   "name": "bakalarka"
  },
  "language_info": {
   "codemirror_mode": {
    "name": "ipython",
    "version": 3
   },
   "file_extension": ".py",
   "mimetype": "text/x-python",
   "name": "python",
   "nbconvert_exporter": "python",
   "pygments_lexer": "ipython3",
   "version": "3.7.11"
  }
 },
 "nbformat": 4,
 "nbformat_minor": 5
}